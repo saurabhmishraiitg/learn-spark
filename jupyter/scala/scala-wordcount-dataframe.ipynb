{
 "cells": [
  {
   "cell_type": "markdown",
   "metadata": {},
   "source": [
    "# Scala Spark Wordcount Example (using DataFrame)"
   ]
  },
  {
   "cell_type": "code",
   "execution_count": null,
   "metadata": {},
   "outputs": [],
   "source": [
    "//Using SparkContext, which is already present in the environment\n",
    "val schema = \"col1 String\"\n",
    "\n",
    "val df_inp = spark.read.schema(schema).csv(\"/user/s0m0158/data/test01\")\n",
    "df_inp.show(3)"
   ]
  },
  {
   "cell_type": "code",
   "execution_count": 8,
   "metadata": {},
   "outputs": [
    {
     "data": {
      "text/plain": [
       "input_file = /home/jovyan/jupyter/scala/../../data/wordcount-input.txt\n"
      ]
     },
     "metadata": {},
     "output_type": "display_data"
    },
    {
     "data": {
      "text/plain": [
       "/home/jovyan/jupyter/scala/../../data/wordcount-input.txt"
      ]
     },
     "execution_count": 8,
     "metadata": {},
     "output_type": "execute_result"
    }
   ],
   "source": [
    "val input_file = System.getProperty(\"user.dir\")+\"/../../data/wordcount-input.txt\"\n",
    "// print(input_file)"
   ]
  },
  {
   "cell_type": "code",
   "execution_count": 15,
   "metadata": {},
   "outputs": [
    {
     "name": "stdout",
     "output_type": "stream",
     "text": [
      "+--------------------+\n",
      "|                col1|\n",
      "+--------------------+\n",
      "|In 2011, Marc And...|\n",
      "|For example, imag...|\n",
      "|Now, let’s take t...|\n",
      "+--------------------+\n",
      "\n"
     ]
    },
    {
     "data": {
      "text/plain": [
       "schema = col1 string\n",
       "input_df = [col1: string]\n"
      ]
     },
     "metadata": {},
     "output_type": "display_data"
    },
    {
     "data": {
      "text/plain": [
       "[col1: string]"
      ]
     },
     "execution_count": 15,
     "metadata": {},
     "output_type": "execute_result"
    }
   ],
   "source": [
    "// Read the file into a DataFrame\n",
    "val schema = \"col1 string\"\n",
    "val input_df = spark.read.schema(schema).option(\"delimiter\", \"|\").csv(input_file)\n",
    "input_df.show(3)"
   ]
  },
  {
   "cell_type": "code",
   "execution_count": 17,
   "metadata": {},
   "outputs": [
    {
     "name": "stdout",
     "output_type": "stream",
     "text": [
      "+-----+\n",
      "| word|\n",
      "+-----+\n",
      "|   In|\n",
      "|2011,|\n",
      "+-----+\n",
      "only showing top 2 rows\n",
      "\n",
      "+-------+---+-----+\n",
      "|   word|cnt|dummy|\n",
      "+-------+---+-----+\n",
      "| online|  3|    1|\n",
      "|    few|  1|    1|\n",
      "|   some|  1|    1|\n",
      "| upsale|  1|    1|\n",
      "|world,”|  1|    1|\n",
      "+-------+---+-----+\n",
      "only showing top 5 rows\n",
      "\n",
      "+----+---+----+\n",
      "|word|cnt|rank|\n",
      "+----+---+----+\n",
      "| the| 15|   1|\n",
      "|   a| 12|   2|\n",
      "|  of|  8|   3|\n",
      "+----+---+----+\n",
      "only showing top 3 rows\n",
      "\n",
      "+----+---+----+\n",
      "|word|cnt|rank|\n",
      "+----+---+----+\n",
      "| and|  6|   5|\n",
      "|  we|  6|   5|\n",
      "+----+---+----+\n",
      "\n"
     ]
    },
    {
     "data": {
      "text/plain": [
       "df_line_split = [col1: string, split_line: array<string>]\n",
       "df_word_explode = [word: string]\n",
       "df_word_count = [word: string, cnt: bigint ... 1 more field]\n",
       "windw = org.apache.spark.sql.expressions.WindowSpec@252a72b\n",
       "df_word_rank = [word: string, cnt: bigint ... 1 more field]\n"
      ]
     },
     "metadata": {},
     "output_type": "display_data"
    },
    {
     "data": {
      "text/plain": [
       "[word: string, cnt: bigint ... 1 more field]"
      ]
     },
     "execution_count": 17,
     "metadata": {},
     "output_type": "execute_result"
    }
   ],
   "source": [
    "// All these packages are pre-imported in the kernel, but listing them here for knowledge sake\n",
    "import org.apache.spark.sql.SparkSession\n",
    "//import spark.implicits._\n",
    "import org.apache.spark.sql.functions._\n",
    "import org.apache.spark.sql.expressions.Window\n",
    "\n",
    "// Split words on each line by space\n",
    "val df_line_split = input_df.withColumn(\"split_line\", split(input_df(\"col1\"), \" \"))\n",
    "\n",
    "// Explode each split line array into individual words\n",
    "val df_word_explode = df_line_split.withColumn(\"word\", explode(df_line_split(\"split_line\")))\n",
    "                                        .drop(\"col1\", \"split_line\")\n",
    "\n",
    "df_word_explode.show(2)\n",
    "\n",
    "// Aggregate on words to get their respective counts\n",
    "val df_word_count = df_word_explode.groupBy(\"word\").agg(count(\"word\").alias(\"cnt\"))\n",
    "                                    .withColumn(\"dummy\", lit(\"1\"))\n",
    "\n",
    "df_word_count.show(5)\n",
    "\n",
    "// Define windowing function\n",
    "val windw = Window.partitionBy(\"dummy\").orderBy(desc(\"cnt\"))\n",
    "\n",
    "val df_word_rank = df_word_count.withColumn(\"rank\", rank().over(windw)).drop(\"dummy\")\n",
    "\n",
    "df_word_rank.show(3)\n",
    "\n",
    "df_word_rank.filter(df_word_rank(\"rank\") === 5).show()"
   ]
  },
  {
   "cell_type": "code",
   "execution_count": null,
   "metadata": {},
   "outputs": [],
   "source": []
  }
 ],
 "metadata": {
  "kernelspec": {
   "display_name": "Apache Toree - Scala",
   "language": "scala",
   "name": "apache_toree_scala"
  },
  "language_info": {
   "codemirror_mode": "text/x-scala",
   "file_extension": ".scala",
   "mimetype": "text/x-scala",
   "name": "scala",
   "pygments_lexer": "scala",
   "version": "2.11.12"
  }
 },
 "nbformat": 4,
 "nbformat_minor": 4
}
