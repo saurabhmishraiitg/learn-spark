{
 "cells": [
  {
   "cell_type": "markdown",
   "id": "21ba4259",
   "metadata": {},
   "source": [
    "# PySpark Getting Started\n",
    "\n",
    "PySpark is a Python API for Apache Spark, an open-source distributed computing system that provides an interface for programming entire clusters with implicit data parallelism and fault tolerance.\n",
    "It is designed to be easy to use and provides a high-level interface for working with large datasets.\n",
    "\n",
    "## Getting Started\n",
    "\n",
    "- Create Conda Environment\n",
    "\n",
    "  ```bash\n",
    "  conda create -n spark python=3.11\n",
    "  ```\n",
    "\n",
    "- Running using local python environment requires ipykernel\n",
    "\n",
    "  ```bash\n",
    "  pip install ipykernel\n",
    "  ```\n",
    "\n",
    "- Install PySpark\n",
    "\n",
    "  ```bash\n",
    "  pip install pyspark==3.5.5\n",
    "  ```\n"
   ]
  },
  {
   "cell_type": "code",
   "execution_count": null,
   "id": "97de1c8b",
   "metadata": {},
   "outputs": [],
   "source": [
    "from pyspark.sql import SparkSession\n",
    "\n",
    "spark = (\n",
    "    SparkSession.builder.appName(\"pyspark-getting-started\")\n",
    "    .master(\"local[*]\")\n",
    "    .config(\"spark.sql.shuffle.partitions\", \"4\")\n",
    "    .getOrCreate()\n",
    ")\n",
    "\n",
    "# load dataset from csv file\n",
    "df = spark.read.csv(\n",
    "    \"/tmp/customers-100.csv\",\n",
    "    header=True,\n",
    "    inferSchema=True,\n",
    ")\n",
    "\n",
    "df.show(5)  # show the first 5 rows of the DataFrame"
   ]
  }
 ],
 "metadata": {
  "kernelspec": {
   "display_name": "spark1",
   "language": "python",
   "name": "python3"
  },
  "language_info": {
   "codemirror_mode": {
    "name": "ipython",
    "version": 3
   },
   "file_extension": ".py",
   "mimetype": "text/x-python",
   "name": "python",
   "nbconvert_exporter": "python",
   "pygments_lexer": "ipython3",
   "version": "3.11.12"
  }
 },
 "nbformat": 4,
 "nbformat_minor": 5
}
