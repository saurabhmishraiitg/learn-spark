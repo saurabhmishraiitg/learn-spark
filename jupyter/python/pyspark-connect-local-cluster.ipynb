{
  "cells": [
    {
      "cell_type": "code",
      "execution_count": null,
      "metadata": {},
      "outputs": [],
      "source": [
        "import findspark\n",
        "findspark.init()"
      ]
    },
    {
      "cell_type": "code",
      "execution_count": null,
      "metadata": {},
      "outputs": [],
      "source": [
        "from pyspark.sql import SparkSession\n",
        "from pyspark.conf import SparkConf\n",
        "\n",
        "#spark.stop()\n",
        "spark = SparkSession.builder\\\n",
        ".appName(\"example-pyspark-read-and-write\")\\\n",
        ".config(\"hive.metastore.uris\", \"thrift://xxx.xx-xx.com:9083,thrift://xxx.xx-xx.com:9083\", conf=SparkConf())\\\n",
        ".enableHiveSupport()\\\n",
        ".getOrCreate()"
      ]
    },
    {
      "cell_type": "code",
      "execution_count": null,
      "metadata": {},
      "outputs": [],
      "source": [
        "ii_df = spark.sql('select * from xxx.bu_incident')\n",
        "ii_df.count()"
      ]
    },
    {
      "cell_type": "code",
      "execution_count": null,
      "metadata": {},
      "outputs": [],
      "source": [
        "spark.sql('select * from xxx.gg_food_safety_audt').count()"
      ]
    }
  ],
  "metadata": {
    "kernelspec": {
      "display_name": "Python 3",
      "language": "python",
      "name": "python3"
    },
    "language_info": {
      "codemirror_mode": {
        "name": "ipython",
        "version": 3
      },
      "file_extension": ".py",
      "mimetype": "text/x-python",
      "name": "python",
      "nbconvert_exporter": "python",
      "pygments_lexer": "ipython3",
      "version": "3.7.6"
    }
  },
  "nbformat": 4,
  "nbformat_minor": 4
}
