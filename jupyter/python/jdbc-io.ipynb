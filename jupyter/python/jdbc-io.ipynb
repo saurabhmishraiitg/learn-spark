{
 "nbformat": 4,
 "nbformat_minor": 2,
 "metadata": {
  "language_info": {
   "name": "python",
   "codemirror_mode": {
    "name": "ipython",
    "version": 3
   },
   "version": "3.7.4-final"
  },
  "orig_nbformat": 2,
  "file_extension": ".py",
  "mimetype": "text/x-python",
  "name": "python",
  "npconvert_exporter": "python",
  "pygments_lexer": "ipython3",
  "version": 3,
  "kernelspec": {
   "name": "python37564bitsparkconda4e3b4d5f3c4d4cadbf8fd6a78e253cc0",
   "display_name": "Python 3.7.5 64-bit ('spark': conda)"
  }
 },
 "cells": [
  {
   "cell_type": "markdown",
   "metadata": {},
   "source": [
    "### Start the kernel specific to SPARK\n",
    "\n",
    "* conda env list\n",
    "* conda activate spark\n",
    "* in visual code IDE, select the environment as python-spark\n",
    "* check that in the selected environment pyspark is installed"
   ]
  },
  {
   "cell_type": "code",
   "execution_count": 1,
   "metadata": {},
   "outputs": [
    {
     "name": "stdout",
     "output_type": "stream",
     "text": "Name: pyspark\nVersion: 2.4.4\nSummary: Apache Spark Python API\nHome-page: https://github.com/apache/spark/tree/master/python\nAuthor: Spark Developers\nAuthor-email: dev@spark.apache.org\nLicense: http://www.apache.org/licenses/LICENSE-2.0\nLocation: /usr/local/lib/python3.7/site-packages\nRequires: py4j\nRequired-by: \nName: findspark\nVersion: 1.3.0\nSummary: Find pyspark to make it importable.\nHome-page: https://github.com/minrk/findspark\nAuthor: Min RK\nAuthor-email: benjaminrk@gmail.com\nLicense: BSD (3-clause)\nLocation: /usr/local/lib/python3.7/site-packages\nRequires: \nRequired-by: \n"
    }
   ],
   "source": [
    "!pip3 show pyspark\n",
    "!pip3 show findspark"
   ]
  },
  {
   "cell_type": "code",
   "execution_count": 2,
   "metadata": {},
   "outputs": [],
   "source": [
    "# The following line help the Jupyter program to find the Spark binaries to run the job\n",
    "import findspark\n",
    "findspark.init()"
   ]
  },
  {
   "cell_type": "code",
   "execution_count": 5,
   "metadata": {},
   "outputs": [
    {
     "name": "stdout",
     "output_type": "stream",
     "text": "11\n0\n"
    }
   ],
   "source": [
    "# Sample program to validate pySpark library is available\n",
    "import pyspark\n",
    "sc = pyspark.SparkContext('local[*]')\n",
    "\n",
    "txt = sc.textFile('file:////Users/s0m0158/github/spark-scala/README.md')\n",
    "print(txt.count())\n",
    "\n",
    "python_lines = txt.filter(lambda line: 'python' in line.lower())\n",
    "print(python_lines.count())\n",
    "\n",
    "\n",
    "#big_list = range(10000)\n",
    "#>>> rdd = sc.parallelize(big_list, 2)\n",
    "#>>> odds = rdd.filter(lambda x: x % 2 != 0)\n",
    "#>>> odds.take(5)"
   ]
  },
  {
   "cell_type": "code",
   "execution_count": 6,
   "metadata": {},
   "outputs": [
    {
     "data": {
      "text/plain": "[1, 3, 5, 7, 9]"
     },
     "execution_count": 6,
     "metadata": {},
     "output_type": "execute_result"
    }
   ],
   "source": [
    "# Another random code snippet to check if the Spark session is still alive after the previous cell execution\n",
    "big_list = range(10000)\n",
    "rdd = sc.parallelize(big_list, 2)\n",
    "odds = rdd.filter(lambda x: x % 2 != 0)\n",
    "odds.take(5)"
   ]
  },
  {
   "cell_type": "code",
   "execution_count": 3,
   "metadata": {},
   "outputs": [],
   "source": [
    "# Load the CCM properties file\n",
    "from os.path import expanduser\n",
    "home = expanduser(\"~\")\n",
    "\n",
    "separator = \"=\"\n",
    "keys = {}\n",
    "\n",
    "# I named your file conf and stored it \n",
    "# in the same directory as the script\n",
    "\n",
    "with open(home+'/nexus.prop') as f:\n",
    "\n",
    "    for line in f:\n",
    "        if separator in line:\n",
    "\n",
    "            # Find the name and value by splitting the string\n",
    "            name, value = line.split(separator, 1)\n",
    "\n",
    "            # Assign key value pair to dict\n",
    "            # strip() removes white space from the ends of strings\n",
    "            keys[name.strip()] = value.strip()\n",
    "\n",
    "#print(keys)"
   ]
  },
  {
   "cell_type": "code",
   "execution_count": 4,
   "metadata": {},
   "outputs": [],
   "source": [
    "#This section handles adding JDBC driver to the PYSPARK shell\n",
    "import os\n",
    "jdbc_connector_mysql=keys[\"jdbc-connector-mysql\"]\n",
    "\n",
    "os.environ[\"PYSPARK_SUBMIT_ARGS\"] = f\"--jars file://{jdbc_connector_mysql} pyspark-shell\"\n"
   ]
  },
  {
   "cell_type": "code",
   "execution_count": 6,
   "metadata": {},
   "outputs": [],
   "source": [
    "#Create sparksession instance\n",
    "\n",
    "spark.stop()\n",
    "from pyspark.sql import SparkSession\n",
    "spark = SparkSession.builder.getOrCreate()"
   ]
  },
  {
   "cell_type": "code",
   "execution_count": 42,
   "metadata": {},
   "outputs": [
    {
     "name": "stdout",
     "output_type": "stream",
     "text": "+--------------------+--------------------+\n|          workflowId|            workflow|\n+--------------------+--------------------+\n|61cb537d-6af8-4bb...|{\"id\":\"61cb537d-6...|\n|61cb537d-6af8-4bb...|{\"id\":\"61cb537d-6...|\n|61cb537d-6af8-4bb...|{\"id\":\"61cb537d-6...|\n+--------------------+--------------------+\n\n"
    }
   ],
   "source": [
    "# Fetch 1 workflow records from the templates table\n",
    "#database = 'reach'\n",
    "#url='jdbc:mysql://{}/{}'.format(host, database)\n",
    "#table = 'reach.tasks'\n",
    "\n",
    "table = \"(SELECT workflowId, REPLACE(CONVERT(REPLACE(workflow,'&amp;','&') using utf8),'','') as workflow FROM reach.templates LIMIT 3) AS t\"\n",
    "\n",
    "url = keys[\"reach-dev-url\"]\n",
    "#query='select taskid from tasks limit 10'\n",
    "user = keys[\"reach-dev-userid\"]\n",
    "password = keys[\"reach-dev-password\"]\n",
    "\n",
    "properties = {\n",
    "    'user': user,\n",
    "    'password': password,\n",
    "    'driver': 'com.mysql.jdbc.Driver',\n",
    "    #'query': 'select taskid from tasks limit 10',\n",
    "    'fetchsize': '10'\n",
    "}\n",
    "\n",
    "df = spark.read.jdbc(url, table, properties=properties)\n",
    "#df = sqlContext.read.jdbc(url, query, properties=properties)\n",
    "df.show()"
   ]
  },
  {
   "cell_type": "code",
   "execution_count": 7,
   "metadata": {},
   "outputs": [
    {
     "name": "stdout",
     "output_type": "stream",
     "text": "+--------------------+\n|            workflow|\n+--------------------+\n|{\"id\":\"61cb537d-6...|\n|{\"id\":\"61cb537d-6...|\n|{\"id\":\"61cb537d-6...|\n+--------------------+\n\n"
    }
   ],
   "source": [
    "#Parse the json column\n",
    "df.select(\"workflow\").show()"
   ]
  },
  {
   "cell_type": "code",
   "execution_count": null,
   "metadata": {},
   "outputs": [],
   "source": [
    "#from pyspark.sql.functions import from_json, col\n",
    "#json_schema = spark.read.json(df.select(\"workflow\").rdd.map(lambda row: row.json)).schema\n",
    "#df.withColumn('json', from_json(col('json'), json_schema))\n",
    "\n",
    "workflowRDD = df.select(\"workflow\").rdd\n",
    "\n",
    "workflowRDD.map(lambda r: r.).take(2)\n",
    "#workflowRDD.map(lambda r: r.toJSON).take(2)\n",
    "#workflowRDD.take(2)\n",
    "\n",
    "#new_df = spark.read.json(.map(lambda r: r.json))\n",
    "#new_df.printSchema()\n",
    "\n",
    "#df.show()"
   ]
  },
  {
   "cell_type": "code",
   "execution_count": 23,
   "metadata": {},
   "outputs": [],
   "source": [
    "workflowRDD2 = df.select(\"workflow\").toJSON()\n"
   ]
  },
  {
   "cell_type": "code",
   "execution_count": 24,
   "metadata": {},
   "outputs": [
    {
     "data": {
      "text/plain": "[str, str]"
     },
     "execution_count": 24,
     "metadata": {},
     "output_type": "execute_result"
    }
   ],
   "source": [
    "workflowRDD2.map(lambda r: type(r)).take(2)"
   ]
  },
  {
   "cell_type": "code",
   "execution_count": 26,
   "metadata": {},
   "outputs": [
    {
     "data": {
      "text/plain": "['\"workflow\":\"{\\\\\"id\\\\\":\\\\\"61cb537', '\"workflow\":\"{\\\\\"id\\\\\":\\\\\"61cb537']"
     },
     "execution_count": 26,
     "metadata": {},
     "output_type": "execute_result"
    }
   ],
   "source": [
    "workflowRDD2.map(lambda r: r[1:30]).take(2)"
   ]
  },
  {
   "cell_type": "code",
   "execution_count": 27,
   "metadata": {},
   "outputs": [],
   "source": [
    "json_schema = spark.read.json(workflowRDD2).schema"
   ]
  },
  {
   "cell_type": "code",
   "execution_count": 30,
   "metadata": {},
   "outputs": [
    {
     "name": "stdout",
     "output_type": "stream",
     "text": "[StructField(workflow,StringType,true)]\n"
    }
   ],
   "source": [
    "print(json_schema.fields)"
   ]
  },
  {
   "cell_type": "code",
   "execution_count": 33,
   "metadata": {},
   "outputs": [
    {
     "data": {
      "text/plain": "<bound method DataFrame.printSchema of DataFrame[workflowId: string, workflow: string, json: struct<workflow:string>]>"
     },
     "execution_count": 33,
     "metadata": {},
     "output_type": "execute_result"
    }
   ],
   "source": [
    "from pyspark.sql.functions import from_json, col\n",
    "df.withColumn('json', from_json(col('workflow'), json_schema)).printSchema"
   ]
  },
  {
   "cell_type": "code",
   "execution_count": 36,
   "metadata": {},
   "outputs": [
    {
     "data": {
      "text/plain": "PythonRDD[72] at RDD at PythonRDD.scala:53"
     },
     "execution_count": 36,
     "metadata": {},
     "output_type": "execute_result"
    }
   ],
   "source": [
    "workflowRDD3 = df.select(\"workflow\").rdd.map(list)\n",
    "workflowRDD3.cache()"
   ]
  },
  {
   "cell_type": "code",
   "execution_count": 38,
   "metadata": {},
   "outputs": [
    {
     "data": {
      "text/plain": "[list, list]"
     },
     "execution_count": 38,
     "metadata": {},
     "output_type": "execute_result"
    }
   ],
   "source": [
    "workflowRDD3.map(lambda r: type(r)).take(2)"
   ]
  },
  {
   "cell_type": "code",
   "execution_count": 48,
   "metadata": {},
   "outputs": [],
   "source": [
    "workflowRDD4 = workflowRDD3.map(lambda r: r[0])"
   ]
  },
  {
   "cell_type": "code",
   "execution_count": 49,
   "metadata": {},
   "outputs": [
    {
     "data": {
      "text/plain": "['\"id\":\"61cb537d-6af8-4bb5-8443', '\"id\":\"61cb537d-6af8-4bb5-8443']"
     },
     "execution_count": 49,
     "metadata": {},
     "output_type": "execute_result"
    }
   ],
   "source": [
    "workflowRDD4.map(lambda r: r[1:30]).take(2)"
   ]
  },
  {
   "cell_type": "code",
   "execution_count": 50,
   "metadata": {},
   "outputs": [],
   "source": [
    "json_schema2 = spark.read.json(workflowRDD4).schema"
   ]
  },
  {
   "cell_type": "code",
   "execution_count": 51,
   "metadata": {},
   "outputs": [
    {
     "name": "stdout",
     "output_type": "stream",
     "text": "[StructField(adGroups,ArrayType(StringType,true),true), StructField(createdBy,StringType,true), StructField(createdTs,LongType,true), StructField(description,StringType,true), StructField(id,StringType,true), StructField(isActive,BooleanType,true), StructField(languageCode,StringType,true), StructField(languages,ArrayType(StringType,true),true), StructField(lastPublishedBy,StringType,true), StructField(lastPublishedTs,LongType,true), StructField(lastUpdatedBy,StringType,true), StructField(lastUpdatedTs,LongType,true), StructField(lockedBy,StringType,true), StructField(name,StringType,true), StructField(roleGroups,ArrayType(StringType,true),true), StructField(roles,ArrayType(StructType(List(StructField(groups,ArrayType(StringType,true),true),StructField(name,StringType,true))),true),true), StructField(rules,ArrayType(StringType,true),true), StructField(sections,ArrayType(StructType(List(StructField(description,StringType,true),StructField(fields,ArrayType(StructType(List(StructField(customData,StructType(List(StructField(affectedId,StringType,true),StructField(options,StructType(List(StructField(attachmentName,StringType,true),StructField(options,ArrayType(StructType(List(StructField(options,ArrayType(StructType(List(StructField(options,ArrayType(StructType(List(StructField(options,ArrayType(StringType,true),true),StructField(value,StringType,true))),true),true),StructField(value,StringType,true))),true),true),StructField(value,StringType,true))),true),true),StructField(placeholders,ArrayType(StringType,true),true))),true))),true),StructField(helperText,StringType,true),StructField(hidden,BooleanType,true),StructField(id,StringType,true),StructField(includeYear,BooleanType,true),StructField(isFilterable,BooleanType,true),StructField(label,StringType,true),StructField(maxFiles,LongType,true),StructField(options,ArrayType(StructType(List(StructField(order,LongType,true),StructField(value,StringType,true))),true),true),StructField(order,LongType,true),StructField(placeholder,StringType,true),StructField(prefix,StringType,true),StructField(required,BooleanType,true),StructField(responses,ArrayType(StringType,true),true),StructField(sectionId,StringType,true),StructField(specifiedFileType,ArrayType(StringType,true),true),StructField(type,StringType,true))),true),true),StructField(hidden,BooleanType,true),StructField(id,StringType,true),StructField(order,LongType,true),StructField(title,StringType,true),StructField(type,StringType,true),StructField(workflowId,StringType,true))),true),true), StructField(startADGroups,ArrayType(StringType,true),true), StructField(steps,ArrayType(StructType(List(StructField(affectedRoles,ArrayType(StringType,true),true),StructField(affectedSections,ArrayType(StructType(List(StructField(editable,BooleanType,true),StructField(id,StringType,true),StructField(name,StringType,true))),true),true),StructField(allowRestart,BooleanType,true),StructField(branches,ArrayType(StringType,true),true),StructField(description,StringType,true),StructField(id,StringType,true),StructField(name,StringType,true),StructField(order,LongType,true),StructField(postStepProcesses,ArrayType(StringType,true),true),StructField(roleFieldId,StringType,true),StructField(type,StringType,true),StructField(workflowId,StringType,true))),true),true), StructField(version,LongType,true)]\n"
    }
   ],
   "source": [
    "print(json_schema2.fields)"
   ]
  },
  {
   "cell_type": "code",
   "execution_count": 52,
   "metadata": {},
   "outputs": [
    {
     "data": {
      "text/plain": "<bound method DataFrame.printSchema of DataFrame[workflowId: string, workflow: string, json: struct<adGroups:array<string>,createdBy:string,createdTs:bigint,description:string,id:string,isActive:boolean,languageCode:string,languages:array<string>,lastPublishedBy:string,lastPublishedTs:bigint,lastUpdatedBy:string,lastUpdatedTs:bigint,lockedBy:string,name:string,roleGroups:array<string>,roles:array<struct<groups:array<string>,name:string>>,rules:array<string>,sections:array<struct<description:string,fields:array<struct<customData:struct<affectedId:string,options:struct<attachmentName:string,options:array<struct<options:array<struct<options:array<struct<options:array<string>,value:string>>,value:string>>,value:string>>,placeholders:array<string>>>,helperText:string,hidden:boolean,id:string,includeYear:boolean,isFilterable:boolean,label:string,maxFiles:bigint,options:array<struct<order:bigint,value:string>>,order:bigint,placeholder:string,prefix:string,required:boolean,responses:array<string>,sectionId:string,specifiedFileType:array<string>,type:string>>,hidden:boolean,id:string,order:bigint,title:string,type:string,workflowId:string>>,startADGroups:array<string>,steps:array<struct<affectedRoles:array<string>,affectedSections:array<struct<editable:boolean,id:string,name:string>>,allowRestart:boolean,branches:array<string>,description:string,id:string,name:string,order:bigint,postStepProcesses:array<string>,roleFieldId:string,type:string,workflowId:string>>,version:bigint>]>"
     },
     "execution_count": 52,
     "metadata": {},
     "output_type": "execute_result"
    }
   ],
   "source": [
    "from pyspark.sql.functions import from_json, col\n",
    "df.withColumn('json', from_json(col('workflow'), json_schema2)).printSchema"
   ]
  },
  {
   "cell_type": "code",
   "execution_count": 54,
   "metadata": {},
   "outputs": [
    {
     "data": {
      "text/plain": "DataFrame[workflowId: string, workflow: string, json: struct<adGroups:array<string>,createdBy:string,createdTs:bigint,description:string,id:string,isActive:boolean,languageCode:string,languages:array<string>,lastPublishedBy:string,lastPublishedTs:bigint,lastUpdatedBy:string,lastUpdatedTs:bigint,lockedBy:string,name:string,roleGroups:array<string>,roles:array<struct<groups:array<string>,name:string>>,rules:array<string>,sections:array<struct<description:string,fields:array<struct<customData:struct<affectedId:string,options:struct<attachmentName:string,options:array<struct<options:array<struct<options:array<struct<options:array<string>,value:string>>,value:string>>,value:string>>,placeholders:array<string>>>,helperText:string,hidden:boolean,id:string,includeYear:boolean,isFilterable:boolean,label:string,maxFiles:bigint,options:array<struct<order:bigint,value:string>>,order:bigint,placeholder:string,prefix:string,required:boolean,responses:array<string>,sectionId:string,specifiedFileType:array<string>,type:string>>,hidden:boolean,id:string,order:bigint,title:string,type:string,workflowId:string>>,startADGroups:array<string>,steps:array<struct<affectedRoles:array<string>,affectedSections:array<struct<editable:boolean,id:string,name:string>>,allowRestart:boolean,branches:array<string>,description:string,id:string,name:string,order:bigint,postStepProcesses:array<string>,roleFieldId:string,type:string,workflowId:string>>,version:bigint>]"
     },
     "execution_count": 54,
     "metadata": {},
     "output_type": "execute_result"
    }
   ],
   "source": [
    "new_df=df.withColumn('json', from_json(col('workflow'), json_schema2))\n",
    "new_df.cache()"
   ]
  },
  {
   "cell_type": "code",
   "execution_count": 72,
   "metadata": {},
   "outputs": [
    {
     "name": "stdout",
     "output_type": "stream",
     "text": "+------------------------------------+-----------------------------------------------------------+-------------------------------------------------------------------------------------------+\n|json.id                             |json.description                                           |start_adgroup                                                                              |\n+------------------------------------+-----------------------------------------------------------+-------------------------------------------------------------------------------------------+\n|61cb537d-6af8-4bb5-8443-aedb2acdeaa1|Track & monitor government agency contacts at US facilities|CN=CMAlcoholTobaccoSME,OU=Archer,OU=Apps,DC=homeoffice,DC=Wal-Mart,DC=com                  |\n|61cb537d-6af8-4bb5-8443-aedb2acdeaa1|Track & monitor government agency contacts at US facilities|CN=CMHealthSafetySME,OU=Archer,OU=Apps,DC=homeoffice,DC=Wal-Mart,DC=com                    |\n|61cb537d-6af8-4bb5-8443-aedb2acdeaa1|Track & monitor government agency contacts at US facilities|CN=ArcherStoreAssistantManagers,OU=Archer,OU=Apps,DC=US,DC=Wal-Mart,DC=com                 |\n|61cb537d-6af8-4bb5-8443-aedb2acdeaa1|Track & monitor government agency contacts at US facilities|CN=ArcherStoreCoManagers,OU=Archer,OU=Apps,DC=US,DC=Wal-Mart,DC=com                        |\n|61cb537d-6af8-4bb5-8443-aedb2acdeaa1|Track & monitor government agency contacts at US facilities|CN=ArcherStoreManagers,OU=Archer,OU=Apps,DC=US,DC=Wal-Mart,DC=com                          |\n|61cb537d-6af8-4bb5-8443-aedb2acdeaa1|Track & monitor government agency contacts at US facilities|CN=ArcherClubAssistantManagers,OU=Archer,OU=Apps,DC=US,DC=Wal-Mart,DC=com                  |\n|61cb537d-6af8-4bb5-8443-aedb2acdeaa1|Track & monitor government agency contacts at US facilities|CN=ArcherClubCoManagers,OU=Archer,OU=Apps,DC=US,DC=Wal-Mart,DC=com                         |\n|61cb537d-6af8-4bb5-8443-aedb2acdeaa1|Track & monitor government agency contacts at US facilities|CN=ArcherClubManagers,OU=Archer,OU=Apps,DC=US,DC=Wal-Mart,DC=com                           |\n|61cb537d-6af8-4bb5-8443-aedb2acdeaa1|Track & monitor government agency contacts at US facilities|CN=Radius_Users_Homeoffice,OU=Global,OU=Security,OU=Groups,DC=homeoffice,DC=Wal-Mart,DC=com|\n|61cb537d-6af8-4bb5-8443-aedb2acdeaa1|Track & monitor government agency contacts at US facilities|CN=ArcherClubFreshTeamLeads,OU=Archer,OU=Apps,DC=US,DC=Wal-Mart,DC=com                     |\n|61cb537d-6af8-4bb5-8443-aedb2acdeaa1|Track & monitor government agency contacts at US facilities|CN=ArcherDCManagers_WMSC,OU=Archer,OU=Apps,DC=WMSC,DC=Wal-Mart,DC=com                      |\n|61cb537d-6af8-4bb5-8443-aedb2acdeaa1|Track & monitor government agency contacts at US facilities|CN=CMFirearmsSME,OU=Archer,OU=Apps,DC=homeoffice,DC=Wal-Mart,DC=com                        |\n|61cb537d-6af8-4bb5-8443-aedb2acdeaa1|Track & monitor government agency contacts at US facilities|CN=CMFoodSafetySME,OU=Archer,OU=Apps,DC=homeoffice,DC=Wal-Mart,DC=com                      |\n|61cb537d-6af8-4bb5-8443-aedb2acdeaa1|Track & monitor government agency contacts at US facilities|CN=CMFoodSafetySME,OU=Archer,OU=Apps,DC=homeoffice,DC=Wal-Mart,DC=com                      |\n|61cb537d-6af8-4bb5-8443-aedb2acdeaa1|Track & monitor government agency contacts at US facilities|CN=CMHealthSafetySME,OU=Archer,OU=Apps,DC=homeoffice,DC=Wal-Mart,DC=com                    |\n|61cb537d-6af8-4bb5-8443-aedb2acdeaa1|Track & monitor government agency contacts at US facilities|CN=CMProductSafetySME,OU=Archer,OU=Apps,DC=homeoffice,DC=Wal-Mart,DC=com                   |\n|61cb537d-6af8-4bb5-8443-aedb2acdeaa1|Track & monitor government agency contacts at US facilities|CN=CMHealthSafetySME,OU=Archer,OU=Apps,DC=homeoffice,DC=Wal-Mart,DC=com                    |\n|61cb537d-6af8-4bb5-8443-aedb2acdeaa1|Track & monitor government agency contacts at US facilities|CN=CMHuntingFishing,OU=Archer,OU=Apps,DC=homeoffice,DC=Wal-Mart,DC=com                     |\n|61cb537d-6af8-4bb5-8443-aedb2acdeaa1|Track & monitor government agency contacts at US facilities|CN=CMEmploymentSME,OU=Archer,OU=Apps,DC=homeoffice,DC=Wal-Mart,DC=com                      |\n|61cb537d-6af8-4bb5-8443-aedb2acdeaa1|Track & monitor government agency contacts at US facilities|CN=CMLicenseSME,OU=Archer,OU=Apps,DC=homeoffice,DC=Wal-Mart,DC=com                         |\n+------------------------------------+-----------------------------------------------------------+-------------------------------------------------------------------------------------------+\nonly showing top 20 rows\n\n"
    }
   ],
   "source": [
    "from pyspark.sql.functions import explode\n",
    "new_df.select(\"json.id\", \"json.description\", explode(\"json.startADGroups\").alias(\"start_adgroup\")).show(truncate=False)"
   ]
  },
  {
   "cell_type": "code",
   "execution_count": 110,
   "metadata": {},
   "outputs": [],
   "source": [
    "new_df2 = new_df.select(col(\"json.id\").alias(\"id\"), explode(\"json.sections\").alias(\"section\")).select(\"id\", explode(\"section.fields\").alias(\"field\")).select(col(\"field.id\").alias(\"fieldId\")).distinct().limit(5)"
   ]
  },
  {
   "cell_type": "code",
   "execution_count": 115,
   "metadata": {},
   "outputs": [
    {
     "name": "stdout",
     "output_type": "stream",
     "text": "+--------------------+\n|             fieldId|\n+--------------------+\n|d5e5f3d5-d22d-48d...|\n|7330c3ba-d3ab-4d5...|\n|15fa0c80-06ac-43d...|\n|39bcdbcd-1a45-44d...|\n|7e3e4d3f-e30c-441...|\n+--------------------+\n\n"
    }
   ],
   "source": [
    "new_df2.show(10)"
   ]
  },
  {
   "cell_type": "code",
   "execution_count": 111,
   "metadata": {},
   "outputs": [],
   "source": [
    "from pyspark.sql.functions import lit\n",
    "new_df3 = new_df2.select(\"fieldId\", lit(1).alias(\"id\"))"
   ]
  },
  {
   "cell_type": "code",
   "execution_count": 112,
   "metadata": {},
   "outputs": [
    {
     "name": "stdout",
     "output_type": "stream",
     "text": "+--------------------+---+\n|             fieldId| id|\n+--------------------+---+\n|d5e5f3d5-d22d-48d...|  1|\n|7330c3ba-d3ab-4d5...|  1|\n|15fa0c80-06ac-43d...|  1|\n|39bcdbcd-1a45-44d...|  1|\n|7e3e4d3f-e30c-441...|  1|\n+--------------------+---+\n\n"
    }
   ],
   "source": [
    "new_df3.show()"
   ]
  },
  {
   "cell_type": "code",
   "execution_count": 113,
   "metadata": {},
   "outputs": [],
   "source": [
    "from pyspark.sql.functions import lit\n",
    "pivotDF = new_df3.groupBy(\"id\").pivot(\"fieldId\").min(\"id\")"
   ]
  },
  {
   "cell_type": "code",
   "execution_count": 114,
   "metadata": {},
   "outputs": [
    {
     "name": "stdout",
     "output_type": "stream",
     "text": "+---+------------------------------------+------------------------------------+------------------------------------+------------------------------------+------------------------------------+\n| id|15fa0c80-06ac-43df-8193-4fbde9603de3|39bcdbcd-1a45-44de-b16b-0266aac67979|7330c3ba-d3ab-4d5a-847e-7d106693e9bb|7e3e4d3f-e30c-4414-970a-d7c46af06347|d5e5f3d5-d22d-48df-831e-f0a5d99db2bd|\n+---+------------------------------------+------------------------------------+------------------------------------+------------------------------------+------------------------------------+\n|  1|                                   1|                                   1|                                   1|                                   1|                                   1|\n+---+------------------------------------+------------------------------------+------------------------------------+------------------------------------+------------------------------------+\n\n"
    }
   ],
   "source": [
    "pivotDF.show()"
   ]
  },
  {
   "cell_type": "code",
   "execution_count": 130,
   "metadata": {},
   "outputs": [],
   "source": [
    "#new_df3.join(pivotDF,on=\"id\", how=\"inner\").show()\n",
    "cross_df = new_df3.crossJoin(pivotDF)"
   ]
  },
  {
   "cell_type": "code",
   "execution_count": 131,
   "metadata": {},
   "outputs": [
    {
     "name": "stdout",
     "output_type": "stream",
     "text": "+--------------------+---+---+------------------------------------+------------------------------------+------------------------------------+------------------------------------+------------------------------------+\n|             fieldId| id| id|15fa0c80-06ac-43df-8193-4fbde9603de3|39bcdbcd-1a45-44de-b16b-0266aac67979|7330c3ba-d3ab-4d5a-847e-7d106693e9bb|7e3e4d3f-e30c-4414-970a-d7c46af06347|d5e5f3d5-d22d-48df-831e-f0a5d99db2bd|\n+--------------------+---+---+------------------------------------+------------------------------------+------------------------------------+------------------------------------+------------------------------------+\n|d5e5f3d5-d22d-48d...|  1|  1|                                   1|                                   1|                                   1|                                   1|                                   1|\n|7330c3ba-d3ab-4d5...|  1|  1|                                   1|                                   1|                                   1|                                   1|                                   1|\n|15fa0c80-06ac-43d...|  1|  1|                                   1|                                   1|                                   1|                                   1|                                   1|\n|39bcdbcd-1a45-44d...|  1|  1|                                   1|                                   1|                                   1|                                   1|                                   1|\n|7e3e4d3f-e30c-441...|  1|  1|                                   1|                                   1|                                   1|                                   1|                                   1|\n+--------------------+---+---+------------------------------------+------------------------------------+------------------------------------+------------------------------------+------------------------------------+\n\n"
    }
   ],
   "source": [
    "cross_df.show()"
   ]
  },
  {
   "cell_type": "code",
   "execution_count": 135,
   "metadata": {},
   "outputs": [],
   "source": [
    "column_list = cross_df.drop(\"fieldId\", \"id\").columns"
   ]
  },
  {
   "cell_type": "code",
   "execution_count": 136,
   "metadata": {},
   "outputs": [
    {
     "name": "stdout",
     "output_type": "stream",
     "text": "['15fa0c80-06ac-43df-8193-4fbde9603de3', '39bcdbcd-1a45-44de-b16b-0266aac67979', '7330c3ba-d3ab-4d5a-847e-7d106693e9bb', '7e3e4d3f-e30c-4414-970a-d7c46af06347', 'd5e5f3d5-d22d-48df-831e-f0a5d99db2bd']\n"
    }
   ],
   "source": [
    "print(column_list)"
   ]
  },
  {
   "cell_type": "code",
   "execution_count": 145,
   "metadata": {},
   "outputs": [],
   "source": [
    "pre_fin_df = cross_df.drop(\"id\").select(*[lit(column).alias(column) if column in column_list else column for column in cross_df.drop(\"id\").columns])"
   ]
  },
  {
   "cell_type": "code",
   "execution_count": 146,
   "metadata": {},
   "outputs": [
    {
     "name": "stdout",
     "output_type": "stream",
     "text": "+--------------------+------------------------------------+------------------------------------+------------------------------------+------------------------------------+------------------------------------+\n|             fieldId|15fa0c80-06ac-43df-8193-4fbde9603de3|39bcdbcd-1a45-44de-b16b-0266aac67979|7330c3ba-d3ab-4d5a-847e-7d106693e9bb|7e3e4d3f-e30c-4414-970a-d7c46af06347|d5e5f3d5-d22d-48df-831e-f0a5d99db2bd|\n+--------------------+------------------------------------+------------------------------------+------------------------------------+------------------------------------+------------------------------------+\n|d5e5f3d5-d22d-48d...|                15fa0c80-06ac-43d...|                39bcdbcd-1a45-44d...|                7330c3ba-d3ab-4d5...|                7e3e4d3f-e30c-441...|                d5e5f3d5-d22d-48d...|\n|7330c3ba-d3ab-4d5...|                15fa0c80-06ac-43d...|                39bcdbcd-1a45-44d...|                7330c3ba-d3ab-4d5...|                7e3e4d3f-e30c-441...|                d5e5f3d5-d22d-48d...|\n|15fa0c80-06ac-43d...|                15fa0c80-06ac-43d...|                39bcdbcd-1a45-44d...|                7330c3ba-d3ab-4d5...|                7e3e4d3f-e30c-441...|                d5e5f3d5-d22d-48d...|\n|39bcdbcd-1a45-44d...|                15fa0c80-06ac-43d...|                39bcdbcd-1a45-44d...|                7330c3ba-d3ab-4d5...|                7e3e4d3f-e30c-441...|                d5e5f3d5-d22d-48d...|\n|7e3e4d3f-e30c-441...|                15fa0c80-06ac-43d...|                39bcdbcd-1a45-44d...|                7330c3ba-d3ab-4d5...|                7e3e4d3f-e30c-441...|                d5e5f3d5-d22d-48d...|\n+--------------------+------------------------------------+------------------------------------+------------------------------------+------------------------------------+------------------------------------+\n\n"
    }
   ],
   "source": [
    "pre_fin_df.show()"
   ]
  },
  {
   "cell_type": "code",
   "execution_count": 148,
   "metadata": {},
   "outputs": [],
   "source": [
    "fin_df = pre_fin_df.drop(\"fieldId\").distinct()"
   ]
  },
  {
   "cell_type": "code",
   "execution_count": 149,
   "metadata": {},
   "outputs": [
    {
     "name": "stdout",
     "output_type": "stream",
     "text": "+------------------------------------+------------------------------------+------------------------------------+------------------------------------+------------------------------------+\n|15fa0c80-06ac-43df-8193-4fbde9603de3|39bcdbcd-1a45-44de-b16b-0266aac67979|7330c3ba-d3ab-4d5a-847e-7d106693e9bb|7e3e4d3f-e30c-4414-970a-d7c46af06347|d5e5f3d5-d22d-48df-831e-f0a5d99db2bd|\n+------------------------------------+------------------------------------+------------------------------------+------------------------------------+------------------------------------+\n|                15fa0c80-06ac-43d...|                39bcdbcd-1a45-44d...|                7330c3ba-d3ab-4d5...|                7e3e4d3f-e30c-441...|                d5e5f3d5-d22d-48d...|\n+------------------------------------+------------------------------------+------------------------------------+------------------------------------+------------------------------------+\n\n"
    }
   ],
   "source": [
    "fin_df.show()"
   ]
  },
  {
   "cell_type": "code",
   "execution_count": 7,
   "metadata": {},
   "outputs": [
    {
     "data": {
      "text/plain": "DataFrame[workflowId: string, workflowVersion: int, publishStatus: string, isActive: int, lastUpdatedTs: timestamp, lastPublishedTs: timestamp, lastUpdatedBy: string, lastPublishedBy: string, createdBy: string, createdTs: timestamp, name: string, description: string, workflow: string]"
     },
     "execution_count": 7,
     "metadata": {},
     "output_type": "execute_result"
    }
   ],
   "source": [
    "# Load data from templates table for workflowid=a611477c-41f1-4a9e-9721-d7afeaf55099\n",
    "#REPLACE(CONVERT(REPLACE(workflow,'&amp;','&') using utf8),'','') as workflow\n",
    "table = \"(SELECT workflowId, workflowVersion, publishStatus, isActive, lastUpdatedTs, lastPublishedTs, REPLACE(CONVERT(REPLACE(lastUpdatedBy,'&amp;','&') using utf8),'','') as lastUpdatedBy, REPLACE(CONVERT(REPLACE(lastPublishedBy,'&amp;','&') using utf8),'','') as lastPublishedBy, REPLACE(CONVERT(REPLACE(createdBy,'&amp;','&') using utf8),'','') as createdBy, createdTs, name, description, REPLACE(CONVERT(REPLACE(workflow,'&amp;','&') using utf8),'','') as workflow FROM reach.templates where workflowid='a611477c-41f1-4a9e-9721-d7afeaf55099' and workflowversion < 11) AS t\"\n",
    "\n",
    "#table = \"(SELECT workflowid, name, count(1) as cnt from reach.templates group by workflowid, name) AS t\"\n",
    "\n",
    "url = keys[\"reach-dev-url\"]\n",
    "user = keys[\"reach-dev-userid\"]\n",
    "password = keys[\"reach-dev-password\"]\n",
    "\n",
    "properties = {\n",
    "    'user': user,\n",
    "    'password': password,\n",
    "    'driver': 'com.mysql.jdbc.Driver',\n",
    "    'fetchsize': '10'\n",
    "}\n",
    "\n",
    "templatesDF = spark.read.jdbc(url, table, properties=properties)\n",
    "templatesDF.cache()"
   ]
  },
  {
   "cell_type": "code",
   "execution_count": 8,
   "metadata": {},
   "outputs": [
    {
     "name": "stdout",
     "output_type": "stream",
     "text": "+------------------------------------+---------------+-------------+--------+-------------------+-------------------+---------------------------------------+-------------------------------------------------------------------------------------------+\n|workflowid                          |workflowversion|publishstatus|isactive|lastupdatedts      |lastpublishedts    |name                                   |description                                                                                |\n+------------------------------------+---------------+-------------+--------+-------------------+-------------------+---------------------------------------+-------------------------------------------------------------------------------------------+\n|a611477c-41f1-4a9e-9721-d7afeaf55099|1              |published    |0       |2019-01-22 16:13:32|2019-01-22 16:13:32|Health and Wellness Regulatory Contacts|Track and monitor government agency contacts for Health and Wellness areas in US facilities|\n|a611477c-41f1-4a9e-9721-d7afeaf55099|2              |published    |0       |2019-01-22 16:19:29|2019-01-22 16:19:29|Health and Wellness Regulatory Contacts|Track and monitor government agency contacts for Health and Wellness areas in US facilities|\n|a611477c-41f1-4a9e-9721-d7afeaf55099|3              |published    |0       |2019-01-25 17:22:30|2019-01-25 17:22:30|Health and Wellness Regulatory Contacts|Track and monitor government agency contacts for Health and Wellness areas in US facilities|\n|a611477c-41f1-4a9e-9721-d7afeaf55099|4              |published    |0       |2019-02-01 17:42:23|2019-02-01 17:42:23|Health and Wellness Regulatory Contacts|Track and monitor government agency contacts for Health and Wellness areas in US facilities|\n|a611477c-41f1-4a9e-9721-d7afeaf55099|5              |published    |0       |2019-02-12 14:52:04|2019-02-12 14:52:04|Health and Wellness Regulatory Contacts|Track and monitor government agency contacts for Health and Wellness areas in US facilities|\n|a611477c-41f1-4a9e-9721-d7afeaf55099|6              |published    |0       |2019-02-12 16:33:44|2019-02-12 16:33:44|Health and Wellness Regulatory Contacts|Track and monitor government agency contacts for Health and Wellness areas in US facilities|\n|a611477c-41f1-4a9e-9721-d7afeaf55099|7              |published    |0       |2019-02-12 16:37:16|2019-02-12 16:37:16|Health and Wellness Regulatory Contacts|Track and monitor government agency contacts for Health and Wellness areas in US facilities|\n|a611477c-41f1-4a9e-9721-d7afeaf55099|8              |published    |0       |2019-02-12 17:22:53|2019-02-12 17:22:53|Health and Wellness Regulatory Contacts|Track and monitor government agency contacts for Health and Wellness areas in US facilities|\n|a611477c-41f1-4a9e-9721-d7afeaf55099|9              |published    |0       |2019-02-12 19:06:06|2019-02-12 19:06:06|Health and Wellness Regulatory Contacts|Track and monitor government agency contacts for Health and Wellness areas in US facilities|\n|a611477c-41f1-4a9e-9721-d7afeaf55099|10             |published    |0       |2019-02-12 19:58:35|2019-02-12 19:58:35|Health and Wellness Regulatory Contacts|Track and monitor government agency contacts for Health and Wellness areas in US facilities|\n+------------------------------------+---------------+-------------+--------+-------------------+-------------------+---------------------------------------+-------------------------------------------------------------------------------------------+\n\n"
    }
   ],
   "source": [
    "templatesDF.select(\"workflowid\", \"workflowversion\", \"publishstatus\", \"isactive\", \"lastupdatedts\", \"lastpublishedts\", \"name\", \"description\").show(truncate=False)"
   ]
  },
  {
   "cell_type": "code",
   "execution_count": 9,
   "metadata": {},
   "outputs": [
    {
     "data": {
      "text/plain": "PythonRDD[15] at RDD at PythonRDD.scala:53"
     },
     "execution_count": 9,
     "metadata": {},
     "output_type": "execute_result"
    }
   ],
   "source": [
    "#Flatten out the workflowMetadata information from templates table\n",
    "#templatesFlatten1 = templatesDF.select(\"workflowid\", \"workflowversion\", \"workflow\")\n",
    "templatesFlatten1 = templatesDF.select(\"workflow\")\n",
    "templatesFlatten2 = templatesFlatten1.rdd.map(list)\n",
    "templatesFlatten2.cache()"
   ]
  },
  {
   "cell_type": "code",
   "execution_count": 10,
   "metadata": {},
   "outputs": [
    {
     "name": "stdout",
     "output_type": "stream",
     "text": "[StructField(adGroups,ArrayType(StringType,true),true), StructField(createdBy,StringType,true), StructField(createdTs,LongType,true), StructField(description,StringType,true), StructField(id,StringType,true), StructField(isActive,BooleanType,true), StructField(languageCode,StringType,true), StructField(languages,ArrayType(StringType,true),true), StructField(lastPublishedBy,StringType,true), StructField(lastPublishedTs,LongType,true), StructField(lastUpdatedBy,StringType,true), StructField(lastUpdatedTs,LongType,true), StructField(lockedBy,StringType,true), StructField(name,StringType,true), StructField(roleGroups,ArrayType(StringType,true),true), StructField(roles,ArrayType(StructType(List(StructField(groups,ArrayType(StringType,true),true),StructField(name,StringType,true))),true),true), StructField(rules,ArrayType(StringType,true),true), StructField(sections,ArrayType(StructType(List(StructField(description,StringType,true),StructField(fields,ArrayType(StructType(List(StructField(customData,StructType(List(StructField(affectedId,StringType,true),StructField(options,StringType,true))),true),StructField(helperText,StringType,true),StructField(hidden,BooleanType,true),StructField(id,StringType,true),StructField(includeYear,BooleanType,true),StructField(isFilterable,BooleanType,true),StructField(label,StringType,true),StructField(maxFiles,LongType,true),StructField(options,ArrayType(StructType(List(StructField(order,LongType,true),StructField(value,StringType,true))),true),true),StructField(order,LongType,true),StructField(placeholder,StringType,true),StructField(prefix,StringType,true),StructField(required,BooleanType,true),StructField(responses,ArrayType(StringType,true),true),StructField(sectionId,StringType,true),StructField(specifiedFileType,ArrayType(StringType,true),true),StructField(type,StringType,true))),true),true),StructField(hidden,BooleanType,true),StructField(id,StringType,true),StructField(order,LongType,true),StructField(title,StringType,true),StructField(type,StringType,true),StructField(workflowId,StringType,true))),true),true), StructField(startADGroups,ArrayType(StringType,true),true), StructField(steps,ArrayType(StructType(List(StructField(addCompletionDate,BooleanType,true),StructField(addDueDate,BooleanType,true),StructField(affectedRoles,ArrayType(StringType,true),true),StructField(affectedSections,ArrayType(StructType(List(StructField(editable,BooleanType,true),StructField(id,StringType,true),StructField(name,StringType,true))),true),true),StructField(allowFutureCompletionDate,BooleanType,true),StructField(allowPastCompletionDate,BooleanType,true),StructField(allowPresentCompletionDate,BooleanType,true),StructField(allowRestart,BooleanType,true),StructField(branches,ArrayType(StringType,true),true),StructField(canSave,BooleanType,true),StructField(description,StringType,true),StructField(id,StringType,true),StructField(name,StringType,true),StructField(order,LongType,true),StructField(postStepProcesses,ArrayType(StringType,true),true),StructField(roleFieldId,StringType,true),StructField(type,StringType,true),StructField(workflowId,StringType,true))),true),true), StructField(version,LongType,true)]\n"
    }
   ],
   "source": [
    "templatesFlatten3 = templatesFlatten2.map(lambda r : r[0])\n",
    "#templatesFlatten3.map(lambda r : type(r)).take(2)\n",
    "workflow_schema = spark.read.json(templatesFlatten3).schema\n",
    "print(workflow_schema.fields)"
   ]
  },
  {
   "cell_type": "code",
   "execution_count": 11,
   "metadata": {},
   "outputs": [
    {
     "data": {
      "text/plain": "<bound method DataFrame.printSchema of DataFrame[workflow: string, json: struct<adGroups:array<string>,createdBy:string,createdTs:bigint,description:string,id:string,isActive:boolean,languageCode:string,languages:array<string>,lastPublishedBy:string,lastPublishedTs:bigint,lastUpdatedBy:string,lastUpdatedTs:bigint,lockedBy:string,name:string,roleGroups:array<string>,roles:array<struct<groups:array<string>,name:string>>,rules:array<string>,sections:array<struct<description:string,fields:array<struct<customData:struct<affectedId:string,options:string>,helperText:string,hidden:boolean,id:string,includeYear:boolean,isFilterable:boolean,label:string,maxFiles:bigint,options:array<struct<order:bigint,value:string>>,order:bigint,placeholder:string,prefix:string,required:boolean,responses:array<string>,sectionId:string,specifiedFileType:array<string>,type:string>>,hidden:boolean,id:string,order:bigint,title:string,type:string,workflowId:string>>,startADGroups:array<string>,steps:array<struct<addCompletionDate:boolean,addDueDate:boolean,affectedRoles:array<string>,affectedSections:array<struct<editable:boolean,id:string,name:string>>,allowFutureCompletionDate:boolean,allowPastCompletionDate:boolean,allowPresentCompletionDate:boolean,allowRestart:boolean,branches:array<string>,canSave:boolean,description:string,id:string,name:string,order:bigint,postStepProcesses:array<string>,roleFieldId:string,type:string,workflowId:string>>,version:bigint>]>"
     },
     "execution_count": 11,
     "metadata": {},
     "output_type": "execute_result"
    }
   ],
   "source": [
    "from pyspark.sql.functions import from_json, col, explode\n",
    "templateParsed = templatesFlatten1.withColumn('json', from_json(col('workflow'), workflow_schema))\n",
    "templateParsed.printSchema"
   ]
  },
  {
   "cell_type": "code",
   "execution_count": 12,
   "metadata": {},
   "outputs": [
    {
     "name": "stdout",
     "output_type": "stream",
     "text": "+------------------------------------+---------------+------------------------------------+\n|workflowid                          |workflowversion|sectionid                           |\n+------------------------------------+---------------+------------------------------------+\n|a611477c-41f1-4a9e-9721-d7afeaf55099|10             |25b4d30e-21b0-452f-aaa7-3a13dd71cb3e|\n|a611477c-41f1-4a9e-9721-d7afeaf55099|10             |590f3e27-ecfc-44dc-a286-dfd5a5434ba0|\n|a611477c-41f1-4a9e-9721-d7afeaf55099|10             |7429d574-210a-4f23-a674-887973473efd|\n|a611477c-41f1-4a9e-9721-d7afeaf55099|10             |8381161a-10cb-4013-9f7e-07916b083093|\n|a611477c-41f1-4a9e-9721-d7afeaf55099|10             |3f472a0e-dcef-4f55-aeae-b49c686b5fd1|\n|a611477c-41f1-4a9e-9721-d7afeaf55099|10             |f76f8151-f799-4929-904e-c386743c31e3|\n|a611477c-41f1-4a9e-9721-d7afeaf55099|10             |2fff901d-e085-49f4-a3c9-1cff08d79ef9|\n|a611477c-41f1-4a9e-9721-d7afeaf55099|10             |4c6e329f-5821-4403-8649-74d32d4da846|\n|a611477c-41f1-4a9e-9721-d7afeaf55099|10             |ebac1f96-a692-4e86-84aa-93bf0b6a67ae|\n|a611477c-41f1-4a9e-9721-d7afeaf55099|10             |43dcbde8-8930-4b02-9b43-1e569f798c3f|\n+------------------------------------+---------------+------------------------------------+\n\n"
    }
   ],
   "source": [
    "###****************DEBUG****************###\n",
    "#templateParsed.count()\n",
    "templateParsed.select(col(\"json.id\").alias(\"workflowid\"), col(\"json.version\").alias(\"workflowVersion\"), explode(\"json.sections\").alias(\"section\")).select(\"workflowid\", \"workflowversion\", col(\"section.id\").alias(\"sectionid\")).filter(col(\"workflowversion\")==10).show(truncate=False)"
   ]
  },
  {
   "cell_type": "code",
   "execution_count": 13,
   "metadata": {},
   "outputs": [
    {
     "name": "stdout",
     "output_type": "stream",
     "text": "+------------------------------------+------------------------------------+----------------------------------------------+\n|workflowid                          |sectionid                           |sort_array(collect_set(workflowversion), true)|\n+------------------------------------+------------------------------------+----------------------------------------------+\n|a611477c-41f1-4a9e-9721-d7afeaf55099|3f472a0e-dcef-4f55-aeae-b49c686b5fd1|[1, 2, 3, 4, 5, 6, 7, 8, 9, 10]               |\n|a611477c-41f1-4a9e-9721-d7afeaf55099|590f3e27-ecfc-44dc-a286-dfd5a5434ba0|[1, 2, 3, 4, 5, 6, 7, 8, 9, 10]               |\n|a611477c-41f1-4a9e-9721-d7afeaf55099|8381161a-10cb-4013-9f7e-07916b083093|[1, 2, 3, 4, 5, 6, 7, 8, 9, 10]               |\n|a611477c-41f1-4a9e-9721-d7afeaf55099|7429d574-210a-4f23-a674-887973473efd|[1, 2, 3, 4, 5, 6, 7, 8, 9, 10]               |\n|a611477c-41f1-4a9e-9721-d7afeaf55099|ebac1f96-a692-4e86-84aa-93bf0b6a67ae|[1, 2, 3, 4, 5, 6, 7, 8, 9, 10]               |\n|a611477c-41f1-4a9e-9721-d7afeaf55099|f76f8151-f799-4929-904e-c386743c31e3|[1, 2, 3, 4, 5, 6, 7, 8, 9, 10]               |\n|a611477c-41f1-4a9e-9721-d7afeaf55099|43dcbde8-8930-4b02-9b43-1e569f798c3f|[1, 2, 3, 4, 5, 6, 7, 8, 9, 10]               |\n|a611477c-41f1-4a9e-9721-d7afeaf55099|25b4d30e-21b0-452f-aaa7-3a13dd71cb3e|[1, 2, 3, 4, 5, 6, 7, 8, 9, 10]               |\n|a611477c-41f1-4a9e-9721-d7afeaf55099|2fff901d-e085-49f4-a3c9-1cff08d79ef9|[1, 2, 3, 4, 5, 6, 7, 8, 9, 10]               |\n|a611477c-41f1-4a9e-9721-d7afeaf55099|4c6e329f-5821-4403-8649-74d32d4da846|[1, 2, 3, 4, 5, 6, 7, 8, 9, 10]               |\n+------------------------------------+------------------------------------+----------------------------------------------+\n\n"
    }
   ],
   "source": [
    "###****************DEBUG****************###\n",
    "from pyspark.sql.functions import collect_set, sort_array\n",
    "templateSectionsDF = templateParsed.select(col(\"json.id\").alias(\"workflowid\"), col(\"json.version\").alias(\"workflowVersion\"), col(\"json.sections\").alias(\"sections\"))\n",
    "\n",
    "templateSectionExplodedDF = templateSectionsDF.select(\"workflowid\", \"workflowVersion\", explode(\"sections\").alias(\"section\")).select(\"workflowid\", \"workflowversion\", col(\"section.id\").alias(\"sectionid\"), col(\"section.description\").alias(\"sectiondesc\"), col(\"section.order\").alias(\"sectionorder\"), col(\"section.title\").alias(\"sectiontitle\"), col(\"section.type\").alias(\"sectiontype\"), col(\"section.fields\").alias(\"fields\"))\n",
    "\n",
    "templateSectionExplodedDF.groupBy(col(\"workflowid\"), col(\"sectionid\")).agg(sort_array(collect_set(col(\"workflowversion\")))).show(truncate=False)"
   ]
  },
  {
   "cell_type": "code",
   "execution_count": 14,
   "metadata": {},
   "outputs": [
    {
     "name": "stdout",
     "output_type": "stream",
     "text": "+------------------------------------+---------------+------------------------------------+------------+-----------------------------------+-----------+\n|workflowid                          |workflowversion|sectionid                           |sectionorder|sectiontitle                       |sectiontype|\n+------------------------------------+---------------+------------------------------------+------------+-----------------------------------+-----------+\n|a611477c-41f1-4a9e-9721-d7afeaf55099|1              |25b4d30e-21b0-452f-aaa7-3a13dd71cb3e|1           |Facility Instructions              |input      |\n|a611477c-41f1-4a9e-9721-d7afeaf55099|1              |590f3e27-ecfc-44dc-a286-dfd5a5434ba0|1           |Facility Information               |input      |\n|a611477c-41f1-4a9e-9721-d7afeaf55099|1              |7429d574-210a-4f23-a674-887973473efd|1           |Regulatory Agency Contact          |input      |\n|a611477c-41f1-4a9e-9721-d7afeaf55099|1              |8381161a-10cb-4013-9f7e-07916b083093|1           |Documents from Regulator           |input      |\n|a611477c-41f1-4a9e-9721-d7afeaf55099|1              |3f472a0e-dcef-4f55-aeae-b49c686b5fd1|1           |Inspector&#39;s Contact Information|input      |\n|a611477c-41f1-4a9e-9721-d7afeaf55099|1              |f76f8151-f799-4929-904e-c386743c31e3|1           |Assignment Notes                   |input      |\n|a611477c-41f1-4a9e-9721-d7afeaf55099|1              |2fff901d-e085-49f4-a3c9-1cff08d79ef9|1           |Observation                        |task       |\n|a611477c-41f1-4a9e-9721-d7afeaf55099|1              |4c6e329f-5821-4403-8649-74d32d4da846|1           |Additional Details                 |input      |\n|a611477c-41f1-4a9e-9721-d7afeaf55099|1              |ebac1f96-a692-4e86-84aa-93bf0b6a67ae|1           |Board Orders                       |input      |\n|a611477c-41f1-4a9e-9721-d7afeaf55099|1              |43dcbde8-8930-4b02-9b43-1e569f798c3f|1           |Additional Documents               |input      |\n|a611477c-41f1-4a9e-9721-d7afeaf55099|2              |25b4d30e-21b0-452f-aaa7-3a13dd71cb3e|1           |Facility Instructions              |input      |\n|a611477c-41f1-4a9e-9721-d7afeaf55099|2              |590f3e27-ecfc-44dc-a286-dfd5a5434ba0|1           |Facility Information               |input      |\n|a611477c-41f1-4a9e-9721-d7afeaf55099|2              |7429d574-210a-4f23-a674-887973473efd|1           |Regulatory Agency Contact          |input      |\n|a611477c-41f1-4a9e-9721-d7afeaf55099|2              |8381161a-10cb-4013-9f7e-07916b083093|1           |Documents from Regulator           |input      |\n|a611477c-41f1-4a9e-9721-d7afeaf55099|2              |3f472a0e-dcef-4f55-aeae-b49c686b5fd1|1           |Inspector&#39;s Contact Information|input      |\n|a611477c-41f1-4a9e-9721-d7afeaf55099|2              |f76f8151-f799-4929-904e-c386743c31e3|1           |Assignment Notes                   |input      |\n|a611477c-41f1-4a9e-9721-d7afeaf55099|2              |2fff901d-e085-49f4-a3c9-1cff08d79ef9|1           |Observation                        |task       |\n|a611477c-41f1-4a9e-9721-d7afeaf55099|2              |4c6e329f-5821-4403-8649-74d32d4da846|1           |Additional Details                 |input      |\n|a611477c-41f1-4a9e-9721-d7afeaf55099|2              |ebac1f96-a692-4e86-84aa-93bf0b6a67ae|1           |Board Orders                       |input      |\n|a611477c-41f1-4a9e-9721-d7afeaf55099|2              |43dcbde8-8930-4b02-9b43-1e569f798c3f|1           |Additional Documents               |input      |\n+------------------------------------+---------------+------------------------------------+------------+-----------------------------------+-----------+\n\n"
    }
   ],
   "source": [
    "###****************DEBUG****************###\n",
    "templateSectionExplodedDF.select(\"workflowid\", \"workflowversion\", \"sectionid\", \"sectionorder\", \"sectiontitle\", \"sectiontype\").filter(col(\"workflowversion\").isin({1, 2})).show(truncate=False)"
   ]
  },
  {
   "cell_type": "code",
   "execution_count": 23,
   "metadata": {},
   "outputs": [
    {
     "name": "stdout",
     "output_type": "stream",
     "text": "+---+---+----+-----------------------------------+-----+----------+---------------+----------+---------------------+\n|wid|sid|sord|sttl                               |styp |fid       |flbl           |fieldorder|fieldtype            |\n+---+---+----+-----------------------------------+-----+----------+---------------+----------+---------------------+\n|1  |2ff|1   |Observation                        |task |3143aaff-c|Observation Nam|1         |shortAnswer          |\n|1  |2ff|1   |Observation                        |task |33a5a586-3|Observation Des|2         |longAnswer           |\n|1  |2ff|1   |Observation                        |task |969c925d-1|Assign To Role |3         |rolesAndGroups       |\n|1  |2ff|1   |Observation                        |task |480e2bff-6|Status         |4         |radioButton          |\n|1  |2ff|1   |Observation                        |task |8ce662ae-4|null           |5         |dependentDropdownList|\n|1  |2ff|1   |Observation                        |task |a65efc78-c|Is Corrective A|6         |radioButton          |\n|1  |2ff|1   |Observation                        |task |60ba161a-b|Reason For No A|7         |radioButton          |\n|1  |2ff|1   |Observation                        |task |50df1dd0-4|Corrective Acti|8         |longAnswer           |\n|1  |2ff|1   |Observation                        |task |651a5aaa-0|Response Requir|9         |radioButton          |\n|1  |2ff|1   |Observation                        |task |3a5a2bc3-d|Response Due Da|10        |date                 |\n|1  |2ff|1   |Observation                        |task |57c211f6-9|Response Submit|11        |date                 |\n|1  |3f4|1   |Inspector&#39;s Contact Information|input|60f5c87c-b|Inspector Name |1         |shortAnswer          |\n|1  |3f4|1   |Inspector&#39;s Contact Information|input|ec40e637-2|Inspector Email|2         |email                |\n|1  |3f4|1   |Inspector&#39;s Contact Information|input|4f842804-7|Inspector Phone|3         |phone                |\n|1  |43d|1   |Additional Documents               |input|10a9227f-6|Additional Docu|1         |fileAttachment       |\n|1  |4c6|1   |Additional Details                 |input|b98305e1-e|Contact Type   |1         |radioButton          |\n|1  |4c6|1   |Additional Details                 |input|06828720-4|Additional Comm|2         |longAnswer           |\n|1  |4c6|1   |Additional Details                 |input|34abda95-c|Fines Issued   |3         |currency             |\n|1  |4c6|1   |Additional Details                 |input|ad4fdc63-1|Fines Paid     |4         |currency             |\n|1  |4c6|1   |Additional Details                 |input|dc762e77-4|Date Fines Paid|5         |date                 |\n|1  |4c6|1   |Additional Details                 |input|72da12bd-7|Fees Issued    |6         |currency             |\n|1  |4c6|1   |Additional Details                 |input|ec0345b2-9|Fees Paid      |7         |currency             |\n|1  |4c6|1   |Additional Details                 |input|bb88e59b-1|Date Fees Paid |8         |date                 |\n|1  |590|1   |Facility Information               |input|ba494455-3|null           |1         |facilityStore        |\n|1  |590|1   |Facility Information               |input|5e233f83-6|null           |2         |associateInformation |\n|1  |742|1   |Regulatory Agency Contact          |input|a0da99e6-5|Date of Contact|1         |date                 |\n|1  |742|1   |Regulatory Agency Contact          |input|c8c49e4a-1|Method of Conta|2         |radioButton          |\n|1  |742|1   |Regulatory Agency Contact          |input|2453cf3d-6|Agency Level   |3         |radioButton          |\n|1  |742|1   |Regulatory Agency Contact          |input|6996e815-b|Agency Name    |4         |dropdown             |\n|1  |742|1   |Regulatory Agency Contact          |input|f4dc646c-3|Subject Matter |5         |dropdown             |\n|1  |742|1   |Regulatory Agency Contact          |input|15088ebb-2|Did the inspect|6         |radioButton          |\n|1  |742|1   |Regulatory Agency Contact          |input|29ae873c-0|Did you provide|7         |radioButton          |\n|1  |742|1   |Regulatory Agency Contact          |input|f46753af-a|Comments       |8         |longAnswer           |\n|1  |838|1   |Documents from Regulator           |input|1fbd66f0-3|Documents      |1         |fileAttachment       |\n|1  |eba|1   |Board Orders                       |input|f2eccc29-6|Permit Discipli|1         |checkbox             |\n|1  |eba|1   |Board Orders                       |input|787db698-8|Discipline Remo|2         |radioButton          |\n|1  |eba|1   |Board Orders                       |input|4c9096b4-f|Type of Discipl|3         |checkbox             |\n|1  |f76|1   |Assignment Notes                   |input|57c50f5e-d|Insufficient Pa|1         |radioButton          |\n|1  |f76|1   |Assignment Notes                   |input|034f95df-b|Assigned Team  |2         |rolesAndGroups       |\n|1  |f76|1   |Assignment Notes                   |input|fd934826-2|Assigned To    |3         |dropdown             |\n|1  |f76|1   |Assignment Notes                   |input|a074c4bf-4|Non Health and |4         |checkbox             |\n+---+---+----+-----------------------------------+-----+----------+---------------+----------+---------------------+\n\n"
    }
   ],
   "source": [
    "###****************DEBUG****************###\n",
    "from pyspark.sql.functions import substring\n",
    "templateFieldExplodedDF = templateSectionExplodedDF.select(\"workflowid\", \"workflowversion\", \"sectionid\", \"sectionorder\", \"sectiontitle\", \"sectiontype\", explode(\"fields\").alias(\"field\")).select(\"workflowid\", \"workflowversion\", \"sectionid\", \"sectionorder\", \"sectiontitle\", \"sectiontype\", col(\"field.id\").alias(\"fieldid\"), col(\"field.helpertext\").alias(\"fieldhelpertext\"), col(\"field.hidden\").alias(\"fieldishidden\"), col(\"field.includeyear\").alias(\"fieldincludeyear\"), col(\"field.isfilterable\").alias(\"fieldisfilterable\"), col(\"field.label\").alias(\"fieldlabel\"), col(\"field.options\").alias(\"fieldoptions\"), col(\"field.order\").alias(\"fieldorder\"), col(\"field.placeholder\").alias(\"fieldplaceholder\"), col(\"field.prefix\").alias(\"fieldprefix\"), col(\"field.required\").alias(\"fieldidrequired\"), col(\"field.responses\").alias(\"fieldresponses\"), col(\"field.type\").alias(\"fieldtype\"))\n",
    "\n",
    "#templateFieldExplodedDF.select(col(\"workflowversion\").alias(\"wid\"), substring(\"sectionid\", 0, 3).alias(\"sid\"), col(\"sectionorder\").alias(\"sord\"), substring(\"sectiontitle\",0, 20).alias(\"sttl\"), col(\"sectiontype\").alias(\"styp\"), substring(\"fieldid\", 0, 10).alias(\"fid\"), substring(\"fieldhelpertext\", 0, 15).alias(\"fhlp\"), col(\"fieldishidden\").alias(\"fhid\"), col(\"fieldincludeyear\").alias(\"fiy\"), col(\"fieldisfilterable\").alias(\"fif\"), substring(\"fieldlabel\", 0, 15).alias(\"flbl\"), substring(col(\"fieldoptions\").cast(\"string\"), 0, 30).alias(\"fopt\"), \"fieldorder\", \"fieldidrequired\", \"fieldresponses\", \"fieldtype\").filter(col(\"wid\") == 1).distinct().sort(col(\"sid\"), col(\"fieldorder\")).show(50, truncate=False)\n",
    "\n",
    "templateFieldExplodedDF.select(col(\"workflowversion\").alias(\"wid\"), substring(\"sectionid\", 0, 3).alias(\"sid\"), col(\"sectionorder\").alias(\"sord\"), substring(\"sectiontitle\",0, 50).alias(\"sttl\"), col(\"sectiontype\").alias(\"styp\"), substring(\"fieldid\", 0, 10).alias(\"fid\"), substring(\"fieldlabel\", 0, 15).alias(\"flbl\"), \"fieldorder\", \"fieldtype\").filter(col(\"wid\") == 1).distinct().sort(col(\"sid\"), col(\"fieldorder\")).show(50, truncate=False)\n",
    "#sectiontitle_coalesce(fieldlabel, fieldtype)"
   ]
  },
  {
   "cell_type": "code",
   "execution_count": 16,
   "metadata": {},
   "outputs": [],
   "source": [
    "#Printing a single JSON workflow metadata to look at all records in full\n",
    "tmpdir = keys[\"tmp-dir\"]\n",
    "templateParsed.select(\"json\").limit(1).write.mode(\"overwrite\").json(tmpdir + \"/templates\")"
   ]
  },
  {
   "cell_type": "code",
   "execution_count": 83,
   "metadata": {},
   "outputs": [],
   "source": [
    "parsedWorkflowMeta1 = templateParsed.select(col(\"json.id\").alias(\"workflowid\"), col(\"json.version\").alias(\"workflowVersion\"), explode(\"json.sections\").alias(\"section\")).select(\"workflowid\", \"workflowversion\", col(\"section.id\").alias(\"sectionid\"), explode(\"section.fields\").alias(\"field\")).select(\"workflowid\", \"workflowversion\", \"sectionid\", col(\"field.id\").alias(\"fieldId\")).distinct()"
   ]
  },
  {
   "cell_type": "code",
   "execution_count": 85,
   "metadata": {},
   "outputs": [
    {
     "name": "stdout",
     "output_type": "stream",
     "text": "+------------------------------------+---------------+------------------------------------+------------------------------------+\n|workflowid                          |workflowversion|sectionid                           |fieldId                             |\n+------------------------------------+---------------+------------------------------------+------------------------------------+\n|a611477c-41f1-4a9e-9721-d7afeaf55099|1              |2fff901d-e085-49f4-a3c9-1cff08d79ef9|a65efc78-cd63-41bf-bee6-1ea0808b2d50|\n|a611477c-41f1-4a9e-9721-d7afeaf55099|5              |2fff901d-e085-49f4-a3c9-1cff08d79ef9|50df1dd0-4eea-45b0-8a52-af78ffdef8f6|\n|a611477c-41f1-4a9e-9721-d7afeaf55099|8              |2fff901d-e085-49f4-a3c9-1cff08d79ef9|57c211f6-9b84-439f-8984-538534537a66|\n|a611477c-41f1-4a9e-9721-d7afeaf55099|9              |7429d574-210a-4f23-a674-887973473efd|15088ebb-2cd2-40c2-9ba6-58bdad9255ee|\n|a611477c-41f1-4a9e-9721-d7afeaf55099|5              |7429d574-210a-4f23-a674-887973473efd|6996e815-b3d8-4e91-9cf3-73319a492ae2|\n+------------------------------------+---------------+------------------------------------+------------------------------------+\n\n"
    }
   ],
   "source": [
    "parsedWorkflowMeta1.show(truncate= False)"
   ]
  },
  {
   "cell_type": "code",
   "execution_count": 129,
   "metadata": {},
   "outputs": [
    {
     "name": "stdout",
     "output_type": "stream",
     "text": "+------------------------------------+---------------+------------------------------------+----------------------------------------------------------------------------+\n|workflowid                          |workflowversion|fieldid                             |title                                                                       |\n+------------------------------------+---------------+------------------------------------+----------------------------------------------------------------------------+\n|a611477c-41f1-4a9e-9721-d7afeaf55099|1              |ba494455-3cf8-443e-a5f4-b1a119aaaf23|dyn_facility_information_facilitystore                                      |\n|a611477c-41f1-4a9e-9721-d7afeaf55099|1              |5e233f83-6348-4d7d-8f30-91a5a76997df|dyn_facility_information_associateinformation                               |\n|a611477c-41f1-4a9e-9721-d7afeaf55099|1              |a0da99e6-5f30-48d4-a8f9-ae892e4c93d9|dyn_regulatory_agency_contact_date_of_contact                               |\n|a611477c-41f1-4a9e-9721-d7afeaf55099|1              |c8c49e4a-1b22-43fc-a4be-e7c6d4a4f9ef|dyn_regulatory_agency_contact_method_of_contact                             |\n|a611477c-41f1-4a9e-9721-d7afeaf55099|1              |2453cf3d-64c7-42de-9517-329f469fd050|dyn_regulatory_agency_contact_agency_level                                  |\n|a611477c-41f1-4a9e-9721-d7afeaf55099|1              |6996e815-b3d8-4e91-9cf3-73319a492ae2|dyn_regulatory_agency_contact_agency_name                                   |\n|a611477c-41f1-4a9e-9721-d7afeaf55099|1              |f4dc646c-3421-4d42-9a7f-868d73a48944|dyn_regulatory_agency_contact_subject_matter_area                           |\n|a611477c-41f1-4a9e-9721-d7afeaf55099|1              |15088ebb-2cd2-40c2-9ba6-58bdad9255ee|dyn_regulatory_agency_contact_did_the_inspector_leave_any_paperwork         |\n|a611477c-41f1-4a9e-9721-d7afeaf55099|1              |29ae873c-0578-4255-b2a8-2ed58280ff20|dyn_regulatory_agency_contact_did_you_provide_any_documents_to_the_inspector|\n|a611477c-41f1-4a9e-9721-d7afeaf55099|1              |f46753af-a232-4c6a-a268-638504897c97|dyn_regulatory_agency_contact_comments                                      |\n|a611477c-41f1-4a9e-9721-d7afeaf55099|1              |1fbd66f0-3179-4428-9cf5-d9b2e1a83092|dyn_documents_from_regulator_documents                                      |\n|a611477c-41f1-4a9e-9721-d7afeaf55099|1              |60f5c87c-bf39-4926-ac40-9ecda88e5ebd|dyn_inspector39s_contact_information_inspector_name                         |\n|a611477c-41f1-4a9e-9721-d7afeaf55099|1              |ec40e637-292d-4b67-a5a2-44167d9f7823|dyn_inspector39s_contact_information_inspector_email                        |\n|a611477c-41f1-4a9e-9721-d7afeaf55099|1              |4f842804-7da0-4a18-afb3-696c7b1a0991|dyn_inspector39s_contact_information_inspector_phone_number                 |\n|a611477c-41f1-4a9e-9721-d7afeaf55099|1              |57c50f5e-df29-4a11-af9d-06e29ab11747|dyn_assignment_notes_insufficient_paperwork                                 |\n|a611477c-41f1-4a9e-9721-d7afeaf55099|1              |034f95df-bff4-43d7-a9f9-5dcd49f82551|dyn_assignment_notes_assigned_team                                          |\n|a611477c-41f1-4a9e-9721-d7afeaf55099|1              |fd934826-2acd-4222-8100-41ceb3e69a07|dyn_assignment_notes_assigned_to                                            |\n|a611477c-41f1-4a9e-9721-d7afeaf55099|1              |a074c4bf-4519-42e8-9b9e-f930823215f2|dyn_assignment_notes_non_health_and_wellness_contact                        |\n|a611477c-41f1-4a9e-9721-d7afeaf55099|1              |3143aaff-c06c-4593-a63f-552f6ac35d88|dyn_observation_observation_name                                            |\n|a611477c-41f1-4a9e-9721-d7afeaf55099|1              |33a5a586-3f18-442b-bb3c-212c70e25b96|dyn_observation_observation_description                                     |\n|a611477c-41f1-4a9e-9721-d7afeaf55099|1              |969c925d-18c4-4865-abdb-cee2d92d32aa|dyn_observation_assign_to_role                                              |\n|a611477c-41f1-4a9e-9721-d7afeaf55099|1              |480e2bff-6879-4b2d-8539-842b9cfbe42f|dyn_observation_status                                                      |\n|a611477c-41f1-4a9e-9721-d7afeaf55099|1              |8ce662ae-4f5d-46f8-a4f2-3447ca74ace7|dyn_observation_dependentdropdownlist                                       |\n|a611477c-41f1-4a9e-9721-d7afeaf55099|1              |a65efc78-cd63-41bf-bee6-1ea0808b2d50|dyn_observation_is_corrective_action_required                               |\n|a611477c-41f1-4a9e-9721-d7afeaf55099|1              |60ba161a-b56f-4979-b60a-9a709aa1a101|dyn_observation_reason_for_no_action                                        |\n|a611477c-41f1-4a9e-9721-d7afeaf55099|1              |50df1dd0-4eea-45b0-8a52-af78ffdef8f6|dyn_observation_corrective_action                                           |\n|a611477c-41f1-4a9e-9721-d7afeaf55099|1              |651a5aaa-0f7f-48b7-aa5c-05801b1a487f|dyn_observation_response_required                                           |\n|a611477c-41f1-4a9e-9721-d7afeaf55099|1              |3a5a2bc3-dffc-458c-a073-9f68c2059655|dyn_observation_response_due_date                                           |\n|a611477c-41f1-4a9e-9721-d7afeaf55099|1              |57c211f6-9b84-439f-8984-538534537a66|dyn_observation_response_submitted_date                                     |\n|a611477c-41f1-4a9e-9721-d7afeaf55099|1              |b98305e1-e911-4a98-9541-df6094937a75|dyn_additional_details_contact_type                                         |\n|a611477c-41f1-4a9e-9721-d7afeaf55099|1              |06828720-4bd6-4f71-8ddc-095748ffc0d1|dyn_additional_details_additional_comments                                  |\n|a611477c-41f1-4a9e-9721-d7afeaf55099|1              |34abda95-c740-47bd-bf78-3b72f99a02cf|dyn_additional_details_fines_issued                                         |\n|a611477c-41f1-4a9e-9721-d7afeaf55099|1              |ad4fdc63-12ea-412e-aa02-56ff266c3f96|dyn_additional_details_fines_paid                                           |\n|a611477c-41f1-4a9e-9721-d7afeaf55099|1              |dc762e77-4701-4282-962d-021d3eb530e9|dyn_additional_details_date_fines_paid                                      |\n|a611477c-41f1-4a9e-9721-d7afeaf55099|1              |72da12bd-74b1-431e-a462-aa5147fdc13b|dyn_additional_details_fees_issued                                          |\n|a611477c-41f1-4a9e-9721-d7afeaf55099|1              |ec0345b2-9d5a-426a-a9d3-177a84a0a78d|dyn_additional_details_fees_paid                                            |\n|a611477c-41f1-4a9e-9721-d7afeaf55099|1              |bb88e59b-1357-4e74-a998-a4ed7450eb0e|dyn_additional_details_date_fees_paid                                       |\n|a611477c-41f1-4a9e-9721-d7afeaf55099|1              |f2eccc29-633c-491a-b400-007f7a365135|dyn_board_orders_permit_discipline                                          |\n|a611477c-41f1-4a9e-9721-d7afeaf55099|1              |787db698-8ba4-4c44-8c20-0addc81416e7|dyn_board_orders_discipline_removed                                         |\n|a611477c-41f1-4a9e-9721-d7afeaf55099|1              |4c9096b4-fd9b-405b-9abd-dcbeee0ebe46|dyn_board_orders_type_of_discipline_removed                                 |\n|a611477c-41f1-4a9e-9721-d7afeaf55099|1              |10a9227f-63ae-49e2-832f-f7322b5dd71e|dyn_additional_documents_additional_documents                               |\n+------------------------------------+---------------+------------------------------------+----------------------------------------------------------------------------+\n\n"
    }
   ],
   "source": [
    "import re\n",
    "from pyspark.sql.functions import udf, StringType, lit, isnull\n",
    "#Create a UDF to transform the sectiontitle, fieldlable, fieldtype columns into a concatenated column\n",
    "def generate_col(sectiontitle, fieldlabel, fieldtype):\n",
    "    #''.join(char for char in sectiontitle if char.isalnum())\n",
    "    sectiontitle_fmt = re.sub('[ ]+', '_', re.sub('[^A-Za-z0-9 ]+', '', sectiontitle)).lower()\n",
    "    \n",
    "    fieldlabel_fmt = ''\n",
    "    if fieldlabel is None:\n",
    "        fieldlabel_fmt = re.sub('[ ]+', '_', re.sub('[^A-Za-z0-9 ]+', '', fieldtype)).lower()\n",
    "    else:\n",
    "        fieldlabel_fmt = re.sub('[ ]+', '_', re.sub('[^A-Za-z0-9 ]+', '', fieldlabel)).lower()\n",
    "\n",
    "    return 'dyn_'+sectiontitle_fmt+'_'+fieldlabel_fmt\n",
    "#print(generate_col(\"Inspector's Contact Information\", \"null\", \"c\"))    \n",
    "\n",
    "\n",
    "generate_col_udf = udf(generate_col, StringType())\n",
    "#templateFieldExplodedDF.withColumn(\"title\", generate_col_udf(col(\"sectiontitle\"), col(\"fieldlabel\"), col(\"fieldtype\")))\\\n",
    "#    .select(\"workflowversion\", \"sectionid\", \"fieldid\", \"fieldorder\", \"title\", \"fieldlabel\")\\\n",
    "#    .filter(col(\"workflowversion\") == 1)\\\n",
    "#    .show(50, truncate=False)\n",
    "\n",
    "#.filter((col(\"workflowversion\") == 1) & (isnull(col(\"fieldlabel\"))))\\\n",
    "\n",
    "workflowTemplateSchema = templateFieldExplodedDF.withColumn(\"title\", generate_col_udf(col(\"sectiontitle\"), col(\"fieldlabel\"), col(\"fieldtype\")))\\\n",
    "    .select(\"workflowid\", \"workflowversion\", \"fieldid\", \"title\")\n",
    "\n",
    "workflowTemplateSchema.filter(col(\"workflowversion\")==1).show(50, truncate=False)"
   ]
  },
  {
   "cell_type": "code",
   "execution_count": 72,
   "metadata": {},
   "outputs": [
    {
     "name": "stdout",
     "output_type": "stream",
     "text": "+------------------------------------+---------------+-----------------------+---------------------+------------+\n|workflowid                          |workflowversion|count(DISTINCT fieldId)|count(DISTINCT title)|count(title)|\n+------------------------------------+---------------+-----------------------+---------------------+------------+\n|a611477c-41f1-4a9e-9721-d7afeaf55099|1              |41                     |41                   |41          |\n|a611477c-41f1-4a9e-9721-d7afeaf55099|2              |41                     |41                   |41          |\n|a611477c-41f1-4a9e-9721-d7afeaf55099|3              |42                     |42                   |42          |\n|a611477c-41f1-4a9e-9721-d7afeaf55099|4              |42                     |42                   |42          |\n|a611477c-41f1-4a9e-9721-d7afeaf55099|5              |42                     |42                   |42          |\n|a611477c-41f1-4a9e-9721-d7afeaf55099|6              |42                     |42                   |42          |\n|a611477c-41f1-4a9e-9721-d7afeaf55099|7              |42                     |42                   |42          |\n|a611477c-41f1-4a9e-9721-d7afeaf55099|8              |42                     |42                   |42          |\n|a611477c-41f1-4a9e-9721-d7afeaf55099|9              |42                     |42                   |42          |\n|a611477c-41f1-4a9e-9721-d7afeaf55099|10             |42                     |42                   |42          |\n+------------------------------------+---------------+-----------------------+---------------------+------------+\n\n"
    }
   ],
   "source": [
    "#Checking if the fieldId and title are PK combination for a given workflow version\n",
    "from pyspark.sql.functions import countDistinct, count\n",
    "workflowTemplateSchema.groupBy(\"workflowid\", \"workflowversion\")\\\n",
    "    .agg(countDistinct(\"fieldId\"), countDistinct(\"title\"), count(\"title\"))\\\n",
    "    .sort(col(\"workflowversion\"))\\\n",
    "    .show(truncate=False)\n",
    "#(countDistinct(\"fieldid\").alias(\"fieldid_cnt\"), count(col(\"fieldid\")).alias(\"tot_cnt\")).show()"
   ]
  },
  {
   "cell_type": "code",
   "execution_count": 130,
   "metadata": {},
   "outputs": [
    {
     "name": "stdout",
     "output_type": "stream",
     "text": "+------------------------------------+---------------+------------------------------------+-------------------------------------+\n|workflowid                          |workflowversion|dyn_observation_status              |dyn_observation_dependentdropdownlist|\n+------------------------------------+---------------+------------------------------------+-------------------------------------+\n|a611477c-41f1-4a9e-9721-d7afeaf55099|1              |480e2bff-6879-4b2d-8539-842b9cfbe42f|8ce662ae-4f5d-46f8-a4f2-3447ca74ace7 |\n|a611477c-41f1-4a9e-9721-d7afeaf55099|2              |480e2bff-6879-4b2d-8539-842b9cfbe42f|8ce662ae-4f5d-46f8-a4f2-3447ca74ace7 |\n|a611477c-41f1-4a9e-9721-d7afeaf55099|3              |480e2bff-6879-4b2d-8539-842b9cfbe42f|8ce662ae-4f5d-46f8-a4f2-3447ca74ace7 |\n|a611477c-41f1-4a9e-9721-d7afeaf55099|4              |480e2bff-6879-4b2d-8539-842b9cfbe42f|8ce662ae-4f5d-46f8-a4f2-3447ca74ace7 |\n|a611477c-41f1-4a9e-9721-d7afeaf55099|5              |480e2bff-6879-4b2d-8539-842b9cfbe42f|8ce662ae-4f5d-46f8-a4f2-3447ca74ace7 |\n|a611477c-41f1-4a9e-9721-d7afeaf55099|6              |480e2bff-6879-4b2d-8539-842b9cfbe42f|8ce662ae-4f5d-46f8-a4f2-3447ca74ace7 |\n|a611477c-41f1-4a9e-9721-d7afeaf55099|7              |480e2bff-6879-4b2d-8539-842b9cfbe42f|8ce662ae-4f5d-46f8-a4f2-3447ca74ace7 |\n|a611477c-41f1-4a9e-9721-d7afeaf55099|8              |480e2bff-6879-4b2d-8539-842b9cfbe42f|8ce662ae-4f5d-46f8-a4f2-3447ca74ace7 |\n|a611477c-41f1-4a9e-9721-d7afeaf55099|9              |480e2bff-6879-4b2d-8539-842b9cfbe42f|8ce662ae-4f5d-46f8-a4f2-3447ca74ace7 |\n|a611477c-41f1-4a9e-9721-d7afeaf55099|10             |480e2bff-6879-4b2d-8539-842b9cfbe42f|8ce662ae-4f5d-46f8-a4f2-3447ca74ace7 |\n+------------------------------------+---------------+------------------------------------+-------------------------------------+\n\n"
    }
   ],
   "source": [
    "#Pivoting the workflowTemplateSchema dataframe\n",
    "from pyspark.sql.functions import first\n",
    "\n",
    "workflowSchemaPivot = workflowTemplateSchema\\\n",
    "    .groupBy(\"workflowid\", \"workflowversion\")\\\n",
    "    .pivot(\"title\")\\\n",
    "    .agg(first(\"fieldid\"))\\\n",
    "    .sort(\"workflowversion\")\n",
    "\n",
    "workflowSchemaPivot.select(\"workflowid\", 'workflowversion', 'dyn_observation_status','dyn_observation_dependentdropdownlist').show(truncate=False)"
   ]
  },
  {
   "cell_type": "code",
   "execution_count": 88,
   "metadata": {},
   "outputs": [],
   "source": [
    "#Creating a dataframe for workflow attributes\n",
    "templatesNonSchemaAttribute = templatesDF.select(\"workflowid\", \"workflowversion\", col(\"name\").alias(\"workflowname\"), col(\"description\").alias(\"workflowdescription\"))"
   ]
  },
  {
   "cell_type": "code",
   "execution_count": 76,
   "metadata": {},
   "outputs": [
    {
     "data": {
      "text/plain": "DataFrame[submissionid: string, currentstep: int, totalsteps: int, workflowid: string, workflowversion: int, createdts: timestamp, lastupdatedts: timestamp, createdby: string, lastupdatedname: string, createdbyname: string, recordid: string, countrycode: string, stepmetadata: string, tzoffset: int]"
     },
     "execution_count": 76,
     "metadata": {},
     "output_type": "execute_result"
    }
   ],
   "source": [
    "# Load data from submissions table for workflowid='a0ab07fa-fe40-4eb5-bdef-5b505defd91a'\n",
    "#table = \"(SELECT workflowid, workflowversion, count(1) as cnt from reach.submissions where workflowid='a611477c-41f1-4a9e-9721-d7afeaf55099' group by workflowid, workflowversion) AS t\"\n",
    "table = \"(SELECT submissionid, currentstep, totalsteps, workflowid, workflowversion, createdts, lastupdatedts, createdby, lastupdatedname, createdbyname, recordid, countrycode, REPLACE(CONVERT(REPLACE(stepmetadata,'&amp;','&') using utf8),'','') as stepmetadata, tzoffset from reach.submissions where workflowid='a611477c-41f1-4a9e-9721-d7afeaf55099' and workflowversion<11) AS t\"\n",
    "\n",
    "submissionsDF = spark.read.jdbc(url, table, properties=properties)\n",
    "submissionsDF.cache()"
   ]
  },
  {
   "cell_type": "code",
   "execution_count": 89,
   "metadata": {},
   "outputs": [
    {
     "name": "stdout",
     "output_type": "stream",
     "text": "+------------------------------------+---------------------+----------+------------------------------------+---------------+-------------------+-----------------------+---------+-----------+--------+\n|submissionid                        |submissionCurrentStep|totalsteps|workflowid                          |workflowversion|submissionCreatedTs|submissionLastUpdatedTs|recordid |countrycode|tzoffset|\n+------------------------------------+---------------------+----------+------------------------------------+---------------+-------------------+-----------------------+---------+-----------+--------+\n|05855f2d-e9f7-4d7b-b9d2-28b45da429d0|4                    |4         |a611477c-41f1-4a9e-9721-d7afeaf55099|9              |2019-02-12 19:51:04|2019-04-15 14:47:11    |ba16-20f8|US         |-21600  |\n|1af76439-45c4-492f-87c8-09c03781259e|4                    |4         |a611477c-41f1-4a9e-9721-d7afeaf55099|10             |2019-02-13 20:29:45|2019-06-07 13:02:14    |9d35-2658|US         |-18000  |\n|1b545335-885b-440c-8e03-bf3e9f411855|3                    |4         |a611477c-41f1-4a9e-9721-d7afeaf55099|5              |2019-02-12 15:18:52|2019-02-14 16:45:14    |8111-cf7c|US         |-14400  |\n|1f40d9cd-e35d-434a-b7cd-6b260899a8ef|4                    |4         |a611477c-41f1-4a9e-9721-d7afeaf55099|10             |2019-02-14 16:13:38|2019-02-14 17:49:13    |bc26-909e|US         |-18000  |\n|452e8ecb-be5d-4944-bb27-7a2040700c8c|4                    |4         |a611477c-41f1-4a9e-9721-d7afeaf55099|10             |2019-02-13 13:37:53|2019-02-13 15:41:12    |1271-d297|US         |-18000  |\n|5dc916e3-aa2b-48a1-a86d-2b4eafa2c546|4                    |4         |a611477c-41f1-4a9e-9721-d7afeaf55099|10             |2019-02-13 20:37:52|2019-03-11 20:24:26    |388c-0cbe|US         |-18000  |\n|62e5a5a8-3ad7-4486-9c53-591145b86cef|4                    |4         |a611477c-41f1-4a9e-9721-d7afeaf55099|10             |2019-02-13 20:06:09|2019-02-19 15:39:05    |f5ba-dbe3|US         |-18000  |\n|79591669-14a4-4d4d-a7b3-3fca06c4978b|4                    |4         |a611477c-41f1-4a9e-9721-d7afeaf55099|10             |2019-02-13 22:06:48|2019-02-14 19:19:46    |79b0-01e8|US         |-18000  |\n|8104962f-9702-41c9-ad1f-dcc2281f7014|4                    |4         |a611477c-41f1-4a9e-9721-d7afeaf55099|7              |2019-02-12 16:44:35|2019-02-12 20:54:27    |88cd-f096|US         |-18000  |\n|972022ca-1e2b-4c3a-b56e-68ea756c0751|4                    |4         |a611477c-41f1-4a9e-9721-d7afeaf55099|10             |2019-02-14 23:26:04|2019-02-15 16:42:32    |93b5-1b1d|US         |-18000  |\n|a04a50cc-f41d-4d58-8173-6239505116bc|4                    |4         |a611477c-41f1-4a9e-9721-d7afeaf55099|10             |2019-02-14 00:01:13|2019-03-07 16:14:09    |aa92-f9e8|US         |-18000  |\n+------------------------------------+---------------------+----------+------------------------------------+---------------+-------------------+-----------------------+---------+-----------+--------+\nonly showing top 11 rows\n\n"
    }
   ],
   "source": [
    "submissionsDF.select(\"submissionid\", col(\"currentstep\").alias(\"submissionCurrentStep\"), \"totalsteps\", \"workflowid\", \"workflowversion\", col(\"createdts\").alias(\"submissionCreatedTs\"), col(\"lastupdatedts\").alias(\"submissionLastUpdatedTs\"), \"recordid\", \"countrycode\", \"tzoffset\").show(11, truncate=False)"
   ]
  },
  {
   "cell_type": "code",
   "execution_count": 101,
   "metadata": {},
   "outputs": [
    {
     "name": "stdout",
     "output_type": "stream",
     "text": "+------------------------------------+---------------------+------------------------------------+-------------------------+-------------------+-----------------------+---------+---------------------+\n|submissionid                        |submissionCurrentStep|submissionWorkflowId                |submissionWorkflowVersion|submissionCreatedTs|submissionLastUpdatedTs|recordid |submissionCountryCode|\n+------------------------------------+---------------------+------------------------------------+-------------------------+-------------------+-----------------------+---------+---------------------+\n|05855f2d-e9f7-4d7b-b9d2-28b45da429d0|4                    |a611477c-41f1-4a9e-9721-d7afeaf55099|9                        |2019-02-12 19:51:04|2019-04-15 14:47:11    |ba16-20f8|US                   |\n|1af76439-45c4-492f-87c8-09c03781259e|4                    |a611477c-41f1-4a9e-9721-d7afeaf55099|10                       |2019-02-13 20:29:45|2019-06-07 13:02:14    |9d35-2658|US                   |\n|1b545335-885b-440c-8e03-bf3e9f411855|3                    |a611477c-41f1-4a9e-9721-d7afeaf55099|5                        |2019-02-12 15:18:52|2019-02-14 16:45:14    |8111-cf7c|US                   |\n|1f40d9cd-e35d-434a-b7cd-6b260899a8ef|4                    |a611477c-41f1-4a9e-9721-d7afeaf55099|10                       |2019-02-14 16:13:38|2019-02-14 17:49:13    |bc26-909e|US                   |\n|452e8ecb-be5d-4944-bb27-7a2040700c8c|4                    |a611477c-41f1-4a9e-9721-d7afeaf55099|10                       |2019-02-13 13:37:53|2019-02-13 15:41:12    |1271-d297|US                   |\n|5dc916e3-aa2b-48a1-a86d-2b4eafa2c546|4                    |a611477c-41f1-4a9e-9721-d7afeaf55099|10                       |2019-02-13 20:37:52|2019-03-11 20:24:26    |388c-0cbe|US                   |\n|62e5a5a8-3ad7-4486-9c53-591145b86cef|4                    |a611477c-41f1-4a9e-9721-d7afeaf55099|10                       |2019-02-13 20:06:09|2019-02-19 15:39:05    |f5ba-dbe3|US                   |\n|79591669-14a4-4d4d-a7b3-3fca06c4978b|4                    |a611477c-41f1-4a9e-9721-d7afeaf55099|10                       |2019-02-13 22:06:48|2019-02-14 19:19:46    |79b0-01e8|US                   |\n|8104962f-9702-41c9-ad1f-dcc2281f7014|4                    |a611477c-41f1-4a9e-9721-d7afeaf55099|7                        |2019-02-12 16:44:35|2019-02-12 20:54:27    |88cd-f096|US                   |\n|972022ca-1e2b-4c3a-b56e-68ea756c0751|4                    |a611477c-41f1-4a9e-9721-d7afeaf55099|10                       |2019-02-14 23:26:04|2019-02-15 16:42:32    |93b5-1b1d|US                   |\n|a04a50cc-f41d-4d58-8173-6239505116bc|4                    |a611477c-41f1-4a9e-9721-d7afeaf55099|10                       |2019-02-14 00:01:13|2019-03-07 16:14:09    |aa92-f9e8|US                   |\n|a6b3d895-f0a2-4cf4-9f00-316e102071cf|4                    |a611477c-41f1-4a9e-9721-d7afeaf55099|10                       |2019-02-13 21:58:44|2019-02-14 16:34:32    |fc6b-4a21|US                   |\n|c43e61a9-f219-4557-98e4-f20e7000d6ca|4                    |a611477c-41f1-4a9e-9721-d7afeaf55099|10                       |2019-02-13 14:42:47|2019-02-13 17:15:45    |b361-895c|US                   |\n|c548e4b9-d45b-4913-8da9-cfb8a9c3e077|4                    |a611477c-41f1-4a9e-9721-d7afeaf55099|10                       |2019-02-13 18:00:51|2019-02-13 21:59:41    |f24b-213b|US                   |\n|db4b57c9-fd76-4d48-9e88-d9224b91589b|4                    |a611477c-41f1-4a9e-9721-d7afeaf55099|10                       |2019-02-13 20:44:03|2019-02-13 21:51:45    |6615-9463|US                   |\n|de7aa31a-9185-4f62-8df8-1e97c5528961|4                    |a611477c-41f1-4a9e-9721-d7afeaf55099|5                        |2019-02-12 16:04:45|2019-02-12 17:10:29    |b02f-ce16|US                   |\n|edcd8325-31eb-43a0-9f7c-a76aa30f54d9|4                    |a611477c-41f1-4a9e-9721-d7afeaf55099|7                        |2019-02-12 17:14:48|2019-02-12 17:40:35    |e595-9459|US                   |\n|fe67e58e-ef41-4ca0-9415-ace529958b8f|4                    |a611477c-41f1-4a9e-9721-d7afeaf55099|10                       |2019-02-13 14:14:02|2019-04-25 19:16:23    |5666-20dd|US                   |\n+------------------------------------+---------------------+------------------------------------+-------------------------+-------------------+-----------------------+---------+---------------------+\n\n"
    },
    {
     "data": {
      "text/plain": "18"
     },
     "execution_count": 101,
     "metadata": {},
     "output_type": "execute_result"
    }
   ],
   "source": [
    "submissionAttribute = submissionsDF.select(\"submissionid\", col(\"currentstep\").alias(\"submissionCurrentStep\"), col(\"workflowid\").alias(\"submissionWorkflowId\"), col(\"workflowversion\").alias(\"submissionWorkflowVersion\"), col(\"createdts\").alias(\"submissionCreatedTs\"), col(\"lastupdatedts\").alias(\"submissionLastUpdatedTs\"), \"recordid\", col(\"countrycode\").alias(\"submissionCountryCode\"))\n",
    "\n",
    "submissionAttribute.show(truncate=False)\n",
    "submissionAttribute.count()"
   ]
  },
  {
   "cell_type": "code",
   "execution_count": 82,
   "metadata": {},
   "outputs": [
    {
     "data": {
      "text/plain": "DataFrame[responseid: string, submissionid: string, fieldid: string, submittedby: string, submitter: string, lastupdatedts: timestamp, siteid: string, value: string, order: int, currentstep: string, createdTs: timestamp, submittedByName: string, lastUpdatedBy: string, taskid: string]"
     },
     "execution_count": 82,
     "metadata": {},
     "output_type": "execute_result"
    }
   ],
   "source": [
    "# Load data from responses table for workflowid='a0ab07fa-fe40-4eb5-bdef-5b505defd91a'\n",
    "#table = \"(SELECT workflowid, count(1) as cnt from reach.responses group by workflowid) AS t\"\n",
    "table = \"(SELECT responseid, submissionid, fieldid, submittedby, submitter, lastupdatedts, siteid, REPLACE(CONVERT(REPLACE(value,'&amp;','&') using utf8),'','') as value, `order`, currentstep, createdTs, submittedByName, lastUpdatedBy, taskid from reach.responses where workflowid='a611477c-41f1-4a9e-9721-d7afeaf55099' and workflowVersion<11) AS t\"\n",
    "\n",
    "responsesDF = spark.read.jdbc(url, table, properties=properties)\n",
    "responsesDF.cache()"
   ]
  },
  {
   "cell_type": "code",
   "execution_count": 83,
   "metadata": {},
   "outputs": [
    {
     "name": "stdout",
     "output_type": "stream",
     "text": "+------------------------------------+------------------------------------+------------------------------------+-------------------+-------+--------------------------------------------------------------------------------+-----+-----------+------------------------------------+\n|responseid                          |submissionid                        |fieldid                             |lastupdatedts      |siteid |responseValue                                                                   |order|currentstep|taskid                              |\n+------------------------------------+------------------------------------+------------------------------------+-------------------+-------+--------------------------------------------------------------------------------+-----+-----------+------------------------------------+\n|003dd09a-2604-4488-a4b2-20df2c3c73f4|5dc916e3-aa2b-48a1-a86d-2b4eafa2c546|a0da99e6-5f30-48d4-a8f9-ae892e4c93d9|2019-02-13 20:49:06|5105   |[\"02/13/2019\"]                                                                  |1    |           |null                                |\n|00e268f3-9bea-4509-8248-0aff857fef23|c548e4b9-d45b-4913-8da9-cfb8a9c3e077|3a5a2bc3-dffc-458c-a073-9f68c2059655|2019-02-13 21:58:59|9999999|[]                                                                              |1    |           |1b9a7b1e-f0ed-411c-9987-a02cb727bd61|\n|0123577d-414f-4887-9bd6-aae2562d33e3|1af76439-45c4-492f-87c8-09c03781259e|ec40e637-292d-4b67-a5a2-44167d9f7823|2019-02-13 20:34:26|1739   |[\"edpeck@pa\\\\.gov\"]                                                             |1    |           |null                                |\n|016b9136-7316-49e6-be3e-5cd56850ca60|db4b57c9-fd76-4d48-9e88-d9224b91589b|3a5a2bc3-dffc-458c-a073-9f68c2059655|2019-02-13 21:31:03|9999999|[]                                                                              |1    |           |caa921fb-cb67-47ac-9c70-ae04fa7d40c6|\n|01a2016e-3e1b-4f7a-bb7b-8d899b4b8fd9|c43e61a9-f219-4557-98e4-f20e7000d6ca|57c211f6-9b84-439f-8984-538534537a66|2019-02-13 17:15:43|9999999|[]                                                                              |1    |           |3e150b21-a9d7-47af-929e-15f35a5dca5a|\n|01d544b4-6785-4112-8e05-a7f39e0a6666|452e8ecb-be5d-4944-bb27-7a2040700c8c|50df1dd0-4eea-45b0-8a52-af78ffdef8f6|2019-02-13 15:40:46|9999999|[null]                                                                          |1    |           |ff22f9b1-735e-429b-9732-589669c4c6dc|\n|01e3f4f4-0140-498b-91c4-b3ecc2a5ddb0|452e8ecb-be5d-4944-bb27-7a2040700c8c|b98305e1-e911-4a98-9541-df6094937a75|2019-02-13 15:41:12|9999999|[\"Inspection - No violation\"]                                                   |1    |           |null                                |\n|022a5c9d-6e70-44d1-8af7-8ccbf72d272e|edcd8325-31eb-43a0-9f7c-a76aa30f54d9|c8c49e4a-1b22-43fc-a4be-e7c6d4a4f9ef|2019-02-12 17:22:45|5267   |[\"On-site\"]                                                                     |1    |           |null                                |\n|02964d44-5266-412c-9d5d-1d6ff6d2a1d3|db4b57c9-fd76-4d48-9e88-d9224b91589b|33a5a586-3f18-442b-bb3c-212c70e25b96|2019-02-13 21:50:55|9999999|[\"Inspection Passed\"]                                                           |1    |           |caa921fb-cb67-47ac-9c70-ae04fa7d40c6|\n|02c56fd3-e27f-4dc2-931b-115d9743aa21|c548e4b9-d45b-4913-8da9-cfb8a9c3e077|57c211f6-9b84-439f-8984-538534537a66|2019-02-13 18:18:40|9999999|[]                                                                              |1    |           |1b9a7b1e-f0ed-411c-9987-a02cb727bd61|\n|0310f577-2eb8-4d18-8f6a-018826efae9e|db4b57c9-fd76-4d48-9e88-d9224b91589b|60ba161a-b56f-4979-b60a-9a709aa1a101|2019-02-13 21:31:03|9999999|[\"No Action Required\"]                                                          |1    |           |caa921fb-cb67-47ac-9c70-ae04fa7d40c6|\n|0370c39d-5f00-424e-ba8d-d5b9b0304b3d|972022ca-1e2b-4c3a-b56e-68ea756c0751|f46753af-a232-4c6a-a268-638504897c97|2019-02-14 23:32:47|2185   |[\"Clinical services binder, POA retention forms, pharmacy technician protocols\"]|1    |           |null                                |\n|038f606c-8b39-4e23-b90b-e276f821613c|edcd8325-31eb-43a0-9f7c-a76aa30f54d9|57c50f5e-df29-4a11-af9d-06e29ab11747|2019-02-12 17:40:26|9999999|[\"No\"]                                                                          |1    |           |null                                |\n|03ee5f3a-bbd6-402f-a7b7-c9a784b872e7|1af76439-45c4-492f-87c8-09c03781259e|57c50f5e-df29-4a11-af9d-06e29ab11747|2019-02-13 20:38:50|9999999|[\"Yes\"]                                                                         |1    |           |null                                |\n|041927a5-063d-4d7d-9409-cde3adb1819a|1af76439-45c4-492f-87c8-09c03781259e|4f842804-7da0-4a18-afb3-696c7b1a0991|2019-02-13 20:34:26|1739   |[\"\\\\+1 \\\\(412\\\\) 565-5026\",null,\"US\"]                                           |1    |           |null                                |\n|04835f7f-e92b-4290-b696-f33ba8c37e5f|fe67e58e-ef41-4ca0-9415-ace529958b8f|15088ebb-2cd2-40c2-9ba6-58bdad9255ee|2019-02-13 14:16:53|5941   |[\"No\"]                                                                          |1    |           |null                                |\n|04e00d0c-92e7-4dac-9e92-0c8d5520bc6b|62e5a5a8-3ad7-4486-9c53-591145b86cef|b98305e1-e911-4a98-9541-df6094937a75|2019-02-19 15:39:05|9999999|[\"Information Only\"]                                                            |1    |           |null                                |\n|04ffacba-f696-4e45-9f9d-799340e485d7|fe67e58e-ef41-4ca0-9415-ace529958b8f|4f842804-7da0-4a18-afb3-696c7b1a0991|2019-02-13 14:16:53|5941   |[\"\\\\+1 \\\\(202\\\\) 535-2298\",null,\"US\"]                                           |1    |           |null                                |\n|060cc750-6a23-4eb1-a939-e4e51adecd81|db4b57c9-fd76-4d48-9e88-d9224b91589b|4f842804-7da0-4a18-afb3-696c7b1a0991|2019-02-13 21:00:53|2184   |[\"\\\\+1 \\\\(617\\\\) 973-0800\",null,\"US\"]                                           |1    |           |null                                |\n|07111e72-858a-4e28-a076-06400e488d78|972022ca-1e2b-4c3a-b56e-68ea756c0751|a0da99e6-5f30-48d4-a8f9-ae892e4c93d9|2019-02-14 23:32:47|2185   |[\"02/14/2019\"]                                                                  |1    |           |null                                |\n+------------------------------------+------------------------------------+------------------------------------+-------------------+-------+--------------------------------------------------------------------------------+-----+-----------+------------------------------------+\nonly showing top 20 rows\n\n"
    },
    {
     "data": {
      "text/plain": "598"
     },
     "execution_count": 83,
     "metadata": {},
     "output_type": "execute_result"
    }
   ],
   "source": [
    "responsesDF.select(\"responseid\", \"submissionid\", \"fieldid\", \"lastupdatedts\", \"siteid\", col(\"value\").alias(\"responseValue\"), \"order\", \"currentstep\", \"taskid\").show(truncate=False)\n",
    "responsesDF.count()"
   ]
  },
  {
   "cell_type": "code",
   "execution_count": 102,
   "metadata": {},
   "outputs": [
    {
     "name": "stdout",
     "output_type": "stream",
     "text": "+------------------------------------+------------------------------------+------------------------------------+--------------------------------------------------------------------------------+-------------+------------------------------------+\n|responseid                          |responseSubmissionId                |fieldid                             |responseValue                                                                   |responseOrder|responseTaskId                      |\n+------------------------------------+------------------------------------+------------------------------------+--------------------------------------------------------------------------------+-------------+------------------------------------+\n|003dd09a-2604-4488-a4b2-20df2c3c73f4|5dc916e3-aa2b-48a1-a86d-2b4eafa2c546|a0da99e6-5f30-48d4-a8f9-ae892e4c93d9|[\"02/13/2019\"]                                                                  |1            |null                                |\n|00e268f3-9bea-4509-8248-0aff857fef23|c548e4b9-d45b-4913-8da9-cfb8a9c3e077|3a5a2bc3-dffc-458c-a073-9f68c2059655|[]                                                                              |1            |1b9a7b1e-f0ed-411c-9987-a02cb727bd61|\n|0123577d-414f-4887-9bd6-aae2562d33e3|1af76439-45c4-492f-87c8-09c03781259e|ec40e637-292d-4b67-a5a2-44167d9f7823|[\"edpeck@pa\\\\.gov\"]                                                             |1            |null                                |\n|016b9136-7316-49e6-be3e-5cd56850ca60|db4b57c9-fd76-4d48-9e88-d9224b91589b|3a5a2bc3-dffc-458c-a073-9f68c2059655|[]                                                                              |1            |caa921fb-cb67-47ac-9c70-ae04fa7d40c6|\n|01a2016e-3e1b-4f7a-bb7b-8d899b4b8fd9|c43e61a9-f219-4557-98e4-f20e7000d6ca|57c211f6-9b84-439f-8984-538534537a66|[]                                                                              |1            |3e150b21-a9d7-47af-929e-15f35a5dca5a|\n|01d544b4-6785-4112-8e05-a7f39e0a6666|452e8ecb-be5d-4944-bb27-7a2040700c8c|50df1dd0-4eea-45b0-8a52-af78ffdef8f6|[null]                                                                          |1            |ff22f9b1-735e-429b-9732-589669c4c6dc|\n|01e3f4f4-0140-498b-91c4-b3ecc2a5ddb0|452e8ecb-be5d-4944-bb27-7a2040700c8c|b98305e1-e911-4a98-9541-df6094937a75|[\"Inspection - No violation\"]                                                   |1            |null                                |\n|022a5c9d-6e70-44d1-8af7-8ccbf72d272e|edcd8325-31eb-43a0-9f7c-a76aa30f54d9|c8c49e4a-1b22-43fc-a4be-e7c6d4a4f9ef|[\"On-site\"]                                                                     |1            |null                                |\n|02964d44-5266-412c-9d5d-1d6ff6d2a1d3|db4b57c9-fd76-4d48-9e88-d9224b91589b|33a5a586-3f18-442b-bb3c-212c70e25b96|[\"Inspection Passed\"]                                                           |1            |caa921fb-cb67-47ac-9c70-ae04fa7d40c6|\n|02c56fd3-e27f-4dc2-931b-115d9743aa21|c548e4b9-d45b-4913-8da9-cfb8a9c3e077|57c211f6-9b84-439f-8984-538534537a66|[]                                                                              |1            |1b9a7b1e-f0ed-411c-9987-a02cb727bd61|\n|0310f577-2eb8-4d18-8f6a-018826efae9e|db4b57c9-fd76-4d48-9e88-d9224b91589b|60ba161a-b56f-4979-b60a-9a709aa1a101|[\"No Action Required\"]                                                          |1            |caa921fb-cb67-47ac-9c70-ae04fa7d40c6|\n|0370c39d-5f00-424e-ba8d-d5b9b0304b3d|972022ca-1e2b-4c3a-b56e-68ea756c0751|f46753af-a232-4c6a-a268-638504897c97|[\"Clinical services binder, POA retention forms, pharmacy technician protocols\"]|1            |null                                |\n|038f606c-8b39-4e23-b90b-e276f821613c|edcd8325-31eb-43a0-9f7c-a76aa30f54d9|57c50f5e-df29-4a11-af9d-06e29ab11747|[\"No\"]                                                                          |1            |null                                |\n|03ee5f3a-bbd6-402f-a7b7-c9a784b872e7|1af76439-45c4-492f-87c8-09c03781259e|57c50f5e-df29-4a11-af9d-06e29ab11747|[\"Yes\"]                                                                         |1            |null                                |\n|041927a5-063d-4d7d-9409-cde3adb1819a|1af76439-45c4-492f-87c8-09c03781259e|4f842804-7da0-4a18-afb3-696c7b1a0991|[\"\\\\+1 \\\\(412\\\\) 565-5026\",null,\"US\"]                                           |1            |null                                |\n|04835f7f-e92b-4290-b696-f33ba8c37e5f|fe67e58e-ef41-4ca0-9415-ace529958b8f|15088ebb-2cd2-40c2-9ba6-58bdad9255ee|[\"No\"]                                                                          |1            |null                                |\n|04e00d0c-92e7-4dac-9e92-0c8d5520bc6b|62e5a5a8-3ad7-4486-9c53-591145b86cef|b98305e1-e911-4a98-9541-df6094937a75|[\"Information Only\"]                                                            |1            |null                                |\n|04ffacba-f696-4e45-9f9d-799340e485d7|fe67e58e-ef41-4ca0-9415-ace529958b8f|4f842804-7da0-4a18-afb3-696c7b1a0991|[\"\\\\+1 \\\\(202\\\\) 535-2298\",null,\"US\"]                                           |1            |null                                |\n|060cc750-6a23-4eb1-a939-e4e51adecd81|db4b57c9-fd76-4d48-9e88-d9224b91589b|4f842804-7da0-4a18-afb3-696c7b1a0991|[\"\\\\+1 \\\\(617\\\\) 973-0800\",null,\"US\"]                                           |1            |null                                |\n|07111e72-858a-4e28-a076-06400e488d78|972022ca-1e2b-4c3a-b56e-68ea756c0751|a0da99e6-5f30-48d4-a8f9-ae892e4c93d9|[\"02/14/2019\"]                                                                  |1            |null                                |\n+------------------------------------+------------------------------------+------------------------------------+--------------------------------------------------------------------------------+-------------+------------------------------------+\nonly showing top 20 rows\n\n"
    }
   ],
   "source": [
    "responseAttribute = responsesDF.select(\"responseid\", col(\"submissionid\").alias(\"responseSubmissionId\"), \"fieldid\", col(\"value\").alias(\"responseValue\"), col(\"order\").alias(\"responseOrder\"), col(\"taskid\").alias(\"responseTaskId\"))\n",
    "responseAttribute.show(truncate=False)"
   ]
  },
  {
   "cell_type": "code",
   "execution_count": 84,
   "metadata": {},
   "outputs": [
    {
     "data": {
      "text/plain": "DataFrame[taskId: string, title: string, description: string, status: string, submissionid: string, sectionId: string]"
     },
     "execution_count": 84,
     "metadata": {},
     "output_type": "execute_result"
    }
   ],
   "source": [
    "# Load data from tasks table for workflowid='a0ab07fa-fe40-4eb5-bdef-5b505defd91a'\n",
    "#table = \"(SELECT workflowid, count(1) as cnt from reach.tasks group by workflowid) AS t\"\n",
    "table = \"(SELECT taskId, title, description, status, submissionid, sectionId from reach.tasks where workflowid='a611477c-41f1-4a9e-9721-d7afeaf55099' and workflowVersion<11) AS t\"\n",
    "\n",
    "tasksDF = spark.read.jdbc(url, table, properties=properties)\n",
    "tasksDF.cache()"
   ]
  },
  {
   "cell_type": "code",
   "execution_count": 85,
   "metadata": {},
   "outputs": [
    {
     "name": "stdout",
     "output_type": "stream",
     "text": "+------------------------------------+----------------------------------------------+----------------+----------+------------------------------------+\n|taskId                              |taskTitle                                     |taskDescription |taskStatus|submissionId                        |\n+------------------------------------+----------------------------------------------+----------------+----------+------------------------------------+\n|12c51745-5dd3-43fb-8fa1-13c889ce076d|Passed inspection                             |Completed/Closed|completed |1af76439-45c4-492f-87c8-09c03781259e|\n|1b9a7b1e-f0ed-411c-9987-a02cb727bd61|Inspection                                    |Completed/Closed|completed |c548e4b9-d45b-4913-8da9-cfb8a9c3e077|\n|33e52299-ab8d-4c4a-9ca4-e112e872234e|alarm system                                  |Completed/Closed|completed |5dc916e3-aa2b-48a1-a86d-2b4eafa2c546|\n|3e150b21-a9d7-47af-929e-15f35a5dca5a|Fire Department Inspection                    |Completed/Closed|completed |c43e61a9-f219-4557-98e4-f20e7000d6ca|\n|5e635aee-c343-4e4c-b7c5-d79aeb54242c|Emergency access keys storage                 |Completed/Closed|completed |5dc916e3-aa2b-48a1-a86d-2b4eafa2c546|\n|b6c8f59c-d2f5-4969-82f9-1f850247954a|Called the BOP to unlink Patient from NarxCare|Completed/Closed|completed |62e5a5a8-3ad7-4486-9c53-591145b86cef|\n|caa921fb-cb67-47ac-9c70-ae04fa7d40c6|Inspection                                    |Completed/Closed|completed |db4b57c9-fd76-4d48-9e88-d9224b91589b|\n|ff22f9b1-735e-429b-9732-589669c4c6dc|Sent to Lauren and Stratt                     |Completed/Closed|completed |452e8ecb-be5d-4944-bb27-7a2040700c8c|\n+------------------------------------+----------------------------------------------+----------------+----------+------------------------------------+\n\n"
    },
    {
     "data": {
      "text/plain": "8"
     },
     "execution_count": 85,
     "metadata": {},
     "output_type": "execute_result"
    }
   ],
   "source": [
    "tasksDF.select(\"taskId\", col(\"title\").alias(\"taskTitle\"), col(\"description\").alias(\"taskDescription\"), col(\"status\").alias(\"taskStatus\"), \"submissionId\").show(truncate=False)\n",
    "tasksDF.count()"
   ]
  },
  {
   "cell_type": "code",
   "execution_count": 103,
   "metadata": {},
   "outputs": [
    {
     "name": "stdout",
     "output_type": "stream",
     "text": "+------------------------------------+----------------------------------------------+----------------+----------+------------------------------------+\n|taskId                              |taskTitle                                     |taskDescription |taskStatus|taskSubmissionId                    |\n+------------------------------------+----------------------------------------------+----------------+----------+------------------------------------+\n|12c51745-5dd3-43fb-8fa1-13c889ce076d|Passed inspection                             |Completed/Closed|completed |1af76439-45c4-492f-87c8-09c03781259e|\n|1b9a7b1e-f0ed-411c-9987-a02cb727bd61|Inspection                                    |Completed/Closed|completed |c548e4b9-d45b-4913-8da9-cfb8a9c3e077|\n|33e52299-ab8d-4c4a-9ca4-e112e872234e|alarm system                                  |Completed/Closed|completed |5dc916e3-aa2b-48a1-a86d-2b4eafa2c546|\n|3e150b21-a9d7-47af-929e-15f35a5dca5a|Fire Department Inspection                    |Completed/Closed|completed |c43e61a9-f219-4557-98e4-f20e7000d6ca|\n|5e635aee-c343-4e4c-b7c5-d79aeb54242c|Emergency access keys storage                 |Completed/Closed|completed |5dc916e3-aa2b-48a1-a86d-2b4eafa2c546|\n|b6c8f59c-d2f5-4969-82f9-1f850247954a|Called the BOP to unlink Patient from NarxCare|Completed/Closed|completed |62e5a5a8-3ad7-4486-9c53-591145b86cef|\n|caa921fb-cb67-47ac-9c70-ae04fa7d40c6|Inspection                                    |Completed/Closed|completed |db4b57c9-fd76-4d48-9e88-d9224b91589b|\n|ff22f9b1-735e-429b-9732-589669c4c6dc|Sent to Lauren and Stratt                     |Completed/Closed|completed |452e8ecb-be5d-4944-bb27-7a2040700c8c|\n+------------------------------------+----------------------------------------------+----------------+----------+------------------------------------+\n\n"
    }
   ],
   "source": [
    "taskAttribute = tasksDF.select(\"taskId\", col(\"title\").alias(\"taskTitle\"), col(\"description\").alias(\"taskDescription\"), col(\"status\").alias(\"taskStatus\"), col(\"submissionId\").alias(\"taskSubmissionId\"))\n",
    "taskAttribute.show(truncate=False)"
   ]
  },
  {
   "cell_type": "code",
   "execution_count": 131,
   "metadata": {},
   "outputs": [
    {
     "name": "stdout",
     "output_type": "stream",
     "text": "<bound method DataFrame.printSchema of DataFrame[workflowid: string, workflowversion: bigint, dyn_additional_details_additional_comments: string, dyn_additional_details_contact_type: string, dyn_additional_details_date_fees_paid: string, dyn_additional_details_date_fines_paid: string, dyn_additional_details_fees_issued: string, dyn_additional_details_fees_paid: string, dyn_additional_details_fines_issued: string, dyn_additional_details_fines_paid: string, dyn_additional_documents_additional_documents: string, dyn_assignment_notes_assigned_team: string, dyn_assignment_notes_assigned_to: string, dyn_assignment_notes_insufficient_paperwork: string, dyn_assignment_notes_non_health_and_wellness_contact: string, dyn_board_orders_discipline_removed: string, dyn_board_orders_permit_discipline: string, dyn_board_orders_type_of_discipline_removed: string, dyn_documents_from_regulator_documents: string, dyn_facility_information_associateinformation: string, dyn_facility_information_facilitystore: string, dyn_inspector39s_contact_information_inspector_email: string, dyn_inspector39s_contact_information_inspector_name: string, dyn_inspector39s_contact_information_inspector_phone_number: string, dyn_observation_assign_to_role: string, dyn_observation_corrective_action: string, dyn_observation_dependentdropdownlist: string, dyn_observation_is_corrective_action_required: string, dyn_observation_observation_description: string, dyn_observation_observation_name: string, dyn_observation_reason_for_no_action: string, dyn_observation_response_due_date: string, dyn_observation_response_required: string, dyn_observation_response_submitted_date: string, dyn_observation_status: string, dyn_observation_was_this_in_facility_control: string, dyn_regulatory_agency_contact_agency_level: string, dyn_regulatory_agency_contact_agency_name: string, dyn_regulatory_agency_contact_comments: string, dyn_regulatory_agency_contact_date_of_contact: string, dyn_regulatory_agency_contact_did_the_inspector_leave_any_paperwork: string, dyn_regulatory_agency_contact_did_you_provide_any_documents_to_the_inspector: string, dyn_regulatory_agency_contact_method_of_contact: string, dyn_regulatory_agency_contact_subject_matter_area: string]>\n<bound method DataFrame.printSchema of DataFrame[workflowid: string, workflowversion: int, workflowname: string, workflowdescription: string]>\n<bound method DataFrame.printSchema of DataFrame[submissionid: string, submissionCurrentStep: int, submissionWorkflowId: string, submissionWorkflowVersion: int, submissionCreatedTs: timestamp, submissionLastUpdatedTs: timestamp, recordid: string, submissionCountryCode: string]>\n<bound method DataFrame.printSchema of DataFrame[responseid: string, responseSubmissionId: string, fieldid: string, responseValue: string, responseOrder: int, responseTaskId: string]>\n<bound method DataFrame.printSchema of DataFrame[taskId: string, taskTitle: string, taskDescription: string, taskStatus: string, taskSubmissionId: string]>\n"
    }
   ],
   "source": [
    "print(workflowSchemaPivot.printSchema)\n",
    "print(templatesNonSchemaAttribute.printSchema)\n",
    "print(submissionAttribute.printSchema)\n",
    "print(responseAttribute.printSchema)\n",
    "print(taskAttribute.printSchema)"
   ]
  },
  {
   "cell_type": "code",
   "execution_count": 124,
   "metadata": {},
   "outputs": [
    {
     "name": "stdout",
     "output_type": "stream",
     "text": "+------------------------------------+---------------+---------------------------------------+-------------------------------------------------------------------------------------------+------------------------------------+---------------------+-------------------+-----------------------+---------+---------------------+\n|workflowid                          |workflowversion|workflowname                           |workflowdescription                                                                        |submissionid                        |submissionCurrentStep|submissionCreatedTs|submissionLastUpdatedTs|recordId |submissionCountryCode|\n+------------------------------------+---------------+---------------------------------------+-------------------------------------------------------------------------------------------+------------------------------------+---------------------+-------------------+-----------------------+---------+---------------------+\n|a611477c-41f1-4a9e-9721-d7afeaf55099|5              |Health and Wellness Regulatory Contacts|Track and monitor government agency contacts for Health and Wellness areas in US facilities|de7aa31a-9185-4f62-8df8-1e97c5528961|4                    |2019-02-12 16:04:45|2019-02-12 17:10:29    |b02f-ce16|US                   |\n|a611477c-41f1-4a9e-9721-d7afeaf55099|5              |Health and Wellness Regulatory Contacts|Track and monitor government agency contacts for Health and Wellness areas in US facilities|1b545335-885b-440c-8e03-bf3e9f411855|3                    |2019-02-12 15:18:52|2019-02-14 16:45:14    |8111-cf7c|US                   |\n|a611477c-41f1-4a9e-9721-d7afeaf55099|7              |Health and Wellness Regulatory Contacts|Track and monitor government agency contacts for Health and Wellness areas in US facilities|edcd8325-31eb-43a0-9f7c-a76aa30f54d9|4                    |2019-02-12 17:14:48|2019-02-12 17:40:35    |e595-9459|US                   |\n|a611477c-41f1-4a9e-9721-d7afeaf55099|7              |Health and Wellness Regulatory Contacts|Track and monitor government agency contacts for Health and Wellness areas in US facilities|8104962f-9702-41c9-ad1f-dcc2281f7014|4                    |2019-02-12 16:44:35|2019-02-12 20:54:27    |88cd-f096|US                   |\n|a611477c-41f1-4a9e-9721-d7afeaf55099|9              |Health and Wellness Regulatory Contacts|Track and monitor government agency contacts for Health and Wellness areas in US facilities|05855f2d-e9f7-4d7b-b9d2-28b45da429d0|4                    |2019-02-12 19:51:04|2019-04-15 14:47:11    |ba16-20f8|US                   |\n|a611477c-41f1-4a9e-9721-d7afeaf55099|10             |Health and Wellness Regulatory Contacts|Track and monitor government agency contacts for Health and Wellness areas in US facilities|fe67e58e-ef41-4ca0-9415-ace529958b8f|4                    |2019-02-13 14:14:02|2019-04-25 19:16:23    |5666-20dd|US                   |\n|a611477c-41f1-4a9e-9721-d7afeaf55099|10             |Health and Wellness Regulatory Contacts|Track and monitor government agency contacts for Health and Wellness areas in US facilities|db4b57c9-fd76-4d48-9e88-d9224b91589b|4                    |2019-02-13 20:44:03|2019-02-13 21:51:45    |6615-9463|US                   |\n|a611477c-41f1-4a9e-9721-d7afeaf55099|10             |Health and Wellness Regulatory Contacts|Track and monitor government agency contacts for Health and Wellness areas in US facilities|c548e4b9-d45b-4913-8da9-cfb8a9c3e077|4                    |2019-02-13 18:00:51|2019-02-13 21:59:41    |f24b-213b|US                   |\n|a611477c-41f1-4a9e-9721-d7afeaf55099|10             |Health and Wellness Regulatory Contacts|Track and monitor government agency contacts for Health and Wellness areas in US facilities|c43e61a9-f219-4557-98e4-f20e7000d6ca|4                    |2019-02-13 14:42:47|2019-02-13 17:15:45    |b361-895c|US                   |\n|a611477c-41f1-4a9e-9721-d7afeaf55099|10             |Health and Wellness Regulatory Contacts|Track and monitor government agency contacts for Health and Wellness areas in US facilities|a6b3d895-f0a2-4cf4-9f00-316e102071cf|4                    |2019-02-13 21:58:44|2019-02-14 16:34:32    |fc6b-4a21|US                   |\n+------------------------------------+---------------+---------------------------------------+-------------------------------------------------------------------------------------------+------------------------------------+---------------------+-------------------+-----------------------+---------+---------------------+\nonly showing top 10 rows\n\n"
    }
   ],
   "source": [
    "#workflowSchemaPivot\n",
    "#templatesNonSchemaAttribute\n",
    "#submissionAttribute\n",
    "#responseAttribute\n",
    "#taskAttribute\n",
    "\n",
    "#Join templatesNonSchemaAttribute with submissionAttribute\n",
    "templateSubmissionJoin = templatesNonSchemaAttribute.join(submissionAttribute, (templatesNonSchemaAttribute.workflowid == submissionAttribute.submissionWorkflowId) & (templatesNonSchemaAttribute.workflowversion == submissionAttribute.submissionWorkflowVersion), how=\"inner\")\\\n",
    "    .select(\"workflowid\", \"workflowversion\", \"workflowname\", \"workflowdescription\", \"submissionid\", \"submissionCurrentStep\", \"submissionCreatedTs\", \"submissionLastUpdatedTs\", \"recordId\", \"submissionCountryCode\")\n",
    "\n",
    "templateSubmissionJoin.show(10, truncate=False)"
   ]
  },
  {
   "cell_type": "code",
   "execution_count": 115,
   "metadata": {},
   "outputs": [
    {
     "name": "stdout",
     "output_type": "stream",
     "text": "+------------------------------------+------------------------------------+-------------+------------------------------------+---------------------------------------------------------------------------------------------------------------------+\n|responseId                          |responseSubmissionId                |responseOrder|responseTaskIdCoalesced             |fieldIdValue                                                                                                         |\n+------------------------------------+------------------------------------+-------------+------------------------------------+---------------------------------------------------------------------------------------------------------------------+\n|003dd09a-2604-4488-a4b2-20df2c3c73f4|5dc916e3-aa2b-48a1-a86d-2b4eafa2c546|1            |                                    |a0da99e6-5f30-48d4-a8f9-ae892e4c93d9:[\"02/13/2019\"]                                                                  |\n|00e268f3-9bea-4509-8248-0aff857fef23|c548e4b9-d45b-4913-8da9-cfb8a9c3e077|1            |1b9a7b1e-f0ed-411c-9987-a02cb727bd61|3a5a2bc3-dffc-458c-a073-9f68c2059655:[]                                                                              |\n|0123577d-414f-4887-9bd6-aae2562d33e3|1af76439-45c4-492f-87c8-09c03781259e|1            |                                    |ec40e637-292d-4b67-a5a2-44167d9f7823:[\"edpeck@pa\\\\.gov\"]                                                             |\n|016b9136-7316-49e6-be3e-5cd56850ca60|db4b57c9-fd76-4d48-9e88-d9224b91589b|1            |caa921fb-cb67-47ac-9c70-ae04fa7d40c6|3a5a2bc3-dffc-458c-a073-9f68c2059655:[]                                                                              |\n|01a2016e-3e1b-4f7a-bb7b-8d899b4b8fd9|c43e61a9-f219-4557-98e4-f20e7000d6ca|1            |3e150b21-a9d7-47af-929e-15f35a5dca5a|57c211f6-9b84-439f-8984-538534537a66:[]                                                                              |\n|01d544b4-6785-4112-8e05-a7f39e0a6666|452e8ecb-be5d-4944-bb27-7a2040700c8c|1            |ff22f9b1-735e-429b-9732-589669c4c6dc|50df1dd0-4eea-45b0-8a52-af78ffdef8f6:[null]                                                                          |\n|01e3f4f4-0140-498b-91c4-b3ecc2a5ddb0|452e8ecb-be5d-4944-bb27-7a2040700c8c|1            |                                    |b98305e1-e911-4a98-9541-df6094937a75:[\"Inspection - No violation\"]                                                   |\n|022a5c9d-6e70-44d1-8af7-8ccbf72d272e|edcd8325-31eb-43a0-9f7c-a76aa30f54d9|1            |                                    |c8c49e4a-1b22-43fc-a4be-e7c6d4a4f9ef:[\"On-site\"]                                                                     |\n|02964d44-5266-412c-9d5d-1d6ff6d2a1d3|db4b57c9-fd76-4d48-9e88-d9224b91589b|1            |caa921fb-cb67-47ac-9c70-ae04fa7d40c6|33a5a586-3f18-442b-bb3c-212c70e25b96:[\"Inspection Passed\"]                                                           |\n|02c56fd3-e27f-4dc2-931b-115d9743aa21|c548e4b9-d45b-4913-8da9-cfb8a9c3e077|1            |1b9a7b1e-f0ed-411c-9987-a02cb727bd61|57c211f6-9b84-439f-8984-538534537a66:[]                                                                              |\n|0310f577-2eb8-4d18-8f6a-018826efae9e|db4b57c9-fd76-4d48-9e88-d9224b91589b|1            |caa921fb-cb67-47ac-9c70-ae04fa7d40c6|60ba161a-b56f-4979-b60a-9a709aa1a101:[\"No Action Required\"]                                                          |\n|0370c39d-5f00-424e-ba8d-d5b9b0304b3d|972022ca-1e2b-4c3a-b56e-68ea756c0751|1            |                                    |f46753af-a232-4c6a-a268-638504897c97:[\"Clinical services binder, POA retention forms, pharmacy technician protocols\"]|\n|038f606c-8b39-4e23-b90b-e276f821613c|edcd8325-31eb-43a0-9f7c-a76aa30f54d9|1            |                                    |57c50f5e-df29-4a11-af9d-06e29ab11747:[\"No\"]                                                                          |\n|03ee5f3a-bbd6-402f-a7b7-c9a784b872e7|1af76439-45c4-492f-87c8-09c03781259e|1            |                                    |57c50f5e-df29-4a11-af9d-06e29ab11747:[\"Yes\"]                                                                         |\n|041927a5-063d-4d7d-9409-cde3adb1819a|1af76439-45c4-492f-87c8-09c03781259e|1            |                                    |4f842804-7da0-4a18-afb3-696c7b1a0991:[\"\\\\+1 \\\\(412\\\\) 565-5026\",null,\"US\"]                                           |\n|04835f7f-e92b-4290-b696-f33ba8c37e5f|fe67e58e-ef41-4ca0-9415-ace529958b8f|1            |                                    |15088ebb-2cd2-40c2-9ba6-58bdad9255ee:[\"No\"]                                                                          |\n|04e00d0c-92e7-4dac-9e92-0c8d5520bc6b|62e5a5a8-3ad7-4486-9c53-591145b86cef|1            |                                    |b98305e1-e911-4a98-9541-df6094937a75:[\"Information Only\"]                                                            |\n|04ffacba-f696-4e45-9f9d-799340e485d7|fe67e58e-ef41-4ca0-9415-ace529958b8f|1            |                                    |4f842804-7da0-4a18-afb3-696c7b1a0991:[\"\\\\+1 \\\\(202\\\\) 535-2298\",null,\"US\"]                                           |\n|060cc750-6a23-4eb1-a939-e4e51adecd81|db4b57c9-fd76-4d48-9e88-d9224b91589b|1            |                                    |4f842804-7da0-4a18-afb3-696c7b1a0991:[\"\\\\+1 \\\\(617\\\\) 973-0800\",null,\"US\"]                                           |\n|07111e72-858a-4e28-a076-06400e488d78|972022ca-1e2b-4c3a-b56e-68ea756c0751|1            |                                    |a0da99e6-5f30-48d4-a8f9-ae892e4c93d9:[\"02/14/2019\"]                                                                  |\n+------------------------------------+------------------------------------+-------------+------------------------------------+---------------------------------------------------------------------------------------------------------------------+\nonly showing top 20 rows\n\n"
    }
   ],
   "source": [
    "from pyspark.sql.functions import concat, coalesce\n",
    "#Self aggregate response to create a map\n",
    "responseAttributeConcat = responseAttribute.withColumn(\"fieldIdValue\", concat('fieldId', lit(':'), 'responseValue'))\\\n",
    "    .withColumn(\"responseTaskIdCoalesced\", coalesce(\"responseTaskId\", lit(\"\")))\\\n",
    "    .select('responseId', 'responseSubmissionId', 'responseOrder', 'responseTaskIdCoalesced', 'fieldIdValue')\n",
    "#responseAttribute.filter(isnull(\"responseTaskId\")).show(truncate=False)\n",
    "\n",
    "responseAttributeConcat.show(truncate=False)\n"
   ]
  },
  {
   "cell_type": "code",
   "execution_count": 123,
   "metadata": {},
   "outputs": [
    {
     "name": "stdout",
     "output_type": "stream",
     "text": "+------------------------------------+------------------------------------+------------------------------------------------------------------------------------------------------------------------------------------------------------------------------------+\n|responseSubmissionId                |responseTaskIdCoalesced             |fieldIdValues                                                                                                                                                                       |\n+------------------------------------+------------------------------------+------------------------------------------------------------------------------------------------------------------------------------------------------------------------------------+\n|5dc916e3-aa2b-48a1-a86d-2b4eafa2c546|                                    |[a0da99e6-5f30-48d4-a8f9-ae892e4c93d9:[\"02/13/2019\"]]                                                                                                                               |\n|c548e4b9-d45b-4913-8da9-cfb8a9c3e077|1b9a7b1e-f0ed-411c-9987-a02cb727bd61|[3a5a2bc3-dffc-458c-a073-9f68c2059655:[], 57c211f6-9b84-439f-8984-538534537a66:[]]                                                                                                  |\n|1af76439-45c4-492f-87c8-09c03781259e|                                    |[ec40e637-292d-4b67-a5a2-44167d9f7823:[\"edpeck@pa\\\\.gov\"], 4f842804-7da0-4a18-afb3-696c7b1a0991:[\"\\\\+1 \\\\(412\\\\) 565-5026\",null,\"US\"], 57c50f5e-df29-4a11-af9d-06e29ab11747:[\"Yes\"]]|\n|db4b57c9-fd76-4d48-9e88-d9224b91589b|caa921fb-cb67-47ac-9c70-ae04fa7d40c6|[3a5a2bc3-dffc-458c-a073-9f68c2059655:[], 60ba161a-b56f-4979-b60a-9a709aa1a101:[\"No Action Required\"], 33a5a586-3f18-442b-bb3c-212c70e25b96:[\"Inspection Passed\"]]                  |\n|c43e61a9-f219-4557-98e4-f20e7000d6ca|3e150b21-a9d7-47af-929e-15f35a5dca5a|[57c211f6-9b84-439f-8984-538534537a66:[]]                                                                                                                                           |\n|452e8ecb-be5d-4944-bb27-7a2040700c8c|ff22f9b1-735e-429b-9732-589669c4c6dc|[50df1dd0-4eea-45b0-8a52-af78ffdef8f6:[null]]                                                                                                                                       |\n|452e8ecb-be5d-4944-bb27-7a2040700c8c|                                    |[b98305e1-e911-4a98-9541-df6094937a75:[\"Inspection - No violation\"]]                                                                                                                |\n|edcd8325-31eb-43a0-9f7c-a76aa30f54d9|                                    |[c8c49e4a-1b22-43fc-a4be-e7c6d4a4f9ef:[\"On-site\"], 57c50f5e-df29-4a11-af9d-06e29ab11747:[\"No\"]]                                                                                     |\n|972022ca-1e2b-4c3a-b56e-68ea756c0751|                                    |[f46753af-a232-4c6a-a268-638504897c97:[\"Clinical services binder, POA retention forms, pharmacy technician protocols\"], a0da99e6-5f30-48d4-a8f9-ae892e4c93d9:[\"02/14/2019\"]]        |\n|fe67e58e-ef41-4ca0-9415-ace529958b8f|                                    |[15088ebb-2cd2-40c2-9ba6-58bdad9255ee:[\"No\"], 4f842804-7da0-4a18-afb3-696c7b1a0991:[\"\\\\+1 \\\\(202\\\\) 535-2298\",null,\"US\"]]                                                           |\n|62e5a5a8-3ad7-4486-9c53-591145b86cef|                                    |[b98305e1-e911-4a98-9541-df6094937a75:[\"Information Only\"]]                                                                                                                         |\n|db4b57c9-fd76-4d48-9e88-d9224b91589b|                                    |[4f842804-7da0-4a18-afb3-696c7b1a0991:[\"\\\\+1 \\\\(617\\\\) 973-0800\",null,\"US\"]]                                                                                                        |\n+------------------------------------+------------------------------------+------------------------------------------------------------------------------------------------------------------------------------------------------------------------------------+\n\n"
    }
   ],
   "source": [
    "from pyspark.sql.functions import collect_set\n",
    "#Aggregate all the fieldIdValue for a combination of submissionId, taskId into a single record\n",
    "responseAggregateRecord = responseAttributeConcat.limit(20).groupBy(\"responseSubmissionId\", \"responseTaskIdCoalesced\")\\\n",
    "                            .agg(collect_set(\"fieldIdValue\").alias(\"fieldIdValues\"))\n",
    "                        \n",
    "responseAggregateRecord.show(truncate=False)"
   ]
  },
  {
   "cell_type": "code",
   "execution_count": 140,
   "metadata": {},
   "outputs": [
    {
     "name": "stdout",
     "output_type": "stream",
     "text": "+------------------------------------+-------------------------+------------------------------------+------------------------------------+------------------------------------------------------------------------------------------------------------------------------------------------------------------------------------+\n|submissionWorkflowId                |submissionWorkflowVersion|submissionid                        |responseTaskIdCoalesced             |fieldIdValues                                                                                                                                                                       |\n+------------------------------------+-------------------------+------------------------------------+------------------------------------+------------------------------------------------------------------------------------------------------------------------------------------------------------------------------------+\n|a611477c-41f1-4a9e-9721-d7afeaf55099|7                        |edcd8325-31eb-43a0-9f7c-a76aa30f54d9|                                    |[c8c49e4a-1b22-43fc-a4be-e7c6d4a4f9ef:[\"On-site\"], 57c50f5e-df29-4a11-af9d-06e29ab11747:[\"No\"]]                                                                                     |\n|a611477c-41f1-4a9e-9721-d7afeaf55099|10                       |fe67e58e-ef41-4ca0-9415-ace529958b8f|                                    |[15088ebb-2cd2-40c2-9ba6-58bdad9255ee:[\"No\"], 4f842804-7da0-4a18-afb3-696c7b1a0991:[\"\\\\+1 \\\\(202\\\\) 535-2298\",null,\"US\"]]                                                           |\n|a611477c-41f1-4a9e-9721-d7afeaf55099|10                       |db4b57c9-fd76-4d48-9e88-d9224b91589b|                                    |[4f842804-7da0-4a18-afb3-696c7b1a0991:[\"\\\\+1 \\\\(617\\\\) 973-0800\",null,\"US\"]]                                                                                                        |\n|a611477c-41f1-4a9e-9721-d7afeaf55099|10                       |db4b57c9-fd76-4d48-9e88-d9224b91589b|caa921fb-cb67-47ac-9c70-ae04fa7d40c6|[3a5a2bc3-dffc-458c-a073-9f68c2059655:[], 60ba161a-b56f-4979-b60a-9a709aa1a101:[\"No Action Required\"], 33a5a586-3f18-442b-bb3c-212c70e25b96:[\"Inspection Passed\"]]                  |\n|a611477c-41f1-4a9e-9721-d7afeaf55099|10                       |c548e4b9-d45b-4913-8da9-cfb8a9c3e077|1b9a7b1e-f0ed-411c-9987-a02cb727bd61|[3a5a2bc3-dffc-458c-a073-9f68c2059655:[], 57c211f6-9b84-439f-8984-538534537a66:[]]                                                                                                  |\n|a611477c-41f1-4a9e-9721-d7afeaf55099|10                       |c43e61a9-f219-4557-98e4-f20e7000d6ca|3e150b21-a9d7-47af-929e-15f35a5dca5a|[57c211f6-9b84-439f-8984-538534537a66:[]]                                                                                                                                           |\n|a611477c-41f1-4a9e-9721-d7afeaf55099|10                       |972022ca-1e2b-4c3a-b56e-68ea756c0751|                                    |[f46753af-a232-4c6a-a268-638504897c97:[\"Clinical services binder, POA retention forms, pharmacy technician protocols\"], a0da99e6-5f30-48d4-a8f9-ae892e4c93d9:[\"02/14/2019\"]]        |\n|a611477c-41f1-4a9e-9721-d7afeaf55099|10                       |62e5a5a8-3ad7-4486-9c53-591145b86cef|                                    |[b98305e1-e911-4a98-9541-df6094937a75:[\"Information Only\"]]                                                                                                                         |\n|a611477c-41f1-4a9e-9721-d7afeaf55099|10                       |5dc916e3-aa2b-48a1-a86d-2b4eafa2c546|                                    |[a0da99e6-5f30-48d4-a8f9-ae892e4c93d9:[\"02/13/2019\"]]                                                                                                                               |\n|a611477c-41f1-4a9e-9721-d7afeaf55099|10                       |452e8ecb-be5d-4944-bb27-7a2040700c8c|                                    |[b98305e1-e911-4a98-9541-df6094937a75:[\"Inspection - No violation\"]]                                                                                                                |\n|a611477c-41f1-4a9e-9721-d7afeaf55099|10                       |452e8ecb-be5d-4944-bb27-7a2040700c8c|ff22f9b1-735e-429b-9732-589669c4c6dc|[50df1dd0-4eea-45b0-8a52-af78ffdef8f6:[null]]                                                                                                                                       |\n|a611477c-41f1-4a9e-9721-d7afeaf55099|10                       |1af76439-45c4-492f-87c8-09c03781259e|                                    |[ec40e637-292d-4b67-a5a2-44167d9f7823:[\"edpeck@pa\\\\.gov\"], 4f842804-7da0-4a18-afb3-696c7b1a0991:[\"\\\\+1 \\\\(412\\\\) 565-5026\",null,\"US\"], 57c50f5e-df29-4a11-af9d-06e29ab11747:[\"Yes\"]]|\n+------------------------------------+-------------------------+------------------------------------+------------------------------------+------------------------------------------------------------------------------------------------------------------------------------------------------------------------------------+\n\n"
    }
   ],
   "source": [
    "#Join templateSubmissionJoin with responseAggregateRecord\n",
    "submissionResponseJoin = templateSubmissionJoin.join(responseAggregateRecord, (templateSubmissionJoin.submissionid == responseAggregateRecord.responseSubmissionId), how='inner')\\\n",
    "    .select(col(\"workflowId\").alias('submissionWorkflowId'), col(\"workflowVersion\").alias('submissionWorkflowVersion'), \"submissionid\", \"responseTaskIdCoalesced\", \"fieldIdValues\")\n",
    "\n",
    "submissionResponseJoin.show(truncate=False)"
   ]
  },
  {
   "cell_type": "code",
   "execution_count": 132,
   "metadata": {},
   "outputs": [
    {
     "name": "stdout",
     "output_type": "stream",
     "text": "+------------------------------------+---------------+------------------------------------+-----------------------------------------------------------+\n|workflowid                          |workflowversion|fieldid                             |title                                                      |\n+------------------------------------+---------------+------------------------------------+-----------------------------------------------------------+\n|a611477c-41f1-4a9e-9721-d7afeaf55099|1              |4f842804-7da0-4a18-afb3-696c7b1a0991|dyn_inspector39s_contact_information_inspector_phone_number|\n|a611477c-41f1-4a9e-9721-d7afeaf55099|1              |57c50f5e-df29-4a11-af9d-06e29ab11747|dyn_assignment_notes_insufficient_paperwork                |\n|a611477c-41f1-4a9e-9721-d7afeaf55099|1              |b98305e1-e911-4a98-9541-df6094937a75|dyn_additional_details_contact_type                        |\n|a611477c-41f1-4a9e-9721-d7afeaf55099|2              |4f842804-7da0-4a18-afb3-696c7b1a0991|dyn_inspector39s_contact_information_inspector_phone_number|\n|a611477c-41f1-4a9e-9721-d7afeaf55099|2              |57c50f5e-df29-4a11-af9d-06e29ab11747|dyn_assignment_notes_insufficient_paperwork                |\n|a611477c-41f1-4a9e-9721-d7afeaf55099|2              |b98305e1-e911-4a98-9541-df6094937a75|dyn_additional_details_contact_type                        |\n|a611477c-41f1-4a9e-9721-d7afeaf55099|3              |4f842804-7da0-4a18-afb3-696c7b1a0991|dyn_inspector39s_contact_information_inspector_phone_number|\n|a611477c-41f1-4a9e-9721-d7afeaf55099|3              |57c50f5e-df29-4a11-af9d-06e29ab11747|dyn_assignment_notes_insufficient_paperwork                |\n|a611477c-41f1-4a9e-9721-d7afeaf55099|3              |b98305e1-e911-4a98-9541-df6094937a75|dyn_additional_details_contact_type                        |\n|a611477c-41f1-4a9e-9721-d7afeaf55099|4              |4f842804-7da0-4a18-afb3-696c7b1a0991|dyn_inspector39s_contact_information_inspector_phone_number|\n+------------------------------------+---------------+------------------------------------+-----------------------------------------------------------+\nonly showing top 10 rows\n\n"
    }
   ],
   "source": [
    "#Trying to flatten the table for following 3 columns\n",
    "#4f842804-7da0-4a18-afb3-696c7b1a0991 > dyn_inspector39s_contact_information_inspector_phone_number\n",
    "#57c50f5e-df29-4a11-af9d-06e29ab11747 > dyn_assignment_notes_insufficient_paperwork\n",
    "#b98305e1-e911-4a98-9541-df6094937a75 > dyn_additional_details_contact_type\n",
    "\n",
    "#Need to figure out the column names for following fieldIds\n",
    "workflowTemplateSchema.filter(col(\"fieldid\").isin('4f842804-7da0-4a18-afb3-696c7b1a0991','57c50f5e-df29-4a11-af9d-06e29ab11747','b98305e1-e911-4a98-9541-df6094937a75'))\\\n",
    "    .show(10, truncate=False)"
   ]
  },
  {
   "cell_type": "code",
   "execution_count": 134,
   "metadata": {},
   "outputs": [
    {
     "name": "stdout",
     "output_type": "stream",
     "text": "+------------------------------------+---------------+-----------------------------------------------------------+-------------------------------------------+------------------------------------+\n|workflowid                          |workflowversion|dyn_inspector39s_contact_information_inspector_phone_number|dyn_assignment_notes_insufficient_paperwork|dyn_additional_details_contact_type |\n+------------------------------------+---------------+-----------------------------------------------------------+-------------------------------------------+------------------------------------+\n|a611477c-41f1-4a9e-9721-d7afeaf55099|1              |4f842804-7da0-4a18-afb3-696c7b1a0991                       |57c50f5e-df29-4a11-af9d-06e29ab11747       |b98305e1-e911-4a98-9541-df6094937a75|\n|a611477c-41f1-4a9e-9721-d7afeaf55099|2              |4f842804-7da0-4a18-afb3-696c7b1a0991                       |57c50f5e-df29-4a11-af9d-06e29ab11747       |b98305e1-e911-4a98-9541-df6094937a75|\n|a611477c-41f1-4a9e-9721-d7afeaf55099|3              |4f842804-7da0-4a18-afb3-696c7b1a0991                       |57c50f5e-df29-4a11-af9d-06e29ab11747       |b98305e1-e911-4a98-9541-df6094937a75|\n|a611477c-41f1-4a9e-9721-d7afeaf55099|4              |4f842804-7da0-4a18-afb3-696c7b1a0991                       |57c50f5e-df29-4a11-af9d-06e29ab11747       |b98305e1-e911-4a98-9541-df6094937a75|\n|a611477c-41f1-4a9e-9721-d7afeaf55099|5              |4f842804-7da0-4a18-afb3-696c7b1a0991                       |57c50f5e-df29-4a11-af9d-06e29ab11747       |b98305e1-e911-4a98-9541-df6094937a75|\n|a611477c-41f1-4a9e-9721-d7afeaf55099|6              |4f842804-7da0-4a18-afb3-696c7b1a0991                       |57c50f5e-df29-4a11-af9d-06e29ab11747       |b98305e1-e911-4a98-9541-df6094937a75|\n|a611477c-41f1-4a9e-9721-d7afeaf55099|7              |4f842804-7da0-4a18-afb3-696c7b1a0991                       |57c50f5e-df29-4a11-af9d-06e29ab11747       |b98305e1-e911-4a98-9541-df6094937a75|\n|a611477c-41f1-4a9e-9721-d7afeaf55099|8              |4f842804-7da0-4a18-afb3-696c7b1a0991                       |57c50f5e-df29-4a11-af9d-06e29ab11747       |b98305e1-e911-4a98-9541-df6094937a75|\n|a611477c-41f1-4a9e-9721-d7afeaf55099|9              |4f842804-7da0-4a18-afb3-696c7b1a0991                       |57c50f5e-df29-4a11-af9d-06e29ab11747       |b98305e1-e911-4a98-9541-df6094937a75|\n|a611477c-41f1-4a9e-9721-d7afeaf55099|10             |4f842804-7da0-4a18-afb3-696c7b1a0991                       |57c50f5e-df29-4a11-af9d-06e29ab11747       |b98305e1-e911-4a98-9541-df6094937a75|\n+------------------------------------+---------------+-----------------------------------------------------------+-------------------------------------------+------------------------------------+\n\n"
    }
   ],
   "source": [
    "###*************************DEBUG*************************###\n",
    "workflowSchemaPivot.select(\"workflowid\", \"workflowversion\", \"dyn_inspector39s_contact_information_inspector_phone_number\", \"dyn_assignment_notes_insufficient_paperwork\", \"dyn_additional_details_contact_type\").show(truncate=False)"
   ]
  },
  {
   "cell_type": "code",
   "execution_count": 139,
   "metadata": {},
   "outputs": [
    {
     "name": "stdout",
     "output_type": "stream",
     "text": "workflowid\nworkflowversion\ndyn_additional_details_additional_comments\ndyn_additional_details_contact_type\ndyn_additional_details_date_fees_paid\ndyn_additional_details_date_fines_paid\ndyn_additional_details_fees_issued\ndyn_additional_details_fees_paid\ndyn_additional_details_fines_issued\ndyn_additional_details_fines_paid\ndyn_additional_documents_additional_documents\ndyn_assignment_notes_assigned_team\ndyn_assignment_notes_assigned_to\ndyn_assignment_notes_insufficient_paperwork\ndyn_assignment_notes_non_health_and_wellness_contact\ndyn_board_orders_discipline_removed\ndyn_board_orders_permit_discipline\ndyn_board_orders_type_of_discipline_removed\ndyn_documents_from_regulator_documents\ndyn_facility_information_associateinformation\ndyn_facility_information_facilitystore\ndyn_inspector39s_contact_information_inspector_email\ndyn_inspector39s_contact_information_inspector_name\ndyn_inspector39s_contact_information_inspector_phone_number\ndyn_observation_assign_to_role\ndyn_observation_corrective_action\ndyn_observation_dependentdropdownlist\ndyn_observation_is_corrective_action_required\ndyn_observation_observation_description\ndyn_observation_observation_name\ndyn_observation_reason_for_no_action\ndyn_observation_response_due_date\ndyn_observation_response_required\ndyn_observation_response_submitted_date\ndyn_observation_status\ndyn_observation_was_this_in_facility_control\ndyn_regulatory_agency_contact_agency_level\ndyn_regulatory_agency_contact_agency_name\ndyn_regulatory_agency_contact_comments\ndyn_regulatory_agency_contact_date_of_contact\ndyn_regulatory_agency_contact_did_the_inspector_leave_any_paperwork\ndyn_regulatory_agency_contact_did_you_provide_any_documents_to_the_inspector\ndyn_regulatory_agency_contact_method_of_contact\ndyn_regulatory_agency_contact_subject_matter_area\n"
    }
   ],
   "source": [
    "###*************************DEBUG*************************###\n",
    "for elem in workflowSchemaPivot.schema.names:\n",
    "    print(elem)"
   ]
  },
  {
   "cell_type": "code",
   "execution_count": 219,
   "metadata": {},
   "outputs": [
    {
     "name": "stdout",
     "output_type": "stream",
     "text": "+------------------------------------+---------------+------------------------------------+------------------------------------+------------------------------------------------------------------------------------------------------------------------------------------------------------------------------------+-----------------------------------------------------------+-------------------------------------------+------------------------------------+\n|workflowId                          |workflowVersion|submissionId                        |responseTaskIdCoalesced             |fieldIdValues                                                                                                                                                                       |dyn_inspector39s_contact_information_inspector_phone_number|dyn_assignment_notes_insufficient_paperwork|dyn_additional_details_contact_type |\n+------------------------------------+---------------+------------------------------------+------------------------------------+------------------------------------------------------------------------------------------------------------------------------------------------------------------------------------+-----------------------------------------------------------+-------------------------------------------+------------------------------------+\n|a611477c-41f1-4a9e-9721-d7afeaf55099|7              |edcd8325-31eb-43a0-9f7c-a76aa30f54d9|                                    |[c8c49e4a-1b22-43fc-a4be-e7c6d4a4f9ef:[\"On-site\"], 57c50f5e-df29-4a11-af9d-06e29ab11747:[\"No\"]]                                                                                     |4f842804-7da0-4a18-afb3-696c7b1a0991                       |57c50f5e-df29-4a11-af9d-06e29ab11747       |b98305e1-e911-4a98-9541-df6094937a75|\n|a611477c-41f1-4a9e-9721-d7afeaf55099|10             |fe67e58e-ef41-4ca0-9415-ace529958b8f|                                    |[15088ebb-2cd2-40c2-9ba6-58bdad9255ee:[\"No\"], 4f842804-7da0-4a18-afb3-696c7b1a0991:[\"\\\\+1 \\\\(202\\\\) 535-2298\",null,\"US\"]]                                                           |4f842804-7da0-4a18-afb3-696c7b1a0991                       |57c50f5e-df29-4a11-af9d-06e29ab11747       |b98305e1-e911-4a98-9541-df6094937a75|\n|a611477c-41f1-4a9e-9721-d7afeaf55099|10             |db4b57c9-fd76-4d48-9e88-d9224b91589b|                                    |[4f842804-7da0-4a18-afb3-696c7b1a0991:[\"\\\\+1 \\\\(617\\\\) 973-0800\",null,\"US\"]]                                                                                                        |4f842804-7da0-4a18-afb3-696c7b1a0991                       |57c50f5e-df29-4a11-af9d-06e29ab11747       |b98305e1-e911-4a98-9541-df6094937a75|\n|a611477c-41f1-4a9e-9721-d7afeaf55099|10             |db4b57c9-fd76-4d48-9e88-d9224b91589b|caa921fb-cb67-47ac-9c70-ae04fa7d40c6|[3a5a2bc3-dffc-458c-a073-9f68c2059655:[], 60ba161a-b56f-4979-b60a-9a709aa1a101:[\"No Action Required\"], 33a5a586-3f18-442b-bb3c-212c70e25b96:[\"Inspection Passed\"]]                  |4f842804-7da0-4a18-afb3-696c7b1a0991                       |57c50f5e-df29-4a11-af9d-06e29ab11747       |b98305e1-e911-4a98-9541-df6094937a75|\n|a611477c-41f1-4a9e-9721-d7afeaf55099|10             |c548e4b9-d45b-4913-8da9-cfb8a9c3e077|1b9a7b1e-f0ed-411c-9987-a02cb727bd61|[3a5a2bc3-dffc-458c-a073-9f68c2059655:[], 57c211f6-9b84-439f-8984-538534537a66:[]]                                                                                                  |4f842804-7da0-4a18-afb3-696c7b1a0991                       |57c50f5e-df29-4a11-af9d-06e29ab11747       |b98305e1-e911-4a98-9541-df6094937a75|\n|a611477c-41f1-4a9e-9721-d7afeaf55099|10             |c43e61a9-f219-4557-98e4-f20e7000d6ca|3e150b21-a9d7-47af-929e-15f35a5dca5a|[57c211f6-9b84-439f-8984-538534537a66:[]]                                                                                                                                           |4f842804-7da0-4a18-afb3-696c7b1a0991                       |57c50f5e-df29-4a11-af9d-06e29ab11747       |b98305e1-e911-4a98-9541-df6094937a75|\n|a611477c-41f1-4a9e-9721-d7afeaf55099|10             |972022ca-1e2b-4c3a-b56e-68ea756c0751|                                    |[f46753af-a232-4c6a-a268-638504897c97:[\"Clinical services binder, POA retention forms, pharmacy technician protocols\"], a0da99e6-5f30-48d4-a8f9-ae892e4c93d9:[\"02/14/2019\"]]        |4f842804-7da0-4a18-afb3-696c7b1a0991                       |57c50f5e-df29-4a11-af9d-06e29ab11747       |b98305e1-e911-4a98-9541-df6094937a75|\n|a611477c-41f1-4a9e-9721-d7afeaf55099|10             |62e5a5a8-3ad7-4486-9c53-591145b86cef|                                    |[b98305e1-e911-4a98-9541-df6094937a75:[\"Information Only\"]]                                                                                                                         |4f842804-7da0-4a18-afb3-696c7b1a0991                       |57c50f5e-df29-4a11-af9d-06e29ab11747       |b98305e1-e911-4a98-9541-df6094937a75|\n|a611477c-41f1-4a9e-9721-d7afeaf55099|10             |5dc916e3-aa2b-48a1-a86d-2b4eafa2c546|                                    |[a0da99e6-5f30-48d4-a8f9-ae892e4c93d9:[\"02/13/2019\"]]                                                                                                                               |4f842804-7da0-4a18-afb3-696c7b1a0991                       |57c50f5e-df29-4a11-af9d-06e29ab11747       |b98305e1-e911-4a98-9541-df6094937a75|\n|a611477c-41f1-4a9e-9721-d7afeaf55099|10             |452e8ecb-be5d-4944-bb27-7a2040700c8c|                                    |[b98305e1-e911-4a98-9541-df6094937a75:[\"Inspection - No violation\"]]                                                                                                                |4f842804-7da0-4a18-afb3-696c7b1a0991                       |57c50f5e-df29-4a11-af9d-06e29ab11747       |b98305e1-e911-4a98-9541-df6094937a75|\n|a611477c-41f1-4a9e-9721-d7afeaf55099|10             |452e8ecb-be5d-4944-bb27-7a2040700c8c|ff22f9b1-735e-429b-9732-589669c4c6dc|[50df1dd0-4eea-45b0-8a52-af78ffdef8f6:[null]]                                                                                                                                       |4f842804-7da0-4a18-afb3-696c7b1a0991                       |57c50f5e-df29-4a11-af9d-06e29ab11747       |b98305e1-e911-4a98-9541-df6094937a75|\n|a611477c-41f1-4a9e-9721-d7afeaf55099|10             |1af76439-45c4-492f-87c8-09c03781259e|                                    |[ec40e637-292d-4b67-a5a2-44167d9f7823:[\"edpeck@pa\\\\.gov\"], 4f842804-7da0-4a18-afb3-696c7b1a0991:[\"\\\\+1 \\\\(412\\\\) 565-5026\",null,\"US\"], 57c50f5e-df29-4a11-af9d-06e29ab11747:[\"Yes\"]]|4f842804-7da0-4a18-afb3-696c7b1a0991                       |57c50f5e-df29-4a11-af9d-06e29ab11747       |b98305e1-e911-4a98-9541-df6094937a75|\n+------------------------------------+---------------+------------------------------------+------------------------------------+------------------------------------------------------------------------------------------------------------------------------------------------------------------------------------+-----------------------------------------------------------+-------------------------------------------+------------------------------------+\n\n"
    }
   ],
   "source": [
    "###*************************DEBUG*************************###\n",
    "debugDF01 = submissionResponseJoin.join(workflowSchemaPivot, (submissionResponseJoin.submissionWorkflowId == workflowSchemaPivot.workflowid) & (submissionResponseJoin.submissionWorkflowVersion == workflowSchemaPivot.workflowversion), how='inner')\\\n",
    "    .drop('submissionWorkflowId')\\\n",
    "    .drop('submissionWorkflowVersion')\n",
    "    \n",
    "\n",
    "debugDF01.select('workflowId', 'workflowVersion','submissionId', 'responseTaskIdCoalesced', 'fieldIdValues', 'dyn_inspector39s_contact_information_inspector_phone_number', 'dyn_assignment_notes_insufficient_paperwork', 'dyn_additional_details_contact_type')\\\n",
    "    .show(30, truncate=False)"
   ]
  },
  {
   "cell_type": "code",
   "execution_count": 183,
   "metadata": {},
   "outputs": [
    {
     "name": "stdout",
     "output_type": "stream",
     "text": "c\n"
    }
   ],
   "source": [
    "#Map the fieldId value to the respective column\n",
    "def search_and_return(fieldId, listKeyValue):\n",
    "    returnValue = ''\n",
    "    for keyValue in listKeyValue:\n",
    "        key = keyValue.split(':')[0]\n",
    "        value = keyValue.split(':')[1]\n",
    "        if str(fieldId) == key:\n",
    "            returnValue = value\n",
    "    return returnValue\n",
    "    \n",
    "\n",
    "\n",
    "sampleKeyValueList = ['12:a', '11:b', '13:c']\n",
    "print(search_and_return(13, sampleKeyValueList))"
   ]
  },
  {
   "cell_type": "code",
   "execution_count": 185,
   "metadata": {},
   "outputs": [
    {
     "name": "stdout",
     "output_type": "stream",
     "text": "+------------------------------------+---------------+------------------------------------+------------------------------------+-----------------------------------------------------------+-------------------------------------------+-----------------------------------+\n|workflowid                          |workflowversion|submissionId                        |responseTaskIdCoalesced             |dyn_inspector39s_contact_information_inspector_phone_number|dyn_assignment_notes_insufficient_paperwork|dyn_additional_details_contact_type|\n+------------------------------------+---------------+------------------------------------+------------------------------------+-----------------------------------------------------------+-------------------------------------------+-----------------------------------+\n|a611477c-41f1-4a9e-9721-d7afeaf55099|7              |edcd8325-31eb-43a0-9f7c-a76aa30f54d9|                                    |                                                           |[\"No\"]                                     |                                   |\n|a611477c-41f1-4a9e-9721-d7afeaf55099|10             |fe67e58e-ef41-4ca0-9415-ace529958b8f|                                    |[\"\\\\+1 \\\\(202\\\\) 535-2298\",null,\"US\"]                      |                                           |                                   |\n|a611477c-41f1-4a9e-9721-d7afeaf55099|10             |db4b57c9-fd76-4d48-9e88-d9224b91589b|                                    |[\"\\\\+1 \\\\(617\\\\) 973-0800\",null,\"US\"]                      |                                           |                                   |\n|a611477c-41f1-4a9e-9721-d7afeaf55099|10             |db4b57c9-fd76-4d48-9e88-d9224b91589b|caa921fb-cb67-47ac-9c70-ae04fa7d40c6|                                                           |                                           |                                   |\n|a611477c-41f1-4a9e-9721-d7afeaf55099|10             |c548e4b9-d45b-4913-8da9-cfb8a9c3e077|1b9a7b1e-f0ed-411c-9987-a02cb727bd61|                                                           |                                           |                                   |\n|a611477c-41f1-4a9e-9721-d7afeaf55099|10             |c43e61a9-f219-4557-98e4-f20e7000d6ca|3e150b21-a9d7-47af-929e-15f35a5dca5a|                                                           |                                           |                                   |\n|a611477c-41f1-4a9e-9721-d7afeaf55099|10             |972022ca-1e2b-4c3a-b56e-68ea756c0751|                                    |                                                           |                                           |                                   |\n|a611477c-41f1-4a9e-9721-d7afeaf55099|10             |62e5a5a8-3ad7-4486-9c53-591145b86cef|                                    |                                                           |                                           |[\"Information Only\"]               |\n|a611477c-41f1-4a9e-9721-d7afeaf55099|10             |5dc916e3-aa2b-48a1-a86d-2b4eafa2c546|                                    |                                                           |                                           |                                   |\n|a611477c-41f1-4a9e-9721-d7afeaf55099|10             |452e8ecb-be5d-4944-bb27-7a2040700c8c|                                    |                                                           |                                           |[\"Inspection - No violation\"]      |\n|a611477c-41f1-4a9e-9721-d7afeaf55099|10             |452e8ecb-be5d-4944-bb27-7a2040700c8c|ff22f9b1-735e-429b-9732-589669c4c6dc|                                                           |                                           |                                   |\n|a611477c-41f1-4a9e-9721-d7afeaf55099|10             |1af76439-45c4-492f-87c8-09c03781259e|                                    |[\"\\\\+1 \\\\(412\\\\) 565-5026\",null,\"US\"]                      |[\"Yes\"]                                    |                                   |\n+------------------------------------+---------------+------------------------------------+------------------------------------+-----------------------------------------------------------+-------------------------------------------+-----------------------------------+\n\n"
    }
   ],
   "source": [
    "#Create a UDF out of the function\n",
    "search_and_return_udf = udf(search_and_return, StringType())\n",
    "\n",
    "debugDF01.withColumn(\"dyn_inspector39s_contact_information_inspector_phone_number\", search_and_return_udf(col('dyn_inspector39s_contact_information_inspector_phone_number'), 'fieldIdValues'))\\\n",
    "    .withColumn(\"dyn_assignment_notes_insufficient_paperwork\", search_and_return_udf(col('dyn_assignment_notes_insufficient_paperwork'), 'fieldIdValues'))\\\n",
    "    .withColumn(\"dyn_additional_details_contact_type\", search_and_return_udf(col('dyn_additional_details_contact_type'), 'fieldIdValues'))\\\n",
    "    .select('workflowid', 'workflowversion', 'submissionId', 'responseTaskIdCoalesced', 'dyn_inspector39s_contact_information_inspector_phone_number', 'dyn_assignment_notes_insufficient_paperwork', 'dyn_additional_details_contact_type')\\\n",
    "    .show(30, truncate=False)"
   ]
  },
  {
   "cell_type": "code",
   "execution_count": 172,
   "metadata": {},
   "outputs": [
    {
     "name": "stdout",
     "output_type": "stream",
     "text": "dyn_additional_details_additional_comments\ndyn_additional_details_contact_type\ndyn_additional_details_date_fees_paid\ndyn_additional_details_date_fines_paid\ndyn_additional_details_fees_issued\ndyn_additional_details_fees_paid\ndyn_additional_details_fines_issued\ndyn_additional_details_fines_paid\ndyn_additional_documents_additional_documents\ndyn_assignment_notes_assigned_team\ndyn_assignment_notes_assigned_to\ndyn_assignment_notes_insufficient_paperwork\ndyn_assignment_notes_non_health_and_wellness_contact\ndyn_board_orders_discipline_removed\ndyn_board_orders_permit_discipline\ndyn_board_orders_type_of_discipline_removed\ndyn_documents_from_regulator_documents\ndyn_facility_information_associateinformation\ndyn_facility_information_facilitystore\ndyn_inspector39s_contact_information_inspector_email\ndyn_inspector39s_contact_information_inspector_name\ndyn_inspector39s_contact_information_inspector_phone_number\ndyn_observation_assign_to_role\ndyn_observation_corrective_action\ndyn_observation_dependentdropdownlist\ndyn_observation_is_corrective_action_required\ndyn_observation_observation_description\ndyn_observation_observation_name\ndyn_observation_reason_for_no_action\ndyn_observation_response_due_date\ndyn_observation_response_required\ndyn_observation_response_submitted_date\ndyn_observation_status\ndyn_observation_was_this_in_facility_control\ndyn_regulatory_agency_contact_agency_level\ndyn_regulatory_agency_contact_agency_name\ndyn_regulatory_agency_contact_comments\ndyn_regulatory_agency_contact_date_of_contact\ndyn_regulatory_agency_contact_did_the_inspector_leave_any_paperwork\ndyn_regulatory_agency_contact_did_you_provide_any_documents_to_the_inspector\ndyn_regulatory_agency_contact_method_of_contact\ndyn_regulatory_agency_contact_subject_matter_area\n"
    }
   ],
   "source": [
    "#Making the replace process automated\n",
    "workflowSchemaDFColumnList = workflowSchemaPivot.schema.names\n",
    "dynamicColumnList = list(filter(lambda x: 'dyn_' in x, workflowSchemaDFColumnList))\n",
    "\n",
    "for colName in dynamicColumnList:\n",
    "    print(colName)"
   ]
  },
  {
   "cell_type": "code",
   "execution_count": 220,
   "metadata": {},
   "outputs": [
    {
     "name": "stdout",
     "output_type": "stream",
     "text": "+------------------------------------+---------------+------------------------------------+------------------------------------+-----------------------------------------------------------+-------------------------------------------+-----------------------------------+\n|workflowid                          |workflowversion|submissionId                        |responseTaskIdCoalesced             |dyn_inspector39s_contact_information_inspector_phone_number|dyn_assignment_notes_insufficient_paperwork|dyn_additional_details_contact_type|\n+------------------------------------+---------------+------------------------------------+------------------------------------+-----------------------------------------------------------+-------------------------------------------+-----------------------------------+\n|a611477c-41f1-4a9e-9721-d7afeaf55099|7              |edcd8325-31eb-43a0-9f7c-a76aa30f54d9|                                    |                                                           |[\"No\"]                                     |                                   |\n|a611477c-41f1-4a9e-9721-d7afeaf55099|10             |fe67e58e-ef41-4ca0-9415-ace529958b8f|                                    |[\"\\\\+1 \\\\(202\\\\) 535-2298\",null,\"US\"]                      |                                           |                                   |\n|a611477c-41f1-4a9e-9721-d7afeaf55099|10             |db4b57c9-fd76-4d48-9e88-d9224b91589b|                                    |[\"\\\\+1 \\\\(617\\\\) 973-0800\",null,\"US\"]                      |                                           |                                   |\n|a611477c-41f1-4a9e-9721-d7afeaf55099|10             |db4b57c9-fd76-4d48-9e88-d9224b91589b|caa921fb-cb67-47ac-9c70-ae04fa7d40c6|                                                           |                                           |                                   |\n|a611477c-41f1-4a9e-9721-d7afeaf55099|10             |c548e4b9-d45b-4913-8da9-cfb8a9c3e077|1b9a7b1e-f0ed-411c-9987-a02cb727bd61|                                                           |                                           |                                   |\n|a611477c-41f1-4a9e-9721-d7afeaf55099|10             |c43e61a9-f219-4557-98e4-f20e7000d6ca|3e150b21-a9d7-47af-929e-15f35a5dca5a|                                                           |                                           |                                   |\n|a611477c-41f1-4a9e-9721-d7afeaf55099|10             |972022ca-1e2b-4c3a-b56e-68ea756c0751|                                    |                                                           |                                           |                                   |\n|a611477c-41f1-4a9e-9721-d7afeaf55099|10             |62e5a5a8-3ad7-4486-9c53-591145b86cef|                                    |                                                           |                                           |[\"Information Only\"]               |\n|a611477c-41f1-4a9e-9721-d7afeaf55099|10             |5dc916e3-aa2b-48a1-a86d-2b4eafa2c546|                                    |                                                           |                                           |                                   |\n|a611477c-41f1-4a9e-9721-d7afeaf55099|10             |452e8ecb-be5d-4944-bb27-7a2040700c8c|                                    |                                                           |                                           |[\"Inspection - No violation\"]      |\n|a611477c-41f1-4a9e-9721-d7afeaf55099|10             |452e8ecb-be5d-4944-bb27-7a2040700c8c|ff22f9b1-735e-429b-9732-589669c4c6dc|                                                           |                                           |                                   |\n|a611477c-41f1-4a9e-9721-d7afeaf55099|10             |1af76439-45c4-492f-87c8-09c03781259e|                                    |[\"\\\\+1 \\\\(412\\\\) 565-5026\",null,\"US\"]                      |[\"Yes\"]                                    |                                   |\n+------------------------------------+---------------+------------------------------------+------------------------------------+-----------------------------------------------------------+-------------------------------------------+-----------------------------------+\n\n"
    }
   ],
   "source": [
    "#debugDF01.withColumn(F.col('dyn_inspector39s_contact_information_inspector_phone_number'), search_and_return_udf(F.col('dyn_inspector39s_contact_information_inspector_phone_number'), 'fieldIdValues'))\\\n",
    "debugDF03 = debugDF01\n",
    "\n",
    "for rName in dynamicColumnList:\n",
    "    debugDF03 = debugDF03.withColumn(rName, search_and_return_udf(col(rName), 'fieldIdValues'))\n",
    "#debugDF03 = debugDF03.withColumn(F.col('dyn_inspector39s_contact_information_inspector_phone_number'), search_and_return_udf(F.col('dyn_inspector39s_contact_information_inspector_phone_number'), 'fieldIdValues'))\n",
    "#debugDF03 = debugDF03.withColumn(F.col('dyn_inspector39s_contact_information_inspector_phone_number'), search_and_return_udf(F.col('dyn_inspector39s_contact_information_inspector_phone_number'), 'fieldIdValues'))\n",
    "\n",
    "#debugDF03 = debugDF03.withColumn('workflowId', lit('workflowId'))\n",
    "#debugDF03 = debugDF03.withColumn('workflowId', col('workflowId'))\n",
    "\n",
    "#debugDF03.withColumn('dyn_inspector39s_contact_information_inspector_phone_number', search_and_return_udf(F.col('dyn_inspector39s_contact_information_inspector_phone_number'), 'fieldIdValues'))\\\n",
    "debugDF03.select('workflowid', 'workflowversion', 'submissionId', 'responseTaskIdCoalesced', 'dyn_inspector39s_contact_information_inspector_phone_number', 'dyn_assignment_notes_insufficient_paperwork', 'dyn_additional_details_contact_type')\\\n",
    "    .show(30, truncate=False)"
   ]
  },
  {
   "cell_type": "code",
   "execution_count": null,
   "metadata": {},
   "outputs": [],
   "source": []
  },
  {
   "cell_type": "code",
   "execution_count": null,
   "metadata": {},
   "outputs": [],
   "source": []
  }
 ]
}