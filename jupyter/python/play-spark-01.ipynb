{
 "cells": [
  {
   "cell_type": "code",
   "execution_count": null,
   "metadata": {
    "collapsed": true,
    "jupyter": {
     "outputs_hidden": true
    }
   },
   "outputs": [],
   "source": [
    "import sys\n",
    "sys.path\n",
    "\n",
    "# Check python version\n",
    "!which python\n",
    "\n",
    "# Check for pyspark\n",
    "!pip show findspark"
   ]
  },
  {
   "cell_type": "markdown",
   "metadata": {},
   "source": [
    "### Using pip\n",
    "\n",
    "- [Reference](https://spark.apache.org/docs/latest/api/python/getting_started/install.html)\n",
    "- Create a new  `conda` environment\n",
    "\n",
    "  ```bash\n",
    "  conda create --name pyspark python=3.7\n",
    "  conda activate pyspark\n",
    "  conda deactivate\n",
    "  ```\n",
    "\n",
    "- Install specific `pyspark` version\n",
    "  - `pip index versions pyspark`\n",
    "  - `pip install pyspark==2.4.8`\n",
    "- Install addons\n",
    "  - Spark SQL\n",
    "    - `pip install pyspark[sql]`\n",
    "  - Pandas API with plotly\n",
    "    - `pip install pyspark[pandas_on_spark] plotly`\n",
    "  - To work with Jupyter notebooks\n",
    "    - `conda install -c conda-forge --name pyspark ipykernel -y`\n",
    "  - If want to use local spark library\n",
    "    - `conda install -c conda-forge findspark -y`"
   ]
  },
  {
   "cell_type": "code",
   "execution_count": null,
   "metadata": {},
   "outputs": [],
   "source": [
    "# If using local spark installation\n",
    "import findspark\n",
    "findspark.init()"
   ]
  },
  {
   "cell_type": "code",
   "execution_count": null,
   "metadata": {
    "collapsed": true,
    "jupyter": {
     "outputs_hidden": true
    }
   },
   "outputs": [],
   "source": [
    "import os\n",
    "# If you are using pip installed pySpark module then this value should not be set in the environment\n",
    "print(os.environ['SPARK_HOME'])\n",
    "\n",
    "# To delete an evironment variable\n",
    "!del os.environ['SPARK_HOME']"
   ]
  },
  {
   "cell_type": "code",
   "execution_count": null,
   "metadata": {},
   "outputs": [],
   "source": [
    "# import pyspark\n",
    "from pyspark import SparkContext\n",
    "sc=SparkContext()"
   ]
  },
  {
   "cell_type": "code",
   "execution_count": null,
   "metadata": {},
   "outputs": [],
   "source": [
    "# Create a sample RDD\n",
    "nums=sc.parallelize([1,2,3,4])\n",
    "nums.count()"
   ]
  },
  {
   "cell_type": "code",
   "execution_count": null,
   "metadata": {},
   "outputs": [],
   "source": [
    "nums1=nums.collect()\n",
    "for num in nums1:\n",
    "    print('%i ' % (num))"
   ]
  },
  {
   "cell_type": "code",
   "execution_count": null,
   "metadata": {},
   "outputs": [],
   "source": [
    "# Create a spark SQL session\n",
    "from pyspark.sql import SparkSession\n",
    "spark = SparkSession.builder.appName('example').master(\"local[*]\").getOrCreate()"
   ]
  },
  {
   "cell_type": "code",
   "execution_count": null,
   "metadata": {},
   "outputs": [],
   "source": [
    "# aggregate function\n",
    "listRDD = sc.parallelize([1,2,3,4, 5, 6], 2)\n",
    "\n",
    "# seqOp is equivalent to local combiner\n",
    "seqOp = (lambda local_result, list_element: (local_result[0] + list_element, local_result[1] + 1))\n",
    "\n",
    "# combOp is equivalent to reducer\n",
    "combOp = (lambda some_local_result, another_local_result: (some_local_result[0] + another_local_result[0], some_local_result[1] + another_local_result[1]) )\n",
    "\n",
    "listRDD.aggregate( (0, 0), seqOp, combOp)"
   ]
  },
  {
   "cell_type": "code",
   "execution_count": null,
   "metadata": {},
   "outputs": [],
   "source": [
    "print(sc.version)"
   ]
  }
 ],
 "metadata": {
  "interpreter": {
   "hash": "2c9fb072f613edaca6cc3b2b8ec9254cad5a4f389ef8b3da889f7e89fb69998e"
  },
  "kernelspec": {
   "display_name": "Python [conda env:spark]",
   "language": "python",
   "name": "python3"
  },
  "language_info": {
   "codemirror_mode": {
    "name": "ipython",
    "version": 3
   },
   "file_extension": ".py",
   "mimetype": "text/x-python",
   "name": "python",
   "nbconvert_exporter": "python",
   "pygments_lexer": "ipython3",
   "version": "3.7.11"
  }
 },
 "nbformat": 4,
 "nbformat_minor": 4
}
