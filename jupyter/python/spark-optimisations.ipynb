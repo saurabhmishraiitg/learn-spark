{
 "cells": [
  {
   "cell_type": "markdown",
   "id": "fed03ff8",
   "metadata": {},
   "source": [
    "# Spark Optimization\n",
    "\n",
    "## Getting Started\n",
    "\n",
    "- Create Conda Environment\n",
    "\n",
    "  ```bash\n",
    "  conda create -n spark python=3.11\n",
    "  conda update -n base conda\n",
    "  conda update python\n",
    "  pip install --upgrade pip\n",
    "  ```\n",
    "\n",
    "- Install PySpark\n",
    "\n",
    "  ```bash\n",
    "  pip install pyspark==3.5.5\n",
    "  ```\n",
    "\n",
    "- Install ipykernel Notebook\n",
    "\n",
    "  ```bash\n",
    "  pip install ipykernel\n",
    "  ```\n",
    "\n",
    "- Install wget to download remote files for processing\n",
    "\n",
    "  ```bash\n",
    "  pip install wget\n",
    "  ```"
   ]
  },
  {
   "cell_type": "code",
   "execution_count": 1,
   "id": "8aae56a2",
   "metadata": {},
   "outputs": [
    {
     "name": "stderr",
     "output_type": "stream",
     "text": [
      "Setting default log level to \"WARN\".\n",
      "To adjust logging level use sc.setLogLevel(newLevel). For SparkR, use setLogLevel(newLevel).\n",
      "25/05/12 07:44:39 WARN NativeCodeLoader: Unable to load native-hadoop library for your platform... using builtin-java classes where applicable\n",
      "25/05/12 07:44:39 WARN Utils: Service 'SparkUI' could not bind on port 4040. Attempting port 4041.\n"
     ]
    }
   ],
   "source": [
    "from pyspark.sql import SparkSession\n",
    "\n",
    "spark = (\n",
    "    SparkSession.builder.appName(\"spark-optimizations\")\n",
    "    .master(\"local[*]\")\n",
    "    .config(\"spark.sql.shuffle.partitions\", \"4\")\n",
    "    .getOrCreate()\n",
    ")"
   ]
  },
  {
   "cell_type": "code",
   "execution_count": 2,
   "id": "8ddc67ed",
   "metadata": {},
   "outputs": [
    {
     "data": {
      "text/plain": [
       "'/tmp/customers-100000.csv'"
      ]
     },
     "execution_count": 2,
     "metadata": {},
     "output_type": "execute_result"
    }
   ],
   "source": [
    "import wget\n",
    "import os\n",
    "\n",
    "# Sample CSV files - https://github.com/datablist/sample-csv-files?tab=readme-ov-file\n",
    "\n",
    "# url = \"https://dumps.wikimedia.org/other/clickstream/2017-11/clickstream-jawiki-2017-11.tsv.gz\"\n",
    "url = \"https://drive.google.com/uc?id=1N1xoxgcw2K3d-49tlchXAWw4wuxLj7EV&export=download\"\n",
    "tmp_dir = \"/tmp/\"\n",
    "local_path = tmp_dir + \"customers-100000.csv\"\n",
    "\n",
    "if os.path.exists(local_path):\n",
    "    os.remove(local_path)\n",
    "\n",
    "wget.download(url, local_path)"
   ]
  },
  {
   "cell_type": "code",
   "execution_count": null,
   "id": "354573c7",
   "metadata": {},
   "outputs": [
    {
     "name": "stderr",
     "output_type": "stream",
     "text": [
      "                                                                                \r"
     ]
    },
    {
     "name": "stdout",
     "output_type": "stream",
     "text": [
      "+-----+---------------+----------+----------+--------------------+--------------+--------------------+--------------------+--------------------+--------------------+-----------------+--------------------+\n",
      "|Index|    Customer Id|First Name| Last Name|             Company|          City|             Country|             Phone 1|             Phone 2|               Email|Subscription Date|             Website|\n",
      "+-----+---------------+----------+----------+--------------------+--------------+--------------------+--------------------+--------------------+--------------------+-----------------+--------------------+\n",
      "|    1|ffeCAb7AbcB0f07|     Jared|    Jarvis|    Sanchez-Fletcher| Hatfieldshire|             Eritrea|  274.188.8773x41185|001-215-760-4642x969|gabriellehartman@...|       2021-11-11|https://www.mccar...|\n",
      "|    2|b687FfC4F1600eC|     Marie|    Malone|           Mckay PLC|Robertsonburgh|            Botswana|        283-236-9529| (189)129-8356x63741|kstafford@sexton.com|       2021-05-14|http://www.reynol...|\n",
      "|    3|9FF9ACbc69dcF9c|    Elijah|   Barrera|      Marks and Sons|       Kimbury|            Barbados|          8252703789|   459-916-7241x0909|jeanettecross@bro...|       2021-03-17|   https://neal.com/|\n",
      "|    4|b49edDB1295FF6E|    Sheryl|Montgomery|Kirby, Vaughn and...|   Briannaview|Antarctica (the t...|        425.475.3586|       (392)819-9063|thomassierra@barr...|       2020-09-23|https://www.powel...|\n",
      "|    5|3dcCbFEB17CCf2E|    Jeremy|   Houston|      Lester-Manning| South Brianna|          Micronesia|+1-223-666-5313x4530|    252-488-3850x692|rubenwatkins@jaco...|       2020-09-18|https://www.carri...|\n",
      "+-----+---------------+----------+----------+--------------------+--------------+--------------------+--------------------+--------------------+--------------------+-----------------+--------------------+\n",
      "only showing top 5 rows\n",
      "\n"
     ]
    }
   ],
   "source": [
    "# load large dataset from online csv file\n",
    "df = spark.read.csv(\n",
    "    \"file://\" + local_path,\n",
    "    header=True,\n",
    "    inferSchema=True,\n",
    ")\n",
    "\n",
    "df.show(5)  # show the first 5 rows of the DataFrame"
   ]
  },
  {
   "cell_type": "code",
   "execution_count": null,
   "id": "728c3f6e",
   "metadata": {},
   "outputs": [
    {
     "name": "stderr",
     "output_type": "stream",
     "text": [
      "25/05/12 07:44:58 WARN CacheManager: Asked to cache already cached data.\n"
     ]
    },
    {
     "data": {
      "text/plain": [
       "DataFrame[Index: int, Customer Id: string, First Name: string, Last Name: string, Company: string, City: string, Country: string, Phone 1: string, Phone 2: string, Email: string, Subscription Date: date, Website: string]"
      ]
     },
     "execution_count": 4,
     "metadata": {},
     "output_type": "execute_result"
    }
   ],
   "source": [
    "# Cache and Persist Dataframe\n",
    "from pyspark import StorageLevel\n",
    "\n",
    "df.cache()  # Cache the DataFrame in memory\n",
    "df.persist(StorageLevel.MEMORY_AND_DISK)  # Persist the DataFrame in memory and disk\n",
    "df.unpersist()  # Unpersist the DataFrame from memory and disk"
   ]
  },
  {
   "cell_type": "code",
   "execution_count": 6,
   "id": "6ce10a56",
   "metadata": {},
   "outputs": [
    {
     "name": "stdout",
     "output_type": "stream",
     "text": [
      "+---------------+-----+----------+----------+--------------------+--------------+--------------------+--------------------+--------------------+--------------------+-----------------+--------------------+-----+----------+----------+--------------------+--------------+--------------------+--------------------+--------------------+--------------------+-----------------+--------------------+\n",
      "|    Customer Id|Index|First Name| Last Name|             Company|          City|             Country|             Phone 1|             Phone 2|               Email|Subscription Date|             Website|Index|First Name| Last Name|             Company|          City|             Country|             Phone 1|             Phone 2|               Email|Subscription Date|             Website|\n",
      "+---------------+-----+----------+----------+--------------------+--------------+--------------------+--------------------+--------------------+--------------------+-----------------+--------------------+-----+----------+----------+--------------------+--------------+--------------------+--------------------+--------------------+--------------------+-----------------+--------------------+\n",
      "|ffeCAb7AbcB0f07|    1|     Jared|    Jarvis|    Sanchez-Fletcher| Hatfieldshire|             Eritrea|  274.188.8773x41185|001-215-760-4642x969|gabriellehartman@...|       2021-11-11|https://www.mccar...|    1|     Jared|    Jarvis|    Sanchez-Fletcher| Hatfieldshire|             Eritrea|  274.188.8773x41185|001-215-760-4642x969|gabriellehartman@...|       2021-11-11|https://www.mccar...|\n",
      "|b687FfC4F1600eC|    2|     Marie|    Malone|           Mckay PLC|Robertsonburgh|            Botswana|        283-236-9529| (189)129-8356x63741|kstafford@sexton.com|       2021-05-14|http://www.reynol...|    2|     Marie|    Malone|           Mckay PLC|Robertsonburgh|            Botswana|        283-236-9529| (189)129-8356x63741|kstafford@sexton.com|       2021-05-14|http://www.reynol...|\n",
      "|9FF9ACbc69dcF9c|    3|    Elijah|   Barrera|      Marks and Sons|       Kimbury|            Barbados|          8252703789|   459-916-7241x0909|jeanettecross@bro...|       2021-03-17|   https://neal.com/|    3|    Elijah|   Barrera|      Marks and Sons|       Kimbury|            Barbados|          8252703789|   459-916-7241x0909|jeanettecross@bro...|       2021-03-17|   https://neal.com/|\n",
      "|b49edDB1295FF6E|    4|    Sheryl|Montgomery|Kirby, Vaughn and...|   Briannaview|Antarctica (the t...|        425.475.3586|       (392)819-9063|thomassierra@barr...|       2020-09-23|https://www.powel...|    4|    Sheryl|Montgomery|Kirby, Vaughn and...|   Briannaview|Antarctica (the t...|        425.475.3586|       (392)819-9063|thomassierra@barr...|       2020-09-23|https://www.powel...|\n",
      "|3dcCbFEB17CCf2E|    5|    Jeremy|   Houston|      Lester-Manning| South Brianna|          Micronesia|+1-223-666-5313x4530|    252-488-3850x692|rubenwatkins@jaco...|       2020-09-18|https://www.carri...|    5|    Jeremy|   Houston|      Lester-Manning| South Brianna|          Micronesia|+1-223-666-5313x4530|    252-488-3850x692|rubenwatkins@jaco...|       2020-09-18|https://www.carri...|\n",
      "+---------------+-----+----------+----------+--------------------+--------------+--------------------+--------------------+--------------------+--------------------+-----------------+--------------------+-----+----------+----------+--------------------+--------------+--------------------+--------------------+--------------------+--------------------+-----------------+--------------------+\n",
      "only showing top 5 rows\n",
      "\n"
     ]
    }
   ],
   "source": [
    "# Broadcast Join\n",
    "\n",
    "from pyspark.sql.functions import broadcast\n",
    "\n",
    "df_selfjoin = df.join(broadcast(df), \"Customer Id\")\n",
    "\n",
    "df_selfjoin.show(5)  # show the first 5 rows of the DataFrame"
   ]
  },
  {
   "cell_type": "code",
   "execution_count": 7,
   "id": "b53e19b9",
   "metadata": {},
   "outputs": [
    {
     "name": "stdout",
     "output_type": "stream",
     "text": [
      "+-----+---------------+----------+----------+--------------------+--------------+--------------------+--------------------+--------------------+--------------------+-----------------+--------------------+\n",
      "|Index|    Customer Id|First Name| Last Name|             Company|          City|             Country|             Phone 1|             Phone 2|               Email|Subscription Date|             Website|\n",
      "+-----+---------------+----------+----------+--------------------+--------------+--------------------+--------------------+--------------------+--------------------+-----------------+--------------------+\n",
      "|    1|ffeCAb7AbcB0f07|   Phone 2|    Jarvis|    Sanchez-Fletcher| Hatfieldshire|             Eritrea|  274.188.8773x41185|001-215-760-4642x969|gabriellehartman@...|       2021-11-11|https://www.mccar...|\n",
      "|    2|b687FfC4F1600eC|   Phone 2|    Malone|           Mckay PLC|Robertsonburgh|            Botswana|        283-236-9529| (189)129-8356x63741|kstafford@sexton.com|       2021-05-14|http://www.reynol...|\n",
      "|    3|9FF9ACbc69dcF9c|   Phone 1|   Barrera|      Marks and Sons|       Kimbury|            Barbados|          8252703789|   459-916-7241x0909|jeanettecross@bro...|       2021-03-17|   https://neal.com/|\n",
      "|    4|b49edDB1295FF6E|   Phone 1|Montgomery|Kirby, Vaughn and...|   Briannaview|Antarctica (the t...|        425.475.3586|       (392)819-9063|thomassierra@barr...|       2020-09-23|https://www.powel...|\n",
      "|    5|3dcCbFEB17CCf2E|   Phone 1|   Houston|      Lester-Manning| South Brianna|          Micronesia|+1-223-666-5313x4530|    252-488-3850x692|rubenwatkins@jaco...|       2020-09-18|https://www.carri...|\n",
      "+-----+---------------+----------+----------+--------------------+--------------+--------------------+--------------------+--------------------+--------------------+-----------------+--------------------+\n",
      "only showing top 5 rows\n",
      "\n"
     ]
    }
   ],
   "source": [
    "from pyspark.sql.functions import when\n",
    "\n",
    "df.withColumn(\"First Name\", when(df[\"Index\"] > 2, \"Phone 1\").otherwise(\"Phone 2\")).show(5)"
   ]
  }
 ],
 "metadata": {
  "kernelspec": {
   "display_name": "spark",
   "language": "python",
   "name": "python3"
  },
  "language_info": {
   "codemirror_mode": {
    "name": "ipython",
    "version": 3
   },
   "file_extension": ".py",
   "mimetype": "text/x-python",
   "name": "python",
   "nbconvert_exporter": "python",
   "pygments_lexer": "ipython3",
   "version": "3.11.12"
  }
 },
 "nbformat": 4,
 "nbformat_minor": 5
}
