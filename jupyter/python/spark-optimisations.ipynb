{
 "cells": [
  {
   "cell_type": "markdown",
   "id": "fed03ff8",
   "metadata": {},
   "source": [
    "# Spark Optimization\n",
    "\n",
    "## Getting Started\n",
    "\n",
    "- Create Conda Environment\n",
    "\n",
    "  ```bash\n",
    "  conda create -n spark python=3.11\n",
    "  conda update -n base conda\n",
    "  conda update python\n",
    "  pip install --upgrade pip\n",
    "  ```\n",
    "\n",
    "- Install PySpark\n",
    "\n",
    "  ```bash\n",
    "  pip install pyspark==3.5.5\n",
    "  ```\n",
    "\n",
    "- Install ipykernel Notebook\n",
    "\n",
    "  ```bash\n",
    "  pip install ipykernel\n",
    "  ```\n",
    "\n",
    "- Install wget to download remote files for processing\n",
    "\n",
    "  ```bash\n",
    "  pip install wget\n",
    "  ```"
   ]
  },
  {
   "cell_type": "code",
   "execution_count": null,
   "id": "8ddc67ed",
   "metadata": {},
   "outputs": [
    {
     "data": {
      "text/plain": [
       "'/tmp/clickstream-jawiki-2017-11.tsv.gz'"
      ]
     },
     "execution_count": 1,
     "metadata": {},
     "output_type": "execute_result"
    }
   ],
   "source": [
    "import wget\n",
    "\n",
    "url = \"https://dumps.wikimedia.org/other/clickstream/2017-11/clickstream-jawiki-2017-11.tsv.gz\"\n",
    "tmp_dir = \"/tmp/\"\n",
    "local_path = tmp_dir+\"clickstream-jawiki-2017-11.tsv.gz\"\n",
    "wget.download(url, local_path)\n"
   ]
  },
  {
   "cell_type": "code",
   "execution_count": null,
   "id": "354573c7",
   "metadata": {},
   "outputs": [
    {
     "name": "stderr",
     "output_type": "stream",
     "text": [
      "Setting default log level to \"WARN\".\n",
      "To adjust logging level use sc.setLogLevel(newLevel). For SparkR, use setLogLevel(newLevel).\n",
      "25/05/12 07:29:59 WARN NativeCodeLoader: Unable to load native-hadoop library for your platform... using builtin-java classes where applicable\n",
      "25/05/12 07:30:00 WARN Utils: Service 'SparkUI' could not bind on port 4040. Attempting port 4041.\n",
      "[Stage 1:>                                                          (0 + 1) / 1]\r"
     ]
    },
    {
     "name": "stdout",
     "output_type": "stream",
     "text": [
      "+-------------------------------------------+\n",
      "|other-empty\\tラジオテレタイプ\\texternal\\t60|\n",
      "+-------------------------------------------+\n",
      "|                    other-search\\tラジオ...|\n",
      "|               PSK31\\tラジオテレタイプ\\t...|\n",
      "|                      other-external\\t御...|\n",
      "|                    other-empty\\t御馳走\\...|\n",
      "|                    other-search\\t御馳走...|\n",
      "+-------------------------------------------+\n",
      "only showing top 5 rows\n",
      "\n"
     ]
    },
    {
     "name": "stderr",
     "output_type": "stream",
     "text": [
      "                                                                                \r"
     ]
    }
   ],
   "source": [
    "from pyspark.sql import SparkSession\n",
    "\n",
    "spark = (\n",
    "    SparkSession.builder.appName(\"spark-optimizations\")\n",
    "    .master(\"local[*]\")\n",
    "    .config(\"spark.sql.shuffle.partitions\", \"4\")\n",
    "    .getOrCreate()\n",
    ")\n",
    "\n",
    "# load large dataset from online csv file\n",
    "df = spark.read.csv(\n",
    "    \"file://\" + local_path,\n",
    "    header=True,\n",
    "    inferSchema=True,\n",
    ")\n",
    "\n",
    "df.show(5)  # show the first 5 rows of the DataFrame"
   ]
  }
 ],
 "metadata": {
  "kernelspec": {
   "display_name": "spark",
   "language": "python",
   "name": "python3"
  },
  "language_info": {
   "codemirror_mode": {
    "name": "ipython",
    "version": 3
   },
   "file_extension": ".py",
   "mimetype": "text/x-python",
   "name": "python",
   "nbconvert_exporter": "python",
   "pygments_lexer": "ipython3",
   "version": "3.11.12"
  }
 },
 "nbformat": 4,
 "nbformat_minor": 5
}
