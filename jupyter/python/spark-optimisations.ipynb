{
 "cells": [
  {
   "cell_type": "markdown",
   "id": "fed03ff8",
   "metadata": {},
   "source": [
    "# Spark Optimization\n",
    "\n",
    "## Getting Started\n",
    "\n",
    "- Create Conda Environment\n",
    "\n",
    "  ```bash\n",
    "  conda create -n spark python=3.11\n",
    "  conda update -n base conda\n",
    "  conda update python\n",
    "  pip install --upgrade pip\n",
    "  ```\n",
    "\n",
    "- Install PySpark\n",
    "\n",
    "  ```bash\n",
    "  pip install pyspark==3.5.5\n",
    "  ```\n",
    "\n",
    "- Install ipykernel Notebook\n",
    "\n",
    "  ```bash\n",
    "  pip install ipykernel\n",
    "  ```\n",
    "\n",
    "- Install wget to download remote files for processing\n",
    "\n",
    "  ```bash\n",
    "  pip install wget\n",
    "  ```"
   ]
  },
  {
   "cell_type": "code",
   "execution_count": null,
   "id": "8aae56a2",
   "metadata": {},
   "outputs": [],
   "source": [
    "from pyspark.sql import SparkSession\n",
    "\n",
    "spark = (\n",
    "    SparkSession.builder.appName(\"spark-optimizations\")\n",
    "    .master(\"local[*]\")\n",
    "    .config(\"spark.sql.shuffle.partitions\", \"4\")\n",
    "    .getOrCreate()\n",
    ")"
   ]
  },
  {
   "cell_type": "code",
   "execution_count": null,
   "id": "8ddc67ed",
   "metadata": {},
   "outputs": [],
   "source": [
    "import wget\n",
    "import os\n",
    "\n",
    "# Sample CSV files - https://github.com/datablist/sample-csv-files?tab=readme-ov-file\n",
    "\n",
    "# url = \"https://dumps.wikimedia.org/other/clickstream/2017-11/clickstream-jawiki-2017-11.tsv.gz\"\n",
    "url = \"https://drive.google.com/uc?id=1N1xoxgcw2K3d-49tlchXAWw4wuxLj7EV&export=download\"\n",
    "tmp_dir = \"/tmp/\"\n",
    "local_path = tmp_dir + \"customers-100000.csv\"\n",
    "\n",
    "if os.path.exists(local_path):\n",
    "    os.remove(local_path)\n",
    "\n",
    "wget.download(url, local_path)"
   ]
  },
  {
   "cell_type": "code",
   "execution_count": null,
   "id": "354573c7",
   "metadata": {},
   "outputs": [],
   "source": [
    "# load large dataset from online csv file\n",
    "df = spark.read.csv(\n",
    "    \"file://\" + local_path,\n",
    "    header=True,\n",
    "    inferSchema=True,\n",
    ")\n",
    "\n",
    "df.show(5)  # show the first 5 rows of the DataFrame"
   ]
  },
  {
   "cell_type": "code",
   "execution_count": null,
   "id": "728c3f6e",
   "metadata": {},
   "outputs": [],
   "source": [
    "# Cache and Persist Dataframe\n",
    "from pyspark import StorageLevel\n",
    "\n",
    "df.cache()  # Cache the DataFrame in memory\n",
    "df.persist(StorageLevel.MEMORY_AND_DISK)  # Persist the DataFrame in memory and disk\n",
    "df.unpersist()  # Unpersist the DataFrame from memory and disk"
   ]
  },
  {
   "cell_type": "code",
   "execution_count": null,
   "id": "6ce10a56",
   "metadata": {},
   "outputs": [],
   "source": [
    "# Broadcast Join\n",
    "\n",
    "from pyspark.sql.functions import broadcast\n",
    "\n",
    "df_selfjoin = df.join(broadcast(df), \"Customer Id\")\n",
    "\n",
    "df_selfjoin.show(5)  # show the first 5 rows of the DataFrame"
   ]
  },
  {
   "cell_type": "code",
   "execution_count": null,
   "id": "b53e19b9",
   "metadata": {},
   "outputs": [],
   "source": [
    "from pyspark.sql.functions import when\n",
    "\n",
    "df.withColumn(\"First Name\", when(df[\"Index\"] > 2, \"Phone 1\").otherwise(\"Phone 2\")).show(5)"
   ]
  }
 ],
 "metadata": {
  "kernelspec": {
   "display_name": "spark",
   "language": "python",
   "name": "python3"
  },
  "language_info": {
   "codemirror_mode": {
    "name": "ipython",
    "version": 3
   },
   "file_extension": ".py",
   "mimetype": "text/x-python",
   "name": "python",
   "nbconvert_exporter": "python",
   "pygments_lexer": "ipython3",
   "version": "3.11.12"
  }
 },
 "nbformat": 4,
 "nbformat_minor": 5
}
